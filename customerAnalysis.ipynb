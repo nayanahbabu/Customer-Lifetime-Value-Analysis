{
 "cells": [
  {
   "cell_type": "markdown",
   "id": "f2b97762-f091-44d9-8d4f-1db7fe3b463a",
   "metadata": {},
   "source": [
    "Customer Lifetime Value Analysis"
   ]
  },
  {
   "cell_type": "code",
   "execution_count": 11,
   "id": "e59ba926-a307-4738-9fe2-c552c5b978f7",
   "metadata": {},
   "outputs": [],
   "source": [
    "import pandas as pd\n",
    "import matplotlib.pyplot as plt\n",
    "import plotly.express as px\n",
    "import plotly.graph_objs as go\n",
    "import plotly.io as pio\n",
    "pio.templates.default = \"plotly_white\""
   ]
  },
  {
   "cell_type": "code",
   "execution_count": 9,
   "id": "139607ff-4033-4032-948f-c5691fc184e3",
   "metadata": {},
   "outputs": [
    {
     "data": {
      "text/html": [
       "<div>\n",
       "<style scoped>\n",
       "    .dataframe tbody tr th:only-of-type {\n",
       "        vertical-align: middle;\n",
       "    }\n",
       "\n",
       "    .dataframe tbody tr th {\n",
       "        vertical-align: top;\n",
       "    }\n",
       "\n",
       "    .dataframe thead th {\n",
       "        text-align: right;\n",
       "    }\n",
       "</style>\n",
       "<table border=\"1\" class=\"dataframe\">\n",
       "  <thead>\n",
       "    <tr style=\"text-align: right;\">\n",
       "      <th></th>\n",
       "      <th>customer_id</th>\n",
       "      <th>channel</th>\n",
       "      <th>cost</th>\n",
       "      <th>conversion_rate</th>\n",
       "      <th>revenue</th>\n",
       "    </tr>\n",
       "  </thead>\n",
       "  <tbody>\n",
       "    <tr>\n",
       "      <th>0</th>\n",
       "      <td>1</td>\n",
       "      <td>referral</td>\n",
       "      <td>8.320327</td>\n",
       "      <td>0.123145</td>\n",
       "      <td>4199</td>\n",
       "    </tr>\n",
       "    <tr>\n",
       "      <th>1</th>\n",
       "      <td>2</td>\n",
       "      <td>paid advertising</td>\n",
       "      <td>30.450327</td>\n",
       "      <td>0.016341</td>\n",
       "      <td>3410</td>\n",
       "    </tr>\n",
       "    <tr>\n",
       "      <th>2</th>\n",
       "      <td>3</td>\n",
       "      <td>email marketing</td>\n",
       "      <td>5.246263</td>\n",
       "      <td>0.043822</td>\n",
       "      <td>3164</td>\n",
       "    </tr>\n",
       "    <tr>\n",
       "      <th>3</th>\n",
       "      <td>4</td>\n",
       "      <td>social media</td>\n",
       "      <td>9.546326</td>\n",
       "      <td>0.167592</td>\n",
       "      <td>1520</td>\n",
       "    </tr>\n",
       "    <tr>\n",
       "      <th>4</th>\n",
       "      <td>5</td>\n",
       "      <td>referral</td>\n",
       "      <td>8.320327</td>\n",
       "      <td>0.123145</td>\n",
       "      <td>2419</td>\n",
       "    </tr>\n",
       "    <tr>\n",
       "      <th>...</th>\n",
       "      <td>...</td>\n",
       "      <td>...</td>\n",
       "      <td>...</td>\n",
       "      <td>...</td>\n",
       "      <td>...</td>\n",
       "    </tr>\n",
       "    <tr>\n",
       "      <th>795</th>\n",
       "      <td>796</td>\n",
       "      <td>social media</td>\n",
       "      <td>9.546326</td>\n",
       "      <td>0.167592</td>\n",
       "      <td>2813</td>\n",
       "    </tr>\n",
       "    <tr>\n",
       "      <th>796</th>\n",
       "      <td>797</td>\n",
       "      <td>email marketing</td>\n",
       "      <td>5.246263</td>\n",
       "      <td>0.043822</td>\n",
       "      <td>3439</td>\n",
       "    </tr>\n",
       "    <tr>\n",
       "      <th>797</th>\n",
       "      <td>798</td>\n",
       "      <td>social media</td>\n",
       "      <td>9.546326</td>\n",
       "      <td>0.167592</td>\n",
       "      <td>2101</td>\n",
       "    </tr>\n",
       "    <tr>\n",
       "      <th>798</th>\n",
       "      <td>799</td>\n",
       "      <td>paid advertising</td>\n",
       "      <td>30.450327</td>\n",
       "      <td>0.016341</td>\n",
       "      <td>813</td>\n",
       "    </tr>\n",
       "    <tr>\n",
       "      <th>799</th>\n",
       "      <td>800</td>\n",
       "      <td>email marketing</td>\n",
       "      <td>5.246263</td>\n",
       "      <td>0.043822</td>\n",
       "      <td>4820</td>\n",
       "    </tr>\n",
       "  </tbody>\n",
       "</table>\n",
       "<p>800 rows × 5 columns</p>\n",
       "</div>"
      ],
      "text/plain": [
       "     customer_id           channel       cost  conversion_rate  revenue\n",
       "0              1          referral   8.320327         0.123145     4199\n",
       "1              2  paid advertising  30.450327         0.016341     3410\n",
       "2              3   email marketing   5.246263         0.043822     3164\n",
       "3              4      social media   9.546326         0.167592     1520\n",
       "4              5          referral   8.320327         0.123145     2419\n",
       "..           ...               ...        ...              ...      ...\n",
       "795          796      social media   9.546326         0.167592     2813\n",
       "796          797   email marketing   5.246263         0.043822     3439\n",
       "797          798      social media   9.546326         0.167592     2101\n",
       "798          799  paid advertising  30.450327         0.016341      813\n",
       "799          800   email marketing   5.246263         0.043822     4820\n",
       "\n",
       "[800 rows x 5 columns]"
      ]
     },
     "execution_count": 9,
     "metadata": {},
     "output_type": "execute_result"
    }
   ],
   "source": [
    "data = pd.read_csv(\"customer_acquisition_data.csv\")\n",
    "data"
   ]
  },
  {
   "cell_type": "code",
   "execution_count": 10,
   "id": "d8b88df2-0187-46d2-b030-b05fcf041fc8",
   "metadata": {},
   "outputs": [
    {
     "data": {
      "text/html": [
       "<div>\n",
       "<style scoped>\n",
       "    .dataframe tbody tr th:only-of-type {\n",
       "        vertical-align: middle;\n",
       "    }\n",
       "\n",
       "    .dataframe tbody tr th {\n",
       "        vertical-align: top;\n",
       "    }\n",
       "\n",
       "    .dataframe thead th {\n",
       "        text-align: right;\n",
       "    }\n",
       "</style>\n",
       "<table border=\"1\" class=\"dataframe\">\n",
       "  <thead>\n",
       "    <tr style=\"text-align: right;\">\n",
       "      <th></th>\n",
       "      <th>customer_id</th>\n",
       "      <th>channel</th>\n",
       "      <th>cost</th>\n",
       "      <th>conversion_rate</th>\n",
       "      <th>revenue</th>\n",
       "    </tr>\n",
       "  </thead>\n",
       "  <tbody>\n",
       "    <tr>\n",
       "      <th>0</th>\n",
       "      <td>1</td>\n",
       "      <td>referral</td>\n",
       "      <td>8.320327</td>\n",
       "      <td>0.123145</td>\n",
       "      <td>4199</td>\n",
       "    </tr>\n",
       "    <tr>\n",
       "      <th>1</th>\n",
       "      <td>2</td>\n",
       "      <td>paid advertising</td>\n",
       "      <td>30.450327</td>\n",
       "      <td>0.016341</td>\n",
       "      <td>3410</td>\n",
       "    </tr>\n",
       "    <tr>\n",
       "      <th>2</th>\n",
       "      <td>3</td>\n",
       "      <td>email marketing</td>\n",
       "      <td>5.246263</td>\n",
       "      <td>0.043822</td>\n",
       "      <td>3164</td>\n",
       "    </tr>\n",
       "    <tr>\n",
       "      <th>3</th>\n",
       "      <td>4</td>\n",
       "      <td>social media</td>\n",
       "      <td>9.546326</td>\n",
       "      <td>0.167592</td>\n",
       "      <td>1520</td>\n",
       "    </tr>\n",
       "    <tr>\n",
       "      <th>4</th>\n",
       "      <td>5</td>\n",
       "      <td>referral</td>\n",
       "      <td>8.320327</td>\n",
       "      <td>0.123145</td>\n",
       "      <td>2419</td>\n",
       "    </tr>\n",
       "  </tbody>\n",
       "</table>\n",
       "</div>"
      ],
      "text/plain": [
       "   customer_id           channel       cost  conversion_rate  revenue\n",
       "0            1          referral   8.320327         0.123145     4199\n",
       "1            2  paid advertising  30.450327         0.016341     3410\n",
       "2            3   email marketing   5.246263         0.043822     3164\n",
       "3            4      social media   9.546326         0.167592     1520\n",
       "4            5          referral   8.320327         0.123145     2419"
      ]
     },
     "execution_count": 10,
     "metadata": {},
     "output_type": "execute_result"
    }
   ],
   "source": [
    "data.head(5)"
   ]
  },
  {
   "cell_type": "markdown",
   "id": "94f63cbb-22f9-40bc-9077-ac105afe0812",
   "metadata": {},
   "source": [
    "Revenue Generated by Customer"
   ]
  },
  {
   "cell_type": "code",
   "execution_count": 21,
   "id": "55172fe1-db0b-4bea-a1e2-e0220cf47007",
   "metadata": {},
   "outputs": [
    {
     "data": {
      "application/vnd.plotly.v1+json": {
       "config": {
        "plotlyServerURL": "https://plot.ly"
       },
       "data": [
        {
         "nbinsx": 20,
         "type": "histogram",
         "x": [
          4199,
          3410,
          3164,
          1520,
          2419,
          3856,
          1172,
          700,
          2137,
          982,
          3003,
          1455,
          3388,
          3562,
          1147,
          1303,
          1456,
          4549,
          2054,
          4439,
          1976,
          4004,
          2010,
          3932,
          1885,
          4455,
          4681,
          1867,
          4342,
          1385,
          3239,
          1459,
          2021,
          1947,
          2026,
          4776,
          3836,
          3172,
          4846,
          3868,
          3947,
          1118,
          3326,
          1004,
          3596,
          1052,
          3466,
          832,
          1575,
          571,
          1962,
          2573,
          3603,
          2390,
          2949,
          719,
          2754,
          674,
          868,
          1806,
          3472,
          792,
          3890,
          4131,
          4210,
          1568,
          2529,
          2376,
          2952,
          4833,
          2237,
          1361,
          2807,
          2620,
          3525,
          3112,
          1736,
          1812,
          4540,
          4586,
          800,
          2741,
          711,
          3308,
          4312,
          3280,
          3469,
          1487,
          1771,
          1364,
          4302,
          1874,
          3453,
          2933,
          2987,
          3642,
          845,
          3809,
          4947,
          4539,
          1929,
          1174,
          2574,
          1499,
          4420,
          1411,
          3338,
          1681,
          3326,
          558,
          3953,
          3642,
          1694,
          3115,
          4560,
          3442,
          4340,
          1919,
          2695,
          4134,
          3951,
          3474,
          730,
          3376,
          1067,
          2723,
          1272,
          2800,
          2389,
          1988,
          912,
          3149,
          2624,
          1429,
          4615,
          1809,
          1528,
          2486,
          4854,
          1722,
          4756,
          755,
          3066,
          2357,
          3522,
          4301,
          3580,
          1960,
          1777,
          2506,
          4043,
          3966,
          1023,
          4727,
          4647,
          2312,
          2963,
          3803,
          3433,
          2894,
          918,
          1336,
          2688,
          2257,
          3886,
          4732,
          3309,
          1268,
          3677,
          3667,
          2949,
          3842,
          2357,
          4365,
          4235,
          4947,
          2906,
          2823,
          1249,
          3120,
          3886,
          622,
          3902,
          1294,
          2615,
          2715,
          4674,
          3879,
          1719,
          1220,
          3944,
          3267,
          2216,
          3146,
          4728,
          620,
          1838,
          2723,
          3180,
          2692,
          1638,
          3037,
          1357,
          2510,
          3360,
          1865,
          1377,
          1275,
          1054,
          4266,
          2201,
          800,
          791,
          606,
          2574,
          4887,
          3593,
          2979,
          620,
          3602,
          1711,
          3062,
          1760,
          3550,
          2224,
          3306,
          1121,
          4872,
          2457,
          1361,
          1643,
          3069,
          2962,
          4504,
          2058,
          4172,
          3105,
          2980,
          790,
          2213,
          3270,
          1644,
          1218,
          4162,
          1467,
          2079,
          3729,
          4933,
          3428,
          4940,
          1303,
          2736,
          3730,
          4994,
          3754,
          3139,
          2490,
          4212,
          1314,
          4632,
          966,
          2729,
          1150,
          1453,
          4469,
          4742,
          2230,
          4923,
          4290,
          1165,
          2176,
          2116,
          3326,
          2139,
          1237,
          2322,
          1492,
          1568,
          3847,
          4720,
          3377,
          1171,
          4155,
          3175,
          3796,
          2387,
          1502,
          1717,
          4645,
          2086,
          2230,
          3315,
          3397,
          3040,
          3672,
          1979,
          923,
          753,
          1089,
          984,
          2749,
          4559,
          905,
          4517,
          2497,
          3170,
          3226,
          3975,
          3436,
          755,
          3941,
          3780,
          2974,
          849,
          3456,
          2219,
          4505,
          4105,
          4575,
          2164,
          1804,
          3092,
          4653,
          3196,
          2661,
          3527,
          2537,
          2529,
          3872,
          1608,
          2183,
          3288,
          1588,
          4318,
          4956,
          2748,
          500,
          813,
          3903,
          2881,
          3458,
          4731,
          1280,
          838,
          4032,
          999,
          3212,
          2380,
          2155,
          1524,
          1248,
          2973,
          2245,
          2995,
          3613,
          3278,
          1090,
          2593,
          3218,
          2242,
          3984,
          4951,
          4127,
          1194,
          3929,
          2297,
          4923,
          3954,
          1293,
          3573,
          1451,
          3625,
          3806,
          1085,
          1267,
          3875,
          2949,
          2557,
          3463,
          1670,
          1163,
          1939,
          2674,
          1719,
          3822,
          2424,
          2685,
          2891,
          3947,
          2190,
          1694,
          3857,
          2531,
          549,
          4779,
          1016,
          4460,
          534,
          829,
          1859,
          2064,
          3970,
          4257,
          1303,
          3809,
          4944,
          4998,
          1008,
          2650,
          3252,
          4444,
          2028,
          999,
          3444,
          2152,
          941,
          1056,
          1111,
          1335,
          1438,
          1948,
          3315,
          931,
          3444,
          4171,
          3974,
          3667,
          1120,
          4598,
          2415,
          1432,
          4954,
          2824,
          863,
          4091,
          4338,
          3273,
          3742,
          4844,
          2068,
          949,
          3229,
          1770,
          608,
          1523,
          859,
          533,
          2762,
          3639,
          578,
          2589,
          1923,
          3722,
          2052,
          1835,
          2012,
          4493,
          3277,
          3803,
          510,
          2211,
          2648,
          3732,
          516,
          2837,
          2003,
          983,
          4044,
          2624,
          2146,
          1976,
          3673,
          2630,
          2272,
          1659,
          2244,
          4273,
          1571,
          2561,
          3929,
          2440,
          4820,
          2681,
          2609,
          2975,
          3090,
          3543,
          3622,
          4118,
          4511,
          3165,
          2112,
          1850,
          4746,
          956,
          3630,
          4427,
          1597,
          1412,
          3798,
          2759,
          1474,
          1206,
          3174,
          4931,
          3643,
          4603,
          2132,
          2900,
          4496,
          4806,
          3040,
          849,
          871,
          1079,
          3779,
          2721,
          1397,
          3195,
          2923,
          2328,
          1212,
          4098,
          3768,
          4767,
          2525,
          2490,
          1642,
          3683,
          4882,
          3476,
          4342,
          545,
          2472,
          3092,
          4667,
          2054,
          3320,
          1103,
          2816,
          2952,
          4533,
          3032,
          4080,
          3917,
          4568,
          1592,
          3669,
          4330,
          2040,
          4598,
          2128,
          4932,
          2060,
          4625,
          4734,
          2766,
          4055,
          3540,
          1207,
          1758,
          2757,
          1302,
          2410,
          2422,
          3471,
          4866,
          4998,
          3882,
          2291,
          1268,
          545,
          1267,
          4288,
          1398,
          2826,
          749,
          4603,
          1796,
          3988,
          1855,
          765,
          1847,
          1241,
          4624,
          2558,
          3385,
          3508,
          1518,
          3097,
          1027,
          2528,
          3831,
          2821,
          4698,
          3433,
          1576,
          3989,
          3395,
          2745,
          2362,
          2179,
          2014,
          3982,
          3797,
          3509,
          4905,
          2098,
          1140,
          2555,
          3770,
          1899,
          2604,
          3597,
          1014,
          2555,
          3419,
          1093,
          3500,
          1766,
          4600,
          4128,
          3885,
          2580,
          3111,
          3904,
          1008,
          1661,
          3100,
          2276,
          2435,
          1491,
          3367,
          3991,
          1151,
          1313,
          3525,
          4659,
          4693,
          500,
          2807,
          2296,
          1549,
          4735,
          3792,
          4085,
          1370,
          1253,
          4649,
          4910,
          1208,
          3089,
          1071,
          3436,
          3902,
          684,
          676,
          1992,
          1214,
          4171,
          4402,
          2327,
          4056,
          1176,
          2777,
          1244,
          2607,
          1173,
          519,
          4662,
          4332,
          2666,
          2472,
          736,
          4085,
          1903,
          3916,
          933,
          2540,
          1375,
          3862,
          2849,
          3810,
          1704,
          4164,
          2680,
          3036,
          2506,
          1004,
          3512,
          3652,
          1849,
          2198,
          4062,
          684,
          2689,
          2857,
          3363,
          3343,
          1344,
          4289,
          2058,
          4350,
          2898,
          3751,
          3657,
          4228,
          4832,
          1464,
          2333,
          4027,
          702,
          1855,
          2750,
          3959,
          2362,
          4354,
          1053,
          2755,
          2195,
          513,
          1638,
          565,
          3980,
          2384,
          1825,
          4125,
          4237,
          3519,
          1388,
          4750,
          4396,
          4550,
          3233,
          1002,
          1704,
          681,
          3436,
          808,
          3520,
          3554,
          1794,
          1348,
          3708,
          1740,
          2026,
          2257,
          1111,
          4778,
          2428,
          970,
          4268,
          4533,
          3531,
          2007,
          4419,
          4090,
          4659,
          4264,
          2193,
          4468,
          2996,
          3601,
          4647,
          4423,
          3027,
          2970,
          2027,
          4634,
          923,
          2044,
          607,
          4902,
          2953,
          1597,
          4178,
          1190,
          3694,
          4217,
          3818,
          3236,
          3376,
          4306,
          3620,
          3122,
          2583,
          3017,
          4401,
          2336,
          1828,
          3049,
          1492,
          1454,
          4947,
          4509,
          2813,
          3439,
          2101,
          813,
          4820
         ]
        }
       ],
       "layout": {
        "autosize": true,
        "template": {
         "data": {
          "bar": [
           {
            "error_x": {
             "color": "#2a3f5f"
            },
            "error_y": {
             "color": "#2a3f5f"
            },
            "marker": {
             "line": {
              "color": "white",
              "width": 0.5
             },
             "pattern": {
              "fillmode": "overlay",
              "size": 10,
              "solidity": 0.2
             }
            },
            "type": "bar"
           }
          ],
          "barpolar": [
           {
            "marker": {
             "line": {
              "color": "white",
              "width": 0.5
             },
             "pattern": {
              "fillmode": "overlay",
              "size": 10,
              "solidity": 0.2
             }
            },
            "type": "barpolar"
           }
          ],
          "carpet": [
           {
            "aaxis": {
             "endlinecolor": "#2a3f5f",
             "gridcolor": "#C8D4E3",
             "linecolor": "#C8D4E3",
             "minorgridcolor": "#C8D4E3",
             "startlinecolor": "#2a3f5f"
            },
            "baxis": {
             "endlinecolor": "#2a3f5f",
             "gridcolor": "#C8D4E3",
             "linecolor": "#C8D4E3",
             "minorgridcolor": "#C8D4E3",
             "startlinecolor": "#2a3f5f"
            },
            "type": "carpet"
           }
          ],
          "choropleth": [
           {
            "colorbar": {
             "outlinewidth": 0,
             "ticks": ""
            },
            "type": "choropleth"
           }
          ],
          "contour": [
           {
            "colorbar": {
             "outlinewidth": 0,
             "ticks": ""
            },
            "colorscale": [
             [
              0,
              "#0d0887"
             ],
             [
              0.1111111111111111,
              "#46039f"
             ],
             [
              0.2222222222222222,
              "#7201a8"
             ],
             [
              0.3333333333333333,
              "#9c179e"
             ],
             [
              0.4444444444444444,
              "#bd3786"
             ],
             [
              0.5555555555555556,
              "#d8576b"
             ],
             [
              0.6666666666666666,
              "#ed7953"
             ],
             [
              0.7777777777777778,
              "#fb9f3a"
             ],
             [
              0.8888888888888888,
              "#fdca26"
             ],
             [
              1,
              "#f0f921"
             ]
            ],
            "type": "contour"
           }
          ],
          "contourcarpet": [
           {
            "colorbar": {
             "outlinewidth": 0,
             "ticks": ""
            },
            "type": "contourcarpet"
           }
          ],
          "heatmap": [
           {
            "colorbar": {
             "outlinewidth": 0,
             "ticks": ""
            },
            "colorscale": [
             [
              0,
              "#0d0887"
             ],
             [
              0.1111111111111111,
              "#46039f"
             ],
             [
              0.2222222222222222,
              "#7201a8"
             ],
             [
              0.3333333333333333,
              "#9c179e"
             ],
             [
              0.4444444444444444,
              "#bd3786"
             ],
             [
              0.5555555555555556,
              "#d8576b"
             ],
             [
              0.6666666666666666,
              "#ed7953"
             ],
             [
              0.7777777777777778,
              "#fb9f3a"
             ],
             [
              0.8888888888888888,
              "#fdca26"
             ],
             [
              1,
              "#f0f921"
             ]
            ],
            "type": "heatmap"
           }
          ],
          "heatmapgl": [
           {
            "colorbar": {
             "outlinewidth": 0,
             "ticks": ""
            },
            "colorscale": [
             [
              0,
              "#0d0887"
             ],
             [
              0.1111111111111111,
              "#46039f"
             ],
             [
              0.2222222222222222,
              "#7201a8"
             ],
             [
              0.3333333333333333,
              "#9c179e"
             ],
             [
              0.4444444444444444,
              "#bd3786"
             ],
             [
              0.5555555555555556,
              "#d8576b"
             ],
             [
              0.6666666666666666,
              "#ed7953"
             ],
             [
              0.7777777777777778,
              "#fb9f3a"
             ],
             [
              0.8888888888888888,
              "#fdca26"
             ],
             [
              1,
              "#f0f921"
             ]
            ],
            "type": "heatmapgl"
           }
          ],
          "histogram": [
           {
            "marker": {
             "pattern": {
              "fillmode": "overlay",
              "size": 10,
              "solidity": 0.2
             }
            },
            "type": "histogram"
           }
          ],
          "histogram2d": [
           {
            "colorbar": {
             "outlinewidth": 0,
             "ticks": ""
            },
            "colorscale": [
             [
              0,
              "#0d0887"
             ],
             [
              0.1111111111111111,
              "#46039f"
             ],
             [
              0.2222222222222222,
              "#7201a8"
             ],
             [
              0.3333333333333333,
              "#9c179e"
             ],
             [
              0.4444444444444444,
              "#bd3786"
             ],
             [
              0.5555555555555556,
              "#d8576b"
             ],
             [
              0.6666666666666666,
              "#ed7953"
             ],
             [
              0.7777777777777778,
              "#fb9f3a"
             ],
             [
              0.8888888888888888,
              "#fdca26"
             ],
             [
              1,
              "#f0f921"
             ]
            ],
            "type": "histogram2d"
           }
          ],
          "histogram2dcontour": [
           {
            "colorbar": {
             "outlinewidth": 0,
             "ticks": ""
            },
            "colorscale": [
             [
              0,
              "#0d0887"
             ],
             [
              0.1111111111111111,
              "#46039f"
             ],
             [
              0.2222222222222222,
              "#7201a8"
             ],
             [
              0.3333333333333333,
              "#9c179e"
             ],
             [
              0.4444444444444444,
              "#bd3786"
             ],
             [
              0.5555555555555556,
              "#d8576b"
             ],
             [
              0.6666666666666666,
              "#ed7953"
             ],
             [
              0.7777777777777778,
              "#fb9f3a"
             ],
             [
              0.8888888888888888,
              "#fdca26"
             ],
             [
              1,
              "#f0f921"
             ]
            ],
            "type": "histogram2dcontour"
           }
          ],
          "mesh3d": [
           {
            "colorbar": {
             "outlinewidth": 0,
             "ticks": ""
            },
            "type": "mesh3d"
           }
          ],
          "parcoords": [
           {
            "line": {
             "colorbar": {
              "outlinewidth": 0,
              "ticks": ""
             }
            },
            "type": "parcoords"
           }
          ],
          "pie": [
           {
            "automargin": true,
            "type": "pie"
           }
          ],
          "scatter": [
           {
            "fillpattern": {
             "fillmode": "overlay",
             "size": 10,
             "solidity": 0.2
            },
            "type": "scatter"
           }
          ],
          "scatter3d": [
           {
            "line": {
             "colorbar": {
              "outlinewidth": 0,
              "ticks": ""
             }
            },
            "marker": {
             "colorbar": {
              "outlinewidth": 0,
              "ticks": ""
             }
            },
            "type": "scatter3d"
           }
          ],
          "scattercarpet": [
           {
            "marker": {
             "colorbar": {
              "outlinewidth": 0,
              "ticks": ""
             }
            },
            "type": "scattercarpet"
           }
          ],
          "scattergeo": [
           {
            "marker": {
             "colorbar": {
              "outlinewidth": 0,
              "ticks": ""
             }
            },
            "type": "scattergeo"
           }
          ],
          "scattergl": [
           {
            "marker": {
             "colorbar": {
              "outlinewidth": 0,
              "ticks": ""
             }
            },
            "type": "scattergl"
           }
          ],
          "scattermapbox": [
           {
            "marker": {
             "colorbar": {
              "outlinewidth": 0,
              "ticks": ""
             }
            },
            "type": "scattermapbox"
           }
          ],
          "scatterpolar": [
           {
            "marker": {
             "colorbar": {
              "outlinewidth": 0,
              "ticks": ""
             }
            },
            "type": "scatterpolar"
           }
          ],
          "scatterpolargl": [
           {
            "marker": {
             "colorbar": {
              "outlinewidth": 0,
              "ticks": ""
             }
            },
            "type": "scatterpolargl"
           }
          ],
          "scatterternary": [
           {
            "marker": {
             "colorbar": {
              "outlinewidth": 0,
              "ticks": ""
             }
            },
            "type": "scatterternary"
           }
          ],
          "surface": [
           {
            "colorbar": {
             "outlinewidth": 0,
             "ticks": ""
            },
            "colorscale": [
             [
              0,
              "#0d0887"
             ],
             [
              0.1111111111111111,
              "#46039f"
             ],
             [
              0.2222222222222222,
              "#7201a8"
             ],
             [
              0.3333333333333333,
              "#9c179e"
             ],
             [
              0.4444444444444444,
              "#bd3786"
             ],
             [
              0.5555555555555556,
              "#d8576b"
             ],
             [
              0.6666666666666666,
              "#ed7953"
             ],
             [
              0.7777777777777778,
              "#fb9f3a"
             ],
             [
              0.8888888888888888,
              "#fdca26"
             ],
             [
              1,
              "#f0f921"
             ]
            ],
            "type": "surface"
           }
          ],
          "table": [
           {
            "cells": {
             "fill": {
              "color": "#EBF0F8"
             },
             "line": {
              "color": "white"
             }
            },
            "header": {
             "fill": {
              "color": "#C8D4E3"
             },
             "line": {
              "color": "white"
             }
            },
            "type": "table"
           }
          ]
         },
         "layout": {
          "annotationdefaults": {
           "arrowcolor": "#2a3f5f",
           "arrowhead": 0,
           "arrowwidth": 1
          },
          "autotypenumbers": "strict",
          "coloraxis": {
           "colorbar": {
            "outlinewidth": 0,
            "ticks": ""
           }
          },
          "colorscale": {
           "diverging": [
            [
             0,
             "#8e0152"
            ],
            [
             0.1,
             "#c51b7d"
            ],
            [
             0.2,
             "#de77ae"
            ],
            [
             0.3,
             "#f1b6da"
            ],
            [
             0.4,
             "#fde0ef"
            ],
            [
             0.5,
             "#f7f7f7"
            ],
            [
             0.6,
             "#e6f5d0"
            ],
            [
             0.7,
             "#b8e186"
            ],
            [
             0.8,
             "#7fbc41"
            ],
            [
             0.9,
             "#4d9221"
            ],
            [
             1,
             "#276419"
            ]
           ],
           "sequential": [
            [
             0,
             "#0d0887"
            ],
            [
             0.1111111111111111,
             "#46039f"
            ],
            [
             0.2222222222222222,
             "#7201a8"
            ],
            [
             0.3333333333333333,
             "#9c179e"
            ],
            [
             0.4444444444444444,
             "#bd3786"
            ],
            [
             0.5555555555555556,
             "#d8576b"
            ],
            [
             0.6666666666666666,
             "#ed7953"
            ],
            [
             0.7777777777777778,
             "#fb9f3a"
            ],
            [
             0.8888888888888888,
             "#fdca26"
            ],
            [
             1,
             "#f0f921"
            ]
           ],
           "sequentialminus": [
            [
             0,
             "#0d0887"
            ],
            [
             0.1111111111111111,
             "#46039f"
            ],
            [
             0.2222222222222222,
             "#7201a8"
            ],
            [
             0.3333333333333333,
             "#9c179e"
            ],
            [
             0.4444444444444444,
             "#bd3786"
            ],
            [
             0.5555555555555556,
             "#d8576b"
            ],
            [
             0.6666666666666666,
             "#ed7953"
            ],
            [
             0.7777777777777778,
             "#fb9f3a"
            ],
            [
             0.8888888888888888,
             "#fdca26"
            ],
            [
             1,
             "#f0f921"
            ]
           ]
          },
          "colorway": [
           "#636efa",
           "#EF553B",
           "#00cc96",
           "#ab63fa",
           "#FFA15A",
           "#19d3f3",
           "#FF6692",
           "#B6E880",
           "#FF97FF",
           "#FECB52"
          ],
          "font": {
           "color": "#2a3f5f"
          },
          "geo": {
           "bgcolor": "white",
           "lakecolor": "white",
           "landcolor": "white",
           "showlakes": true,
           "showland": true,
           "subunitcolor": "#C8D4E3"
          },
          "hoverlabel": {
           "align": "left"
          },
          "hovermode": "closest",
          "mapbox": {
           "style": "light"
          },
          "paper_bgcolor": "white",
          "plot_bgcolor": "white",
          "polar": {
           "angularaxis": {
            "gridcolor": "#EBF0F8",
            "linecolor": "#EBF0F8",
            "ticks": ""
           },
           "bgcolor": "white",
           "radialaxis": {
            "gridcolor": "#EBF0F8",
            "linecolor": "#EBF0F8",
            "ticks": ""
           }
          },
          "scene": {
           "xaxis": {
            "backgroundcolor": "white",
            "gridcolor": "#DFE8F3",
            "gridwidth": 2,
            "linecolor": "#EBF0F8",
            "showbackground": true,
            "ticks": "",
            "zerolinecolor": "#EBF0F8"
           },
           "yaxis": {
            "backgroundcolor": "white",
            "gridcolor": "#DFE8F3",
            "gridwidth": 2,
            "linecolor": "#EBF0F8",
            "showbackground": true,
            "ticks": "",
            "zerolinecolor": "#EBF0F8"
           },
           "zaxis": {
            "backgroundcolor": "white",
            "gridcolor": "#DFE8F3",
            "gridwidth": 2,
            "linecolor": "#EBF0F8",
            "showbackground": true,
            "ticks": "",
            "zerolinecolor": "#EBF0F8"
           }
          },
          "shapedefaults": {
           "line": {
            "color": "#2a3f5f"
           }
          },
          "ternary": {
           "aaxis": {
            "gridcolor": "#DFE8F3",
            "linecolor": "#A2B1C6",
            "ticks": ""
           },
           "baxis": {
            "gridcolor": "#DFE8F3",
            "linecolor": "#A2B1C6",
            "ticks": ""
           },
           "bgcolor": "white",
           "caxis": {
            "gridcolor": "#DFE8F3",
            "linecolor": "#A2B1C6",
            "ticks": ""
           }
          },
          "title": {
           "x": 0.05
          },
          "xaxis": {
           "automargin": true,
           "gridcolor": "#EBF0F8",
           "linecolor": "#EBF0F8",
           "ticks": "",
           "title": {
            "standoff": 15
           },
           "zerolinecolor": "#EBF0F8",
           "zerolinewidth": 2
          },
          "yaxis": {
           "automargin": true,
           "gridcolor": "#EBF0F8",
           "linecolor": "#EBF0F8",
           "ticks": "",
           "title": {
            "standoff": 15
           },
           "zerolinecolor": "#EBF0F8",
           "zerolinewidth": 2
          }
         }
        },
        "title": {
         "text": "Revenue Generated by Customers"
        },
        "xaxis": {
         "autorange": true,
         "range": [
          499.5,
          4999.5
         ],
         "title": {
          "text": "Revenue"
         },
         "type": "linear"
        },
        "yaxis": {
         "autorange": true,
         "range": [
          0,
          115.78947368421052
         ],
         "title": {
          "text": "Frequency"
         }
        }
       }
      },
      "image/png": "[encoded data removed]",
      "text/html": [
       "<div>                            <div id=\"4a620225-945a-42c5-a33d-3030738eceae\" class=\"plotly-graph-div\" style=\"height:525px; width:100%;\"></div>            <script type=\"text/javascript\">                require([\"plotly\"], function(Plotly) {                    window.PLOTLYENV=window.PLOTLYENV || {};                                    if (document.getElementById(\"4a620225-945a-42c5-a33d-3030738eceae\")) {                    Plotly.newPlot(                        \"4a620225-945a-42c5-a33d-3030738eceae\",                        [{\"nbinsx\":20,\"x\":[4199,3410,3164,1520,2419,3856,1172,700,2137,982,3003,1455,3388,3562,1147,1303,1456,4549,2054,4439,1976,4004,2010,3932,1885,4455,4681,1867,4342,1385,3239,1459,2021,1947,2026,4776,3836,3172,4846,3868,3947,1118,3326,1004,3596,1052,3466,832,1575,571,1962,2573,3603,2390,2949,719,2754,674,868,1806,3472,792,3890,4131,4210,1568,2529,2376,2952,4833,2237,1361,2807,2620,3525,3112,1736,1812,4540,4586,800,2741,711,3308,4312,3280,3469,1487,1771,1364,4302,1874,3453,2933,2987,3642,845,3809,4947,4539,1929,1174,2574,1499,4420,1411,3338,1681,3326,558,3953,3642,1694,3115,4560,3442,4340,1919,2695,4134,3951,3474,730,3376,1067,2723,1272,2800,2389,1988,912,3149,2624,1429,4615,1809,1528,2486,4854,1722,4756,755,3066,2357,3522,4301,3580,1960,1777,2506,4043,3966,1023,4727,4647,2312,2963,3803,3433,2894,918,1336,2688,2257,3886,4732,3309,1268,3677,3667,2949,3842,2357,4365,4235,4947,2906,2823,1249,3120,3886,622,3902,1294,2615,2715,4674,3879,1719,1220,3944,3267,2216,3146,4728,620,1838,2723,3180,2692,1638,3037,1357,2510,3360,1865,1377,1275,1054,4266,2201,800,791,606,2574,4887,3593,2979,620,3602,1711,3062,1760,3550,2224,3306,1121,4872,2457,1361,1643,3069,2962,4504,2058,4172,3105,2980,790,2213,3270,1644,1218,4162,1467,2079,3729,4933,3428,4940,1303,2736,3730,4994,3754,3139,2490,4212,1314,4632,966,2729,1150,1453,4469,4742,2230,4923,4290,1165,2176,2116,3326,2139,1237,2322,1492,1568,3847,4720,3377,1171,4155,3175,3796,2387,1502,1717,4645,2086,2230,3315,3397,3040,3672,1979,923,753,1089,984,2749,4559,905,4517,2497,3170,3226,3975,3436,755,3941,3780,2974,849,3456,2219,4505,4105,4575,2164,1804,3092,4653,3196,2661,3527,2537,2529,3872,1608,2183,3288,1588,4318,4956,2748,500,813,3903,2881,3458,4731,1280,838,4032,999,3212,2380,2155,1524,1248,2973,2245,2995,3613,3278,1090,2593,3218,2242,3984,4951,4127,1194,3929,2297,4923,3954,1293,3573,1451,3625,3806,1085,1267,3875,2949,2557,3463,1670,1163,1939,2674,1719,3822,2424,2685,2891,3947,2190,1694,3857,2531,549,4779,1016,4460,534,829,1859,2064,3970,4257,1303,3809,4944,4998,1008,2650,3252,4444,2028,999,3444,2152,941,1056,1111,1335,1438,1948,3315,931,3444,4171,3974,3667,1120,4598,2415,1432,4954,2824,863,4091,4338,3273,3742,4844,2068,949,3229,1770,608,1523,859,533,2762,3639,578,2589,1923,3722,2052,1835,2012,4493,3277,3803,510,2211,2648,3732,516,2837,2003,983,4044,2624,2146,1976,3673,2630,2272,1659,2244,4273,1571,2561,3929,2440,4820,2681,2609,2975,3090,3543,3622,4118,4511,3165,2112,1850,4746,956,3630,4427,1597,1412,3798,2759,1474,1206,3174,4931,3643,4603,2132,2900,4496,4806,3040,849,871,1079,3779,2721,1397,3195,2923,2328,1212,4098,3768,4767,2525,2490,1642,3683,4882,3476,4342,545,2472,3092,4667,2054,3320,1103,2816,2952,4533,3032,4080,3917,4568,1592,3669,4330,2040,4598,2128,4932,2060,4625,4734,2766,4055,3540,1207,1758,2757,1302,2410,2422,3471,4866,4998,3882,2291,1268,545,1267,4288,1398,2826,749,4603,1796,3988,1855,765,1847,1241,4624,2558,3385,3508,1518,3097,1027,2528,3831,2821,4698,3433,1576,3989,3395,2745,2362,2179,2014,3982,3797,3509,4905,2098,1140,2555,3770,1899,2604,3597,1014,2555,3419,1093,3500,1766,4600,4128,3885,2580,3111,3904,1008,1661,3100,2276,2435,1491,3367,3991,1151,1313,3525,4659,4693,500,2807,2296,1549,4735,3792,4085,1370,1253,4649,4910,1208,3089,1071,3436,3902,684,676,1992,1214,4171,4402,2327,4056,1176,2777,1244,2607,1173,519,4662,4332,2666,2472,736,4085,1903,3916,933,2540,1375,3862,2849,3810,1704,4164,2680,3036,2506,1004,3512,3652,1849,2198,4062,684,2689,2857,3363,3343,1344,4289,2058,4350,2898,3751,3657,4228,4832,1464,2333,4027,702,1855,2750,3959,2362,4354,1053,2755,2195,513,1638,565,3980,2384,1825,4125,4237,3519,1388,4750,4396,4550,3233,1002,1704,681,3436,808,3520,3554,1794,1348,3708,1740,2026,2257,1111,4778,2428,970,4268,4533,3531,2007,4419,4090,4659,4264,2193,4468,2996,3601,4647,4423,3027,2970,2027,4634,923,2044,607,4902,2953,1597,4178,1190,3694,4217,3818,3236,3376,4306,3620,3122,2583,3017,4401,2336,1828,3049,1492,1454,4947,4509,2813,3439,2101,813,4820],\"type\":\"histogram\"}],                        {\"template\":{\"data\":{\"histogram2dcontour\":[{\"type\":\"histogram2dcontour\",\"colorbar\":{\"outlinewidth\":0,\"ticks\":\"\"},\"colorscale\":[[0.0,\"#0d0887\"],[0.1111111111111111,\"#46039f\"],[0.2222222222222222,\"#7201a8\"],[0.3333333333333333,\"#9c179e\"],[0.4444444444444444,\"#bd3786\"],[0.5555555555555556,\"#d8576b\"],[0.6666666666666666,\"#ed7953\"],[0.7777777777777778,\"#fb9f3a\"],[0.8888888888888888,\"#fdca26\"],[1.0,\"#f0f921\"]]}],\"choropleth\":[{\"type\":\"choropleth\",\"colorbar\":{\"outlinewidth\":0,\"ticks\":\"\"}}],\"histogram2d\":[{\"type\":\"histogram2d\",\"colorbar\":{\"outlinewidth\":0,\"ticks\":\"\"},\"colorscale\":[[0.0,\"#0d0887\"],[0.1111111111111111,\"#46039f\"],[0.2222222222222222,\"#7201a8\"],[0.3333333333333333,\"#9c179e\"],[0.4444444444444444,\"#bd3786\"],[0.5555555555555556,\"#d8576b\"],[0.6666666666666666,\"#ed7953\"],[0.7777777777777778,\"#fb9f3a\"],[0.8888888888888888,\"#fdca26\"],[1.0,\"#f0f921\"]]}],\"heatmap\":[{\"type\":\"heatmap\",\"colorbar\":{\"outlinewidth\":0,\"ticks\":\"\"},\"colorscale\":[[0.0,\"#0d0887\"],[0.1111111111111111,\"#46039f\"],[0.2222222222222222,\"#7201a8\"],[0.3333333333333333,\"#9c179e\"],[0.4444444444444444,\"#bd3786\"],[0.5555555555555556,\"#d8576b\"],[0.6666666666666666,\"#ed7953\"],[0.7777777777777778,\"#fb9f3a\"],[0.8888888888888888,\"#fdca26\"],[1.0,\"#f0f921\"]]}],\"heatmapgl\":[{\"type\":\"heatmapgl\",\"colorbar\":{\"outlinewidth\":0,\"ticks\":\"\"},\"colorscale\":[[0.0,\"#0d0887\"],[0.1111111111111111,\"#46039f\"],[0.2222222222222222,\"#7201a8\"],[0.3333333333333333,\"#9c179e\"],[0.4444444444444444,\"#bd3786\"],[0.5555555555555556,\"#d8576b\"],[0.6666666666666666,\"#ed7953\"],[0.7777777777777778,\"#fb9f3a\"],[0.8888888888888888,\"#fdca26\"],[1.0,\"#f0f921\"]]}],\"contourcarpet\":[{\"type\":\"contourcarpet\",\"colorbar\":{\"outlinewidth\":0,\"ticks\":\"\"}}],\"contour\":[{\"type\":\"contour\",\"colorbar\":{\"outlinewidth\":0,\"ticks\":\"\"},\"colorscale\":[[0.0,\"#0d0887\"],[0.1111111111111111,\"#46039f\"],[0.2222222222222222,\"#7201a8\"],[0.3333333333333333,\"#9c179e\"],[0.4444444444444444,\"#bd3786\"],[0.5555555555555556,\"#d8576b\"],[0.6666666666666666,\"#ed7953\"],[0.7777777777777778,\"#fb9f3a\"],[0.8888888888888888,\"#fdca26\"],[1.0,\"#f0f921\"]]}],\"surface\":[{\"type\":\"surface\",\"colorbar\":{\"outlinewidth\":0,\"ticks\":\"\"},\"colorscale\":[[0.0,\"#0d0887\"],[0.1111111111111111,\"#46039f\"],[0.2222222222222222,\"#7201a8\"],[0.3333333333333333,\"#9c179e\"],[0.4444444444444444,\"#bd3786\"],[0.5555555555555556,\"#d8576b\"],[0.6666666666666666,\"#ed7953\"],[0.7777777777777778,\"#fb9f3a\"],[0.8888888888888888,\"#fdca26\"],[1.0,\"#f0f921\"]]}],\"mesh3d\":[{\"type\":\"mesh3d\",\"colorbar\":{\"outlinewidth\":0,\"ticks\":\"\"}}],\"scatter\":[{\"fillpattern\":{\"fillmode\":\"overlay\",\"size\":10,\"solidity\":0.2},\"type\":\"scatter\"}],\"parcoords\":[{\"type\":\"parcoords\",\"line\":{\"colorbar\":{\"outlinewidth\":0,\"ticks\":\"\"}}}],\"scatterpolargl\":[{\"type\":\"scatterpolargl\",\"marker\":{\"colorbar\":{\"outlinewidth\":0,\"ticks\":\"\"}}}],\"bar\":[{\"error_x\":{\"color\":\"#2a3f5f\"},\"error_y\":{\"color\":\"#2a3f5f\"},\"marker\":{\"line\":{\"color\":\"white\",\"width\":0.5},\"pattern\":{\"fillmode\":\"overlay\",\"size\":10,\"solidity\":0.2}},\"type\":\"bar\"}],\"scattergeo\":[{\"type\":\"scattergeo\",\"marker\":{\"colorbar\":{\"outlinewidth\":0,\"ticks\":\"\"}}}],\"scatterpolar\":[{\"type\":\"scatterpolar\",\"marker\":{\"colorbar\":{\"outlinewidth\":0,\"ticks\":\"\"}}}],\"histogram\":[{\"marker\":{\"pattern\":{\"fillmode\":\"overlay\",\"size\":10,\"solidity\":0.2}},\"type\":\"histogram\"}],\"scattergl\":[{\"type\":\"scattergl\",\"marker\":{\"colorbar\":{\"outlinewidth\":0,\"ticks\":\"\"}}}],\"scatter3d\":[{\"type\":\"scatter3d\",\"line\":{\"colorbar\":{\"outlinewidth\":0,\"ticks\":\"\"}},\"marker\":{\"colorbar\":{\"outlinewidth\":0,\"ticks\":\"\"}}}],\"scattermapbox\":[{\"type\":\"scattermapbox\",\"marker\":{\"colorbar\":{\"outlinewidth\":0,\"ticks\":\"\"}}}],\"scatterternary\":[{\"type\":\"scatterternary\",\"marker\":{\"colorbar\":{\"outlinewidth\":0,\"ticks\":\"\"}}}],\"scattercarpet\":[{\"type\":\"scattercarpet\",\"marker\":{\"colorbar\":{\"outlinewidth\":0,\"ticks\":\"\"}}}],\"carpet\":[{\"aaxis\":{\"endlinecolor\":\"#2a3f5f\",\"gridcolor\":\"#C8D4E3\",\"linecolor\":\"#C8D4E3\",\"minorgridcolor\":\"#C8D4E3\",\"startlinecolor\":\"#2a3f5f\"},\"baxis\":{\"endlinecolor\":\"#2a3f5f\",\"gridcolor\":\"#C8D4E3\",\"linecolor\":\"#C8D4E3\",\"minorgridcolor\":\"#C8D4E3\",\"startlinecolor\":\"#2a3f5f\"},\"type\":\"carpet\"}],\"table\":[{\"cells\":{\"fill\":{\"color\":\"#EBF0F8\"},\"line\":{\"color\":\"white\"}},\"header\":{\"fill\":{\"color\":\"#C8D4E3\"},\"line\":{\"color\":\"white\"}},\"type\":\"table\"}],\"barpolar\":[{\"marker\":{\"line\":{\"color\":\"white\",\"width\":0.5},\"pattern\":{\"fillmode\":\"overlay\",\"size\":10,\"solidity\":0.2}},\"type\":\"barpolar\"}],\"pie\":[{\"automargin\":true,\"type\":\"pie\"}]},\"layout\":{\"autotypenumbers\":\"strict\",\"colorway\":[\"#636efa\",\"#EF553B\",\"#00cc96\",\"#ab63fa\",\"#FFA15A\",\"#19d3f3\",\"#FF6692\",\"#B6E880\",\"#FF97FF\",\"#FECB52\"],\"font\":{\"color\":\"#2a3f5f\"},\"hovermode\":\"closest\",\"hoverlabel\":{\"align\":\"left\"},\"paper_bgcolor\":\"white\",\"plot_bgcolor\":\"white\",\"polar\":{\"bgcolor\":\"white\",\"angularaxis\":{\"gridcolor\":\"#EBF0F8\",\"linecolor\":\"#EBF0F8\",\"ticks\":\"\"},\"radialaxis\":{\"gridcolor\":\"#EBF0F8\",\"linecolor\":\"#EBF0F8\",\"ticks\":\"\"}},\"ternary\":{\"bgcolor\":\"white\",\"aaxis\":{\"gridcolor\":\"#DFE8F3\",\"linecolor\":\"#A2B1C6\",\"ticks\":\"\"},\"baxis\":{\"gridcolor\":\"#DFE8F3\",\"linecolor\":\"#A2B1C6\",\"ticks\":\"\"},\"caxis\":{\"gridcolor\":\"#DFE8F3\",\"linecolor\":\"#A2B1C6\",\"ticks\":\"\"}},\"coloraxis\":{\"colorbar\":{\"outlinewidth\":0,\"ticks\":\"\"}},\"colorscale\":{\"sequential\":[[0.0,\"#0d0887\"],[0.1111111111111111,\"#46039f\"],[0.2222222222222222,\"#7201a8\"],[0.3333333333333333,\"#9c179e\"],[0.4444444444444444,\"#bd3786\"],[0.5555555555555556,\"#d8576b\"],[0.6666666666666666,\"#ed7953\"],[0.7777777777777778,\"#fb9f3a\"],[0.8888888888888888,\"#fdca26\"],[1.0,\"#f0f921\"]],\"sequentialminus\":[[0.0,\"#0d0887\"],[0.1111111111111111,\"#46039f\"],[0.2222222222222222,\"#7201a8\"],[0.3333333333333333,\"#9c179e\"],[0.4444444444444444,\"#bd3786\"],[0.5555555555555556,\"#d8576b\"],[0.6666666666666666,\"#ed7953\"],[0.7777777777777778,\"#fb9f3a\"],[0.8888888888888888,\"#fdca26\"],[1.0,\"#f0f921\"]],\"diverging\":[[0,\"#8e0152\"],[0.1,\"#c51b7d\"],[0.2,\"#de77ae\"],[0.3,\"#f1b6da\"],[0.4,\"#fde0ef\"],[0.5,\"#f7f7f7\"],[0.6,\"#e6f5d0\"],[0.7,\"#b8e186\"],[0.8,\"#7fbc41\"],[0.9,\"#4d9221\"],[1,\"#276419\"]]},\"xaxis\":{\"gridcolor\":\"#EBF0F8\",\"linecolor\":\"#EBF0F8\",\"ticks\":\"\",\"title\":{\"standoff\":15},\"zerolinecolor\":\"#EBF0F8\",\"automargin\":true,\"zerolinewidth\":2},\"yaxis\":{\"gridcolor\":\"#EBF0F8\",\"linecolor\":\"#EBF0F8\",\"ticks\":\"\",\"title\":{\"standoff\":15},\"zerolinecolor\":\"#EBF0F8\",\"automargin\":true,\"zerolinewidth\":2},\"scene\":{\"xaxis\":{\"backgroundcolor\":\"white\",\"gridcolor\":\"#DFE8F3\",\"linecolor\":\"#EBF0F8\",\"showbackground\":true,\"ticks\":\"\",\"zerolinecolor\":\"#EBF0F8\",\"gridwidth\":2},\"yaxis\":{\"backgroundcolor\":\"white\",\"gridcolor\":\"#DFE8F3\",\"linecolor\":\"#EBF0F8\",\"showbackground\":true,\"ticks\":\"\",\"zerolinecolor\":\"#EBF0F8\",\"gridwidth\":2},\"zaxis\":{\"backgroundcolor\":\"white\",\"gridcolor\":\"#DFE8F3\",\"linecolor\":\"#EBF0F8\",\"showbackground\":true,\"ticks\":\"\",\"zerolinecolor\":\"#EBF0F8\",\"gridwidth\":2}},\"shapedefaults\":{\"line\":{\"color\":\"#2a3f5f\"}},\"annotationdefaults\":{\"arrowcolor\":\"#2a3f5f\",\"arrowhead\":0,\"arrowwidth\":1},\"geo\":{\"bgcolor\":\"white\",\"landcolor\":\"white\",\"subunitcolor\":\"#C8D4E3\",\"showland\":true,\"showlakes\":true,\"lakecolor\":\"white\"},\"title\":{\"x\":0.05},\"mapbox\":{\"style\":\"light\"}}},\"title\":{\"text\":\"Revenue Generated by Customers\"},\"xaxis\":{\"title\":{\"text\":\"Revenue\"}},\"yaxis\":{\"title\":{\"text\":\"Frequency\"}}},                        {\"responsive\": true}                    ).then(function(){\n",
       "                            \n",
       "var gd = document.getElementById('4a620225-945a-42c5-a33d-3030738eceae');\n",
       "var x = new MutationObserver(function (mutations, observer) {{\n",
       "        var display = window.getComputedStyle(gd).display;\n",
       "        if (!display || display === 'none') {{\n",
       "            console.log([gd, 'removed!']);\n",
       "            Plotly.purge(gd);\n",
       "            observer.disconnect();\n",
       "        }}\n",
       "}});\n",
       "\n",
       "// Listen for the removal of the full notebook cells\n",
       "var notebookContainer = gd.closest('#notebook-container');\n",
       "if (notebookContainer) {{\n",
       "    x.observe(notebookContainer, {childList: true});\n",
       "}}\n",
       "\n",
       "// Listen for the clearing of the current output cell\n",
       "var outputEl = gd.closest('.output');\n",
       "if (outputEl) {{\n",
       "    x.observe(outputEl, {childList: true});\n",
       "}}\n",
       "\n",
       "                        })                };                });            </script>        </div>"
      ]
     },
     "metadata": {},
     "output_type": "display_data"
    }
   ],
   "source": [
    "fig = go.Figure(data = [go.Histogram(x=data['revenue'], nbinsx=20)])\n",
    "fig.update_layout(\n",
    "    title='Revenue Generated by Customers', xaxis_title='Revenue', yaxis_title='Frequency')"
   ]
  },
  {
   "cell_type": "markdown",
   "id": "d4fd971d-fa8b-4e3c-abc4-c997258d3ce5",
   "metadata": {},
   "source": [
    "Customer Acquisition Cost by Channel"
   ]
  },
  {
   "cell_type": "code",
   "execution_count": 51,
   "id": "631b39c2-d08d-481f-9c81-4fa532b23976",
   "metadata": {},
   "outputs": [
    {
     "data": {
      "text/html": [
       "<div>\n",
       "<style scoped>\n",
       "    .dataframe tbody tr th:only-of-type {\n",
       "        vertical-align: middle;\n",
       "    }\n",
       "\n",
       "    .dataframe tbody tr th {\n",
       "        vertical-align: top;\n",
       "    }\n",
       "\n",
       "    .dataframe thead th {\n",
       "        text-align: right;\n",
       "    }\n",
       "</style>\n",
       "<table border=\"1\" class=\"dataframe\">\n",
       "  <thead>\n",
       "    <tr style=\"text-align: right;\">\n",
       "      <th></th>\n",
       "      <th>channel</th>\n",
       "      <th>cost</th>\n",
       "    </tr>\n",
       "  </thead>\n",
       "  <tbody>\n",
       "    <tr>\n",
       "      <th>0</th>\n",
       "      <td>email marketing</td>\n",
       "      <td>5.246</td>\n",
       "    </tr>\n",
       "    <tr>\n",
       "      <th>1</th>\n",
       "      <td>paid advertising</td>\n",
       "      <td>30.450</td>\n",
       "    </tr>\n",
       "    <tr>\n",
       "      <th>2</th>\n",
       "      <td>referral</td>\n",
       "      <td>8.320</td>\n",
       "    </tr>\n",
       "    <tr>\n",
       "      <th>3</th>\n",
       "      <td>social media</td>\n",
       "      <td>9.546</td>\n",
       "    </tr>\n",
       "  </tbody>\n",
       "</table>\n",
       "</div>"
      ],
      "text/plain": [
       "            channel    cost\n",
       "0   email marketing   5.246\n",
       "1  paid advertising  30.450\n",
       "2          referral   8.320\n",
       "3      social media   9.546"
      ]
     },
     "execution_count": 51,
     "metadata": {},
     "output_type": "execute_result"
    }
   ],
   "source": [
    "cost_by_channel = data.groupby('channel')['cost'].mean().round(3).reset_index()\n",
    "cost_by_channel"
   ]
  },
  {
   "cell_type": "code",
   "execution_count": 52,
   "id": "a0095db0-485d-40f3-a162-777571a67c9c",
   "metadata": {},
   "outputs": [
    {
     "name": "stderr",
     "output_type": "stream",
     "text": [
      "C:\\Users\\Nayana Sooraj\\AppData\\Local\\Programs\\Python\\Python312\\Lib\\site-packages\\plotly\\express\\_core.py:2065: FutureWarning:\n",
      "\n",
      "When grouping with a length-1 list-like, you will need to pass a length-1 tuple to get_group in a future version of pandas. Pass `(name,)` instead of `name` to silence this warning.\n",
      "\n"
     ]
    },
    {
     "data": {
      "application/vnd.plotly.v1+json": {
       "config": {
        "plotlyServerURL": "https://plot.ly"
       },
       "data": [
        {
         "alignmentgroup": "True",
         "hovertemplate": "channel=%{x}<br>cost=%{text}<extra></extra>",
         "legendgroup": "email marketing",
         "marker": {
          "color": "#636efa",
          "pattern": {
           "shape": ""
          }
         },
         "name": "email marketing",
         "offsetgroup": "email marketing",
         "orientation": "v",
         "showlegend": true,
         "text": [
          5.246
         ],
         "textposition": "auto",
         "type": "bar",
         "x": [
          "email marketing"
         ],
         "xaxis": "x",
         "y": [
          5.246
         ],
         "yaxis": "y"
        },
        {
         "alignmentgroup": "True",
         "hovertemplate": "channel=%{x}<br>cost=%{text}<extra></extra>",
         "legendgroup": "paid advertising",
         "marker": {
          "color": "#EF553B",
          "pattern": {
           "shape": ""
          }
         },
         "name": "paid advertising",
         "offsetgroup": "paid advertising",
         "orientation": "v",
         "showlegend": true,
         "text": [
          30.45
         ],
         "textposition": "auto",
         "type": "bar",
         "x": [
          "paid advertising"
         ],
         "xaxis": "x",
         "y": [
          30.45
         ],
         "yaxis": "y"
        },
        {
         "alignmentgroup": "True",
         "hovertemplate": "channel=%{x}<br>cost=%{text}<extra></extra>",
         "legendgroup": "referral",
         "marker": {
          "color": "#00cc96",
          "pattern": {
           "shape": ""
          }
         },
         "name": "referral",
         "offsetgroup": "referral",
         "orientation": "v",
         "showlegend": true,
         "text": [
          8.32
         ],
         "textposition": "auto",
         "type": "bar",
         "x": [
          "referral"
         ],
         "xaxis": "x",
         "y": [
          8.32
         ],
         "yaxis": "y"
        },
        {
         "alignmentgroup": "True",
         "hovertemplate": "channel=%{x}<br>cost=%{text}<extra></extra>",
         "legendgroup": "social media",
         "marker": {
          "color": "#ab63fa",
          "pattern": {
           "shape": ""
          }
         },
         "name": "social media",
         "offsetgroup": "social media",
         "orientation": "v",
         "showlegend": true,
         "text": [
          9.546
         ],
         "textposition": "auto",
         "type": "bar",
         "x": [
          "social media"
         ],
         "xaxis": "x",
         "y": [
          9.546
         ],
         "yaxis": "y"
        }
       ],
       "layout": {
        "autosize": true,
        "barmode": "relative",
        "legend": {
         "title": {
          "text": "channel"
         },
         "tracegroupgap": 0
        },
        "template": {
         "data": {
          "bar": [
           {
            "error_x": {
             "color": "#2a3f5f"
            },
            "error_y": {
             "color": "#2a3f5f"
            },
            "marker": {
             "line": {
              "color": "white",
              "width": 0.5
             },
             "pattern": {
              "fillmode": "overlay",
              "size": 10,
              "solidity": 0.2
             }
            },
            "type": "bar"
           }
          ],
          "barpolar": [
           {
            "marker": {
             "line": {
              "color": "white",
              "width": 0.5
             },
             "pattern": {
              "fillmode": "overlay",
              "size": 10,
              "solidity": 0.2
             }
            },
            "type": "barpolar"
           }
          ],
          "carpet": [
           {
            "aaxis": {
             "endlinecolor": "#2a3f5f",
             "gridcolor": "#C8D4E3",
             "linecolor": "#C8D4E3",
             "minorgridcolor": "#C8D4E3",
             "startlinecolor": "#2a3f5f"
            },
            "baxis": {
             "endlinecolor": "#2a3f5f",
             "gridcolor": "#C8D4E3",
             "linecolor": "#C8D4E3",
             "minorgridcolor": "#C8D4E3",
             "startlinecolor": "#2a3f5f"
            },
            "type": "carpet"
           }
          ],
          "choropleth": [
           {
            "colorbar": {
             "outlinewidth": 0,
             "ticks": ""
            },
            "type": "choropleth"
           }
          ],
          "contour": [
           {
            "colorbar": {
             "outlinewidth": 0,
             "ticks": ""
            },
            "colorscale": [
             [
              0,
              "#0d0887"
             ],
             [
              0.1111111111111111,
              "#46039f"
             ],
             [
              0.2222222222222222,
              "#7201a8"
             ],
             [
              0.3333333333333333,
              "#9c179e"
             ],
             [
              0.4444444444444444,
              "#bd3786"
             ],
             [
              0.5555555555555556,
              "#d8576b"
             ],
             [
              0.6666666666666666,
              "#ed7953"
             ],
             [
              0.7777777777777778,
              "#fb9f3a"
             ],
             [
              0.8888888888888888,
              "#fdca26"
             ],
             [
              1,
              "#f0f921"
             ]
            ],
            "type": "contour"
           }
          ],
          "contourcarpet": [
           {
            "colorbar": {
             "outlinewidth": 0,
             "ticks": ""
            },
            "type": "contourcarpet"
           }
          ],
          "heatmap": [
           {
            "colorbar": {
             "outlinewidth": 0,
             "ticks": ""
            },
            "colorscale": [
             [
              0,
              "#0d0887"
             ],
             [
              0.1111111111111111,
              "#46039f"
             ],
             [
              0.2222222222222222,
              "#7201a8"
             ],
             [
              0.3333333333333333,
              "#9c179e"
             ],
             [
              0.4444444444444444,
              "#bd3786"
             ],
             [
              0.5555555555555556,
              "#d8576b"
             ],
             [
              0.6666666666666666,
              "#ed7953"
             ],
             [
              0.7777777777777778,
              "#fb9f3a"
             ],
             [
              0.8888888888888888,
              "#fdca26"
             ],
             [
              1,
              "#f0f921"
             ]
            ],
            "type": "heatmap"
           }
          ],
          "heatmapgl": [
           {
            "colorbar": {
             "outlinewidth": 0,
             "ticks": ""
            },
            "colorscale": [
             [
              0,
              "#0d0887"
             ],
             [
              0.1111111111111111,
              "#46039f"
             ],
             [
              0.2222222222222222,
              "#7201a8"
             ],
             [
              0.3333333333333333,
              "#9c179e"
             ],
             [
              0.4444444444444444,
              "#bd3786"
             ],
             [
              0.5555555555555556,
              "#d8576b"
             ],
             [
              0.6666666666666666,
              "#ed7953"
             ],
             [
              0.7777777777777778,
              "#fb9f3a"
             ],
             [
              0.8888888888888888,
              "#fdca26"
             ],
             [
              1,
              "#f0f921"
             ]
            ],
            "type": "heatmapgl"
           }
          ],
          "histogram": [
           {
            "marker": {
             "pattern": {
              "fillmode": "overlay",
              "size": 10,
              "solidity": 0.2
             }
            },
            "type": "histogram"
           }
          ],
          "histogram2d": [
           {
            "colorbar": {
             "outlinewidth": 0,
             "ticks": ""
            },
            "colorscale": [
             [
              0,
              "#0d0887"
             ],
             [
              0.1111111111111111,
              "#46039f"
             ],
             [
              0.2222222222222222,
              "#7201a8"
             ],
             [
              0.3333333333333333,
              "#9c179e"
             ],
             [
              0.4444444444444444,
              "#bd3786"
             ],
             [
              0.5555555555555556,
              "#d8576b"
             ],
             [
              0.6666666666666666,
              "#ed7953"
             ],
             [
              0.7777777777777778,
              "#fb9f3a"
             ],
             [
              0.8888888888888888,
              "#fdca26"
             ],
             [
              1,
              "#f0f921"
             ]
            ],
            "type": "histogram2d"
           }
          ],
          "histogram2dcontour": [
           {
            "colorbar": {
             "outlinewidth": 0,
             "ticks": ""
            },
            "colorscale": [
             [
              0,
              "#0d0887"
             ],
             [
              0.1111111111111111,
              "#46039f"
             ],
             [
              0.2222222222222222,
              "#7201a8"
             ],
             [
              0.3333333333333333,
              "#9c179e"
             ],
             [
              0.4444444444444444,
              "#bd3786"
             ],
             [
              0.5555555555555556,
              "#d8576b"
             ],
             [
              0.6666666666666666,
              "#ed7953"
             ],
             [
              0.7777777777777778,
              "#fb9f3a"
             ],
             [
              0.8888888888888888,
              "#fdca26"
             ],
             [
              1,
              "#f0f921"
             ]
            ],
            "type": "histogram2dcontour"
           }
          ],
          "mesh3d": [
           {
            "colorbar": {
             "outlinewidth": 0,
             "ticks": ""
            },
            "type": "mesh3d"
           }
          ],
          "parcoords": [
           {
            "line": {
             "colorbar": {
              "outlinewidth": 0,
              "ticks": ""
             }
            },
            "type": "parcoords"
           }
          ],
          "pie": [
           {
            "automargin": true,
            "type": "pie"
           }
          ],
          "scatter": [
           {
            "fillpattern": {
             "fillmode": "overlay",
             "size": 10,
             "solidity": 0.2
            },
            "type": "scatter"
           }
          ],
          "scatter3d": [
           {
            "line": {
             "colorbar": {
              "outlinewidth": 0,
              "ticks": ""
             }
            },
            "marker": {
             "colorbar": {
              "outlinewidth": 0,
              "ticks": ""
             }
            },
            "type": "scatter3d"
           }
          ],
          "scattercarpet": [
           {
            "marker": {
             "colorbar": {
              "outlinewidth": 0,
              "ticks": ""
             }
            },
            "type": "scattercarpet"
           }
          ],
          "scattergeo": [
           {
            "marker": {
             "colorbar": {
              "outlinewidth": 0,
              "ticks": ""
             }
            },
            "type": "scattergeo"
           }
          ],
          "scattergl": [
           {
            "marker": {
             "colorbar": {
              "outlinewidth": 0,
              "ticks": ""
             }
            },
            "type": "scattergl"
           }
          ],
          "scattermapbox": [
           {
            "marker": {
             "colorbar": {
              "outlinewidth": 0,
              "ticks": ""
             }
            },
            "type": "scattermapbox"
           }
          ],
          "scatterpolar": [
           {
            "marker": {
             "colorbar": {
              "outlinewidth": 0,
              "ticks": ""
             }
            },
            "type": "scatterpolar"
           }
          ],
          "scatterpolargl": [
           {
            "marker": {
             "colorbar": {
              "outlinewidth": 0,
              "ticks": ""
             }
            },
            "type": "scatterpolargl"
           }
          ],
          "scatterternary": [
           {
            "marker": {
             "colorbar": {
              "outlinewidth": 0,
              "ticks": ""
             }
            },
            "type": "scatterternary"
           }
          ],
          "surface": [
           {
            "colorbar": {
             "outlinewidth": 0,
             "ticks": ""
            },
            "colorscale": [
             [
              0,
              "#0d0887"
             ],
             [
              0.1111111111111111,
              "#46039f"
             ],
             [
              0.2222222222222222,
              "#7201a8"
             ],
             [
              0.3333333333333333,
              "#9c179e"
             ],
             [
              0.4444444444444444,
              "#bd3786"
             ],
             [
              0.5555555555555556,
              "#d8576b"
             ],
             [
              0.6666666666666666,
              "#ed7953"
             ],
             [
              0.7777777777777778,
              "#fb9f3a"
             ],
             [
              0.8888888888888888,
              "#fdca26"
             ],
             [
              1,
              "#f0f921"
             ]
            ],
            "type": "surface"
           }
          ],
          "table": [
           {
            "cells": {
             "fill": {
              "color": "#EBF0F8"
             },
             "line": {
              "color": "white"
             }
            },
            "header": {
             "fill": {
              "color": "#C8D4E3"
             },
             "line": {
              "color": "white"
             }
            },
            "type": "table"
           }
          ]
         },
         "layout": {
          "annotationdefaults": {
           "arrowcolor": "#2a3f5f",
           "arrowhead": 0,
           "arrowwidth": 1
          },
          "autotypenumbers": "strict",
          "coloraxis": {
           "colorbar": {
            "outlinewidth": 0,
            "ticks": ""
           }
          },
          "colorscale": {
           "diverging": [
            [
             0,
             "#8e0152"
            ],
            [
             0.1,
             "#c51b7d"
            ],
            [
             0.2,
             "#de77ae"
            ],
            [
             0.3,
             "#f1b6da"
            ],
            [
             0.4,
             "#fde0ef"
            ],
            [
             0.5,
             "#f7f7f7"
            ],
            [
             0.6,
             "#e6f5d0"
            ],
            [
             0.7,
             "#b8e186"
            ],
            [
             0.8,
             "#7fbc41"
            ],
            [
             0.9,
             "#4d9221"
            ],
            [
             1,
             "#276419"
            ]
           ],
           "sequential": [
            [
             0,
             "#0d0887"
            ],
            [
             0.1111111111111111,
             "#46039f"
            ],
            [
             0.2222222222222222,
             "#7201a8"
            ],
            [
             0.3333333333333333,
             "#9c179e"
            ],
            [
             0.4444444444444444,
             "#bd3786"
            ],
            [
             0.5555555555555556,
             "#d8576b"
            ],
            [
             0.6666666666666666,
             "#ed7953"
            ],
            [
             0.7777777777777778,
             "#fb9f3a"
            ],
            [
             0.8888888888888888,
             "#fdca26"
            ],
            [
             1,
             "#f0f921"
            ]
           ],
           "sequentialminus": [
            [
             0,
             "#0d0887"
            ],
            [
             0.1111111111111111,
             "#46039f"
            ],
            [
             0.2222222222222222,
             "#7201a8"
            ],
            [
             0.3333333333333333,
             "#9c179e"
            ],
            [
             0.4444444444444444,
             "#bd3786"
            ],
            [
             0.5555555555555556,
             "#d8576b"
            ],
            [
             0.6666666666666666,
             "#ed7953"
            ],
            [
             0.7777777777777778,
             "#fb9f3a"
            ],
            [
             0.8888888888888888,
             "#fdca26"
            ],
            [
             1,
             "#f0f921"
            ]
           ]
          },
          "colorway": [
           "#636efa",
           "#EF553B",
           "#00cc96",
           "#ab63fa",
           "#FFA15A",
           "#19d3f3",
           "#FF6692",
           "#B6E880",
           "#FF97FF",
           "#FECB52"
          ],
          "font": {
           "color": "#2a3f5f"
          },
          "geo": {
           "bgcolor": "white",
           "lakecolor": "white",
           "landcolor": "white",
           "showlakes": true,
           "showland": true,
           "subunitcolor": "#C8D4E3"
          },
          "hoverlabel": {
           "align": "left"
          },
          "hovermode": "closest",
          "mapbox": {
           "style": "light"
          },
          "paper_bgcolor": "white",
          "plot_bgcolor": "white",
          "polar": {
           "angularaxis": {
            "gridcolor": "#EBF0F8",
            "linecolor": "#EBF0F8",
            "ticks": ""
           },
           "bgcolor": "white",
           "radialaxis": {
            "gridcolor": "#EBF0F8",
            "linecolor": "#EBF0F8",
            "ticks": ""
           }
          },
          "scene": {
           "xaxis": {
            "backgroundcolor": "white",
            "gridcolor": "#DFE8F3",
            "gridwidth": 2,
            "linecolor": "#EBF0F8",
            "showbackground": true,
            "ticks": "",
            "zerolinecolor": "#EBF0F8"
           },
           "yaxis": {
            "backgroundcolor": "white",
            "gridcolor": "#DFE8F3",
            "gridwidth": 2,
            "linecolor": "#EBF0F8",
            "showbackground": true,
            "ticks": "",
            "zerolinecolor": "#EBF0F8"
           },
           "zaxis": {
            "backgroundcolor": "white",
            "gridcolor": "#DFE8F3",
            "gridwidth": 2,
            "linecolor": "#EBF0F8",
            "showbackground": true,
            "ticks": "",
            "zerolinecolor": "#EBF0F8"
           }
          },
          "shapedefaults": {
           "line": {
            "color": "#2a3f5f"
           }
          },
          "ternary": {
           "aaxis": {
            "gridcolor": "#DFE8F3",
            "linecolor": "#A2B1C6",
            "ticks": ""
           },
           "baxis": {
            "gridcolor": "#DFE8F3",
            "linecolor": "#A2B1C6",
            "ticks": ""
           },
           "bgcolor": "white",
           "caxis": {
            "gridcolor": "#DFE8F3",
            "linecolor": "#A2B1C6",
            "ticks": ""
           }
          },
          "title": {
           "x": 0.05
          },
          "xaxis": {
           "automargin": true,
           "gridcolor": "#EBF0F8",
           "linecolor": "#EBF0F8",
           "ticks": "",
           "title": {
            "standoff": 15
           },
           "zerolinecolor": "#EBF0F8",
           "zerolinewidth": 2
          },
          "yaxis": {
           "automargin": true,
           "gridcolor": "#EBF0F8",
           "linecolor": "#EBF0F8",
           "ticks": "",
           "title": {
            "standoff": 15
           },
           "zerolinecolor": "#EBF0F8",
           "zerolinewidth": 2
          }
         }
        },
        "title": {
         "text": "Customer Acquisition Cost by Channel"
        },
        "xaxis": {
         "anchor": "y",
         "autorange": true,
         "categoryarray": [
          "email marketing",
          "paid advertising",
          "referral",
          "social media"
         ],
         "categoryorder": "array",
         "domain": [
          0,
          1
         ],
         "range": [
          -0.5,
          3.5
         ],
         "title": {
          "text": "Channel"
         },
         "type": "category"
        },
        "yaxis": {
         "anchor": "x",
         "autorange": true,
         "domain": [
          0,
          1
         ],
         "range": [
          0,
          32.05263157894737
         ],
         "title": {
          "text": "CAC"
         },
         "type": "linear"
        }
       }
      },
      "image/png": "[encoded data removed]",
      "text/html": [
       "<div>                            <div id=\"51da0d22-dda9-4e86-9fd2-0f595c892edb\" class=\"plotly-graph-div\" style=\"height:525px; width:100%;\"></div>            <script type=\"text/javascript\">                require([\"plotly\"], function(Plotly) {                    window.PLOTLYENV=window.PLOTLYENV || {};                                    if (document.getElementById(\"51da0d22-dda9-4e86-9fd2-0f595c892edb\")) {                    Plotly.newPlot(                        \"51da0d22-dda9-4e86-9fd2-0f595c892edb\",                        [{\"alignmentgroup\":\"True\",\"hovertemplate\":\"channel=%{x}\\u003cbr\\u003ecost=%{text}\\u003cextra\\u003e\\u003c\\u002fextra\\u003e\",\"legendgroup\":\"email marketing\",\"marker\":{\"color\":\"#636efa\",\"pattern\":{\"shape\":\"\"}},\"name\":\"email marketing\",\"offsetgroup\":\"email marketing\",\"orientation\":\"v\",\"showlegend\":true,\"text\":[5.246],\"textposition\":\"auto\",\"x\":[\"email marketing\"],\"xaxis\":\"x\",\"y\":[5.246],\"yaxis\":\"y\",\"type\":\"bar\"},{\"alignmentgroup\":\"True\",\"hovertemplate\":\"channel=%{x}\\u003cbr\\u003ecost=%{text}\\u003cextra\\u003e\\u003c\\u002fextra\\u003e\",\"legendgroup\":\"paid advertising\",\"marker\":{\"color\":\"#EF553B\",\"pattern\":{\"shape\":\"\"}},\"name\":\"paid advertising\",\"offsetgroup\":\"paid advertising\",\"orientation\":\"v\",\"showlegend\":true,\"text\":[30.45],\"textposition\":\"auto\",\"x\":[\"paid advertising\"],\"xaxis\":\"x\",\"y\":[30.45],\"yaxis\":\"y\",\"type\":\"bar\"},{\"alignmentgroup\":\"True\",\"hovertemplate\":\"channel=%{x}\\u003cbr\\u003ecost=%{text}\\u003cextra\\u003e\\u003c\\u002fextra\\u003e\",\"legendgroup\":\"referral\",\"marker\":{\"color\":\"#00cc96\",\"pattern\":{\"shape\":\"\"}},\"name\":\"referral\",\"offsetgroup\":\"referral\",\"orientation\":\"v\",\"showlegend\":true,\"text\":[8.32],\"textposition\":\"auto\",\"x\":[\"referral\"],\"xaxis\":\"x\",\"y\":[8.32],\"yaxis\":\"y\",\"type\":\"bar\"},{\"alignmentgroup\":\"True\",\"hovertemplate\":\"channel=%{x}\\u003cbr\\u003ecost=%{text}\\u003cextra\\u003e\\u003c\\u002fextra\\u003e\",\"legendgroup\":\"social media\",\"marker\":{\"color\":\"#ab63fa\",\"pattern\":{\"shape\":\"\"}},\"name\":\"social media\",\"offsetgroup\":\"social media\",\"orientation\":\"v\",\"showlegend\":true,\"text\":[9.546],\"textposition\":\"auto\",\"x\":[\"social media\"],\"xaxis\":\"x\",\"y\":[9.546],\"yaxis\":\"y\",\"type\":\"bar\"}],                        {\"template\":{\"data\":{\"histogram2dcontour\":[{\"type\":\"histogram2dcontour\",\"colorbar\":{\"outlinewidth\":0,\"ticks\":\"\"},\"colorscale\":[[0.0,\"#0d0887\"],[0.1111111111111111,\"#46039f\"],[0.2222222222222222,\"#7201a8\"],[0.3333333333333333,\"#9c179e\"],[0.4444444444444444,\"#bd3786\"],[0.5555555555555556,\"#d8576b\"],[0.6666666666666666,\"#ed7953\"],[0.7777777777777778,\"#fb9f3a\"],[0.8888888888888888,\"#fdca26\"],[1.0,\"#f0f921\"]]}],\"choropleth\":[{\"type\":\"choropleth\",\"colorbar\":{\"outlinewidth\":0,\"ticks\":\"\"}}],\"histogram2d\":[{\"type\":\"histogram2d\",\"colorbar\":{\"outlinewidth\":0,\"ticks\":\"\"},\"colorscale\":[[0.0,\"#0d0887\"],[0.1111111111111111,\"#46039f\"],[0.2222222222222222,\"#7201a8\"],[0.3333333333333333,\"#9c179e\"],[0.4444444444444444,\"#bd3786\"],[0.5555555555555556,\"#d8576b\"],[0.6666666666666666,\"#ed7953\"],[0.7777777777777778,\"#fb9f3a\"],[0.8888888888888888,\"#fdca26\"],[1.0,\"#f0f921\"]]}],\"heatmap\":[{\"type\":\"heatmap\",\"colorbar\":{\"outlinewidth\":0,\"ticks\":\"\"},\"colorscale\":[[0.0,\"#0d0887\"],[0.1111111111111111,\"#46039f\"],[0.2222222222222222,\"#7201a8\"],[0.3333333333333333,\"#9c179e\"],[0.4444444444444444,\"#bd3786\"],[0.5555555555555556,\"#d8576b\"],[0.6666666666666666,\"#ed7953\"],[0.7777777777777778,\"#fb9f3a\"],[0.8888888888888888,\"#fdca26\"],[1.0,\"#f0f921\"]]}],\"heatmapgl\":[{\"type\":\"heatmapgl\",\"colorbar\":{\"outlinewidth\":0,\"ticks\":\"\"},\"colorscale\":[[0.0,\"#0d0887\"],[0.1111111111111111,\"#46039f\"],[0.2222222222222222,\"#7201a8\"],[0.3333333333333333,\"#9c179e\"],[0.4444444444444444,\"#bd3786\"],[0.5555555555555556,\"#d8576b\"],[0.6666666666666666,\"#ed7953\"],[0.7777777777777778,\"#fb9f3a\"],[0.8888888888888888,\"#fdca26\"],[1.0,\"#f0f921\"]]}],\"contourcarpet\":[{\"type\":\"contourcarpet\",\"colorbar\":{\"outlinewidth\":0,\"ticks\":\"\"}}],\"contour\":[{\"type\":\"contour\",\"colorbar\":{\"outlinewidth\":0,\"ticks\":\"\"},\"colorscale\":[[0.0,\"#0d0887\"],[0.1111111111111111,\"#46039f\"],[0.2222222222222222,\"#7201a8\"],[0.3333333333333333,\"#9c179e\"],[0.4444444444444444,\"#bd3786\"],[0.5555555555555556,\"#d8576b\"],[0.6666666666666666,\"#ed7953\"],[0.7777777777777778,\"#fb9f3a\"],[0.8888888888888888,\"#fdca26\"],[1.0,\"#f0f921\"]]}],\"surface\":[{\"type\":\"surface\",\"colorbar\":{\"outlinewidth\":0,\"ticks\":\"\"},\"colorscale\":[[0.0,\"#0d0887\"],[0.1111111111111111,\"#46039f\"],[0.2222222222222222,\"#7201a8\"],[0.3333333333333333,\"#9c179e\"],[0.4444444444444444,\"#bd3786\"],[0.5555555555555556,\"#d8576b\"],[0.6666666666666666,\"#ed7953\"],[0.7777777777777778,\"#fb9f3a\"],[0.8888888888888888,\"#fdca26\"],[1.0,\"#f0f921\"]]}],\"mesh3d\":[{\"type\":\"mesh3d\",\"colorbar\":{\"outlinewidth\":0,\"ticks\":\"\"}}],\"scatter\":[{\"fillpattern\":{\"fillmode\":\"overlay\",\"size\":10,\"solidity\":0.2},\"type\":\"scatter\"}],\"parcoords\":[{\"type\":\"parcoords\",\"line\":{\"colorbar\":{\"outlinewidth\":0,\"ticks\":\"\"}}}],\"scatterpolargl\":[{\"type\":\"scatterpolargl\",\"marker\":{\"colorbar\":{\"outlinewidth\":0,\"ticks\":\"\"}}}],\"bar\":[{\"error_x\":{\"color\":\"#2a3f5f\"},\"error_y\":{\"color\":\"#2a3f5f\"},\"marker\":{\"line\":{\"color\":\"white\",\"width\":0.5},\"pattern\":{\"fillmode\":\"overlay\",\"size\":10,\"solidity\":0.2}},\"type\":\"bar\"}],\"scattergeo\":[{\"type\":\"scattergeo\",\"marker\":{\"colorbar\":{\"outlinewidth\":0,\"ticks\":\"\"}}}],\"scatterpolar\":[{\"type\":\"scatterpolar\",\"marker\":{\"colorbar\":{\"outlinewidth\":0,\"ticks\":\"\"}}}],\"histogram\":[{\"marker\":{\"pattern\":{\"fillmode\":\"overlay\",\"size\":10,\"solidity\":0.2}},\"type\":\"histogram\"}],\"scattergl\":[{\"type\":\"scattergl\",\"marker\":{\"colorbar\":{\"outlinewidth\":0,\"ticks\":\"\"}}}],\"scatter3d\":[{\"type\":\"scatter3d\",\"line\":{\"colorbar\":{\"outlinewidth\":0,\"ticks\":\"\"}},\"marker\":{\"colorbar\":{\"outlinewidth\":0,\"ticks\":\"\"}}}],\"scattermapbox\":[{\"type\":\"scattermapbox\",\"marker\":{\"colorbar\":{\"outlinewidth\":0,\"ticks\":\"\"}}}],\"scatterternary\":[{\"type\":\"scatterternary\",\"marker\":{\"colorbar\":{\"outlinewidth\":0,\"ticks\":\"\"}}}],\"scattercarpet\":[{\"type\":\"scattercarpet\",\"marker\":{\"colorbar\":{\"outlinewidth\":0,\"ticks\":\"\"}}}],\"carpet\":[{\"aaxis\":{\"endlinecolor\":\"#2a3f5f\",\"gridcolor\":\"#C8D4E3\",\"linecolor\":\"#C8D4E3\",\"minorgridcolor\":\"#C8D4E3\",\"startlinecolor\":\"#2a3f5f\"},\"baxis\":{\"endlinecolor\":\"#2a3f5f\",\"gridcolor\":\"#C8D4E3\",\"linecolor\":\"#C8D4E3\",\"minorgridcolor\":\"#C8D4E3\",\"startlinecolor\":\"#2a3f5f\"},\"type\":\"carpet\"}],\"table\":[{\"cells\":{\"fill\":{\"color\":\"#EBF0F8\"},\"line\":{\"color\":\"white\"}},\"header\":{\"fill\":{\"color\":\"#C8D4E3\"},\"line\":{\"color\":\"white\"}},\"type\":\"table\"}],\"barpolar\":[{\"marker\":{\"line\":{\"color\":\"white\",\"width\":0.5},\"pattern\":{\"fillmode\":\"overlay\",\"size\":10,\"solidity\":0.2}},\"type\":\"barpolar\"}],\"pie\":[{\"automargin\":true,\"type\":\"pie\"}]},\"layout\":{\"autotypenumbers\":\"strict\",\"colorway\":[\"#636efa\",\"#EF553B\",\"#00cc96\",\"#ab63fa\",\"#FFA15A\",\"#19d3f3\",\"#FF6692\",\"#B6E880\",\"#FF97FF\",\"#FECB52\"],\"font\":{\"color\":\"#2a3f5f\"},\"hovermode\":\"closest\",\"hoverlabel\":{\"align\":\"left\"},\"paper_bgcolor\":\"white\",\"plot_bgcolor\":\"white\",\"polar\":{\"bgcolor\":\"white\",\"angularaxis\":{\"gridcolor\":\"#EBF0F8\",\"linecolor\":\"#EBF0F8\",\"ticks\":\"\"},\"radialaxis\":{\"gridcolor\":\"#EBF0F8\",\"linecolor\":\"#EBF0F8\",\"ticks\":\"\"}},\"ternary\":{\"bgcolor\":\"white\",\"aaxis\":{\"gridcolor\":\"#DFE8F3\",\"linecolor\":\"#A2B1C6\",\"ticks\":\"\"},\"baxis\":{\"gridcolor\":\"#DFE8F3\",\"linecolor\":\"#A2B1C6\",\"ticks\":\"\"},\"caxis\":{\"gridcolor\":\"#DFE8F3\",\"linecolor\":\"#A2B1C6\",\"ticks\":\"\"}},\"coloraxis\":{\"colorbar\":{\"outlinewidth\":0,\"ticks\":\"\"}},\"colorscale\":{\"sequential\":[[0.0,\"#0d0887\"],[0.1111111111111111,\"#46039f\"],[0.2222222222222222,\"#7201a8\"],[0.3333333333333333,\"#9c179e\"],[0.4444444444444444,\"#bd3786\"],[0.5555555555555556,\"#d8576b\"],[0.6666666666666666,\"#ed7953\"],[0.7777777777777778,\"#fb9f3a\"],[0.8888888888888888,\"#fdca26\"],[1.0,\"#f0f921\"]],\"sequentialminus\":[[0.0,\"#0d0887\"],[0.1111111111111111,\"#46039f\"],[0.2222222222222222,\"#7201a8\"],[0.3333333333333333,\"#9c179e\"],[0.4444444444444444,\"#bd3786\"],[0.5555555555555556,\"#d8576b\"],[0.6666666666666666,\"#ed7953\"],[0.7777777777777778,\"#fb9f3a\"],[0.8888888888888888,\"#fdca26\"],[1.0,\"#f0f921\"]],\"diverging\":[[0,\"#8e0152\"],[0.1,\"#c51b7d\"],[0.2,\"#de77ae\"],[0.3,\"#f1b6da\"],[0.4,\"#fde0ef\"],[0.5,\"#f7f7f7\"],[0.6,\"#e6f5d0\"],[0.7,\"#b8e186\"],[0.8,\"#7fbc41\"],[0.9,\"#4d9221\"],[1,\"#276419\"]]},\"xaxis\":{\"gridcolor\":\"#EBF0F8\",\"linecolor\":\"#EBF0F8\",\"ticks\":\"\",\"title\":{\"standoff\":15},\"zerolinecolor\":\"#EBF0F8\",\"automargin\":true,\"zerolinewidth\":2},\"yaxis\":{\"gridcolor\":\"#EBF0F8\",\"linecolor\":\"#EBF0F8\",\"ticks\":\"\",\"title\":{\"standoff\":15},\"zerolinecolor\":\"#EBF0F8\",\"automargin\":true,\"zerolinewidth\":2},\"scene\":{\"xaxis\":{\"backgroundcolor\":\"white\",\"gridcolor\":\"#DFE8F3\",\"linecolor\":\"#EBF0F8\",\"showbackground\":true,\"ticks\":\"\",\"zerolinecolor\":\"#EBF0F8\",\"gridwidth\":2},\"yaxis\":{\"backgroundcolor\":\"white\",\"gridcolor\":\"#DFE8F3\",\"linecolor\":\"#EBF0F8\",\"showbackground\":true,\"ticks\":\"\",\"zerolinecolor\":\"#EBF0F8\",\"gridwidth\":2},\"zaxis\":{\"backgroundcolor\":\"white\",\"gridcolor\":\"#DFE8F3\",\"linecolor\":\"#EBF0F8\",\"showbackground\":true,\"ticks\":\"\",\"zerolinecolor\":\"#EBF0F8\",\"gridwidth\":2}},\"shapedefaults\":{\"line\":{\"color\":\"#2a3f5f\"}},\"annotationdefaults\":{\"arrowcolor\":\"#2a3f5f\",\"arrowhead\":0,\"arrowwidth\":1},\"geo\":{\"bgcolor\":\"white\",\"landcolor\":\"white\",\"subunitcolor\":\"#C8D4E3\",\"showland\":true,\"showlakes\":true,\"lakecolor\":\"white\"},\"title\":{\"x\":0.05},\"mapbox\":{\"style\":\"light\"}}},\"xaxis\":{\"anchor\":\"y\",\"domain\":[0.0,1.0],\"title\":{\"text\":\"Channel\"},\"categoryorder\":\"array\",\"categoryarray\":[\"email marketing\",\"paid advertising\",\"referral\",\"social media\"]},\"yaxis\":{\"anchor\":\"x\",\"domain\":[0.0,1.0],\"title\":{\"text\":\"CAC\"}},\"legend\":{\"title\":{\"text\":\"channel\"},\"tracegroupgap\":0},\"title\":{\"text\":\"Customer Acquisition Cost by Channel\"},\"barmode\":\"relative\"},                        {\"responsive\": true}                    ).then(function(){\n",
       "                            \n",
       "var gd = document.getElementById('51da0d22-dda9-4e86-9fd2-0f595c892edb');\n",
       "var x = new MutationObserver(function (mutations, observer) {{\n",
       "        var display = window.getComputedStyle(gd).display;\n",
       "        if (!display || display === 'none') {{\n",
       "            console.log([gd, 'removed!']);\n",
       "            Plotly.purge(gd);\n",
       "            observer.disconnect();\n",
       "        }}\n",
       "}});\n",
       "\n",
       "// Listen for the removal of the full notebook cells\n",
       "var notebookContainer = gd.closest('#notebook-container');\n",
       "if (notebookContainer) {{\n",
       "    x.observe(notebookContainer, {childList: true});\n",
       "}}\n",
       "\n",
       "// Listen for the clearing of the current output cell\n",
       "var outputEl = gd.closest('.output');\n",
       "if (outputEl) {{\n",
       "    x.observe(outputEl, {childList: true});\n",
       "}}\n",
       "\n",
       "                        })                };                });            </script>        </div>"
      ]
     },
     "metadata": {},
     "output_type": "display_data"
    }
   ],
   "source": [
    "fig = px.bar(cost_by_channel, x='channel', y='cost', text='cost', color= 'channel', title='Customer Acquisition Cost by Channel')\n",
    "fig.update_layout(xaxis_title='Channel', yaxis_title='CAC')\n",
    "fig.show()"
   ]
  },
  {
   "cell_type": "markdown",
   "id": "87984c9a-d519-47bc-8ac2-24bfd081d928",
   "metadata": {},
   "source": [
    "Revenue Generated by each Channel"
   ]
  },
  {
   "cell_type": "code",
   "execution_count": 43,
   "id": "3b841792-009d-4fd1-bcae-eec19746328c",
   "metadata": {},
   "outputs": [
    {
     "data": {
      "text/html": [
       "<div>\n",
       "<style scoped>\n",
       "    .dataframe tbody tr th:only-of-type {\n",
       "        vertical-align: middle;\n",
       "    }\n",
       "\n",
       "    .dataframe tbody tr th {\n",
       "        vertical-align: top;\n",
       "    }\n",
       "\n",
       "    .dataframe thead th {\n",
       "        text-align: right;\n",
       "    }\n",
       "</style>\n",
       "<table border=\"1\" class=\"dataframe\">\n",
       "  <thead>\n",
       "    <tr style=\"text-align: right;\">\n",
       "      <th></th>\n",
       "      <th>channel</th>\n",
       "      <th>revenue</th>\n",
       "    </tr>\n",
       "  </thead>\n",
       "  <tbody>\n",
       "    <tr>\n",
       "      <th>0</th>\n",
       "      <td>email marketing</td>\n",
       "      <td>604706</td>\n",
       "    </tr>\n",
       "    <tr>\n",
       "      <th>1</th>\n",
       "      <td>paid advertising</td>\n",
       "      <td>548396</td>\n",
       "    </tr>\n",
       "    <tr>\n",
       "      <th>2</th>\n",
       "      <td>referral</td>\n",
       "      <td>569552</td>\n",
       "    </tr>\n",
       "    <tr>\n",
       "      <th>3</th>\n",
       "      <td>social media</td>\n",
       "      <td>492667</td>\n",
       "    </tr>\n",
       "  </tbody>\n",
       "</table>\n",
       "</div>"
      ],
      "text/plain": [
       "            channel  revenue\n",
       "0   email marketing   604706\n",
       "1  paid advertising   548396\n",
       "2          referral   569552\n",
       "3      social media   492667"
      ]
     },
     "execution_count": 43,
     "metadata": {},
     "output_type": "execute_result"
    }
   ],
   "source": [
    "revenue_by_channel = data.groupby('channel')['revenue'].sum().reset_index()\n",
    "revenue_by_channel"
   ]
  },
  {
   "cell_type": "code",
   "execution_count": 59,
   "id": "79845ec2-5c86-4d77-a28c-879636b82eff",
   "metadata": {},
   "outputs": [
    {
     "data": {
      "application/vnd.plotly.v1+json": {
       "config": {
        "plotlyServerURL": "https://plot.ly"
       },
       "data": [
        {
         "domain": {
          "x": [
           0,
           1
          ],
          "y": [
           0,
           1
          ]
         },
         "hole": 0.8,
         "hovertemplate": "channel=%{label}<br>revenue=%{value}<extra></extra>",
         "labels": [
          "email marketing",
          "paid advertising",
          "referral",
          "social media"
         ],
         "legendgroup": "",
         "name": "",
         "showlegend": true,
         "type": "pie",
         "values": [
          604706,
          548396,
          569552,
          492667
         ]
        }
       ],
       "layout": {
        "autosize": true,
        "legend": {
         "tracegroupgap": 0
        },
        "piecolorway": [
         "rgb(102, 197, 204)",
         "rgb(246, 207, 113)",
         "rgb(248, 156, 116)",
         "rgb(220, 176, 242)",
         "rgb(135, 197, 95)",
         "rgb(158, 185, 243)",
         "rgb(254, 136, 177)",
         "rgb(201, 219, 116)",
         "rgb(139, 224, 164)",
         "rgb(180, 151, 231)",
         "rgb(179, 179, 179)"
        ],
        "template": {
         "data": {
          "bar": [
           {
            "error_x": {
             "color": "#2a3f5f"
            },
            "error_y": {
             "color": "#2a3f5f"
            },
            "marker": {
             "line": {
              "color": "white",
              "width": 0.5
             },
             "pattern": {
              "fillmode": "overlay",
              "size": 10,
              "solidity": 0.2
             }
            },
            "type": "bar"
           }
          ],
          "barpolar": [
           {
            "marker": {
             "line": {
              "color": "white",
              "width": 0.5
             },
             "pattern": {
              "fillmode": "overlay",
              "size": 10,
              "solidity": 0.2
             }
            },
            "type": "barpolar"
           }
          ],
          "carpet": [
           {
            "aaxis": {
             "endlinecolor": "#2a3f5f",
             "gridcolor": "#C8D4E3",
             "linecolor": "#C8D4E3",
             "minorgridcolor": "#C8D4E3",
             "startlinecolor": "#2a3f5f"
            },
            "baxis": {
             "endlinecolor": "#2a3f5f",
             "gridcolor": "#C8D4E3",
             "linecolor": "#C8D4E3",
             "minorgridcolor": "#C8D4E3",
             "startlinecolor": "#2a3f5f"
            },
            "type": "carpet"
           }
          ],
          "choropleth": [
           {
            "colorbar": {
             "outlinewidth": 0,
             "ticks": ""
            },
            "type": "choropleth"
           }
          ],
          "contour": [
           {
            "colorbar": {
             "outlinewidth": 0,
             "ticks": ""
            },
            "colorscale": [
             [
              0,
              "#0d0887"
             ],
             [
              0.1111111111111111,
              "#46039f"
             ],
             [
              0.2222222222222222,
              "#7201a8"
             ],
             [
              0.3333333333333333,
              "#9c179e"
             ],
             [
              0.4444444444444444,
              "#bd3786"
             ],
             [
              0.5555555555555556,
              "#d8576b"
             ],
             [
              0.6666666666666666,
              "#ed7953"
             ],
             [
              0.7777777777777778,
              "#fb9f3a"
             ],
             [
              0.8888888888888888,
              "#fdca26"
             ],
             [
              1,
              "#f0f921"
             ]
            ],
            "type": "contour"
           }
          ],
          "contourcarpet": [
           {
            "colorbar": {
             "outlinewidth": 0,
             "ticks": ""
            },
            "type": "contourcarpet"
           }
          ],
          "heatmap": [
           {
            "colorbar": {
             "outlinewidth": 0,
             "ticks": ""
            },
            "colorscale": [
             [
              0,
              "#0d0887"
             ],
             [
              0.1111111111111111,
              "#46039f"
             ],
             [
              0.2222222222222222,
              "#7201a8"
             ],
             [
              0.3333333333333333,
              "#9c179e"
             ],
             [
              0.4444444444444444,
              "#bd3786"
             ],
             [
              0.5555555555555556,
              "#d8576b"
             ],
             [
              0.6666666666666666,
              "#ed7953"
             ],
             [
              0.7777777777777778,
              "#fb9f3a"
             ],
             [
              0.8888888888888888,
              "#fdca26"
             ],
             [
              1,
              "#f0f921"
             ]
            ],
            "type": "heatmap"
           }
          ],
          "heatmapgl": [
           {
            "colorbar": {
             "outlinewidth": 0,
             "ticks": ""
            },
            "colorscale": [
             [
              0,
              "#0d0887"
             ],
             [
              0.1111111111111111,
              "#46039f"
             ],
             [
              0.2222222222222222,
              "#7201a8"
             ],
             [
              0.3333333333333333,
              "#9c179e"
             ],
             [
              0.4444444444444444,
              "#bd3786"
             ],
             [
              0.5555555555555556,
              "#d8576b"
             ],
             [
              0.6666666666666666,
              "#ed7953"
             ],
             [
              0.7777777777777778,
              "#fb9f3a"
             ],
             [
              0.8888888888888888,
              "#fdca26"
             ],
             [
              1,
              "#f0f921"
             ]
            ],
            "type": "heatmapgl"
           }
          ],
          "histogram": [
           {
            "marker": {
             "pattern": {
              "fillmode": "overlay",
              "size": 10,
              "solidity": 0.2
             }
            },
            "type": "histogram"
           }
          ],
          "histogram2d": [
           {
            "colorbar": {
             "outlinewidth": 0,
             "ticks": ""
            },
            "colorscale": [
             [
              0,
              "#0d0887"
             ],
             [
              0.1111111111111111,
              "#46039f"
             ],
             [
              0.2222222222222222,
              "#7201a8"
             ],
             [
              0.3333333333333333,
              "#9c179e"
             ],
             [
              0.4444444444444444,
              "#bd3786"
             ],
             [
              0.5555555555555556,
              "#d8576b"
             ],
             [
              0.6666666666666666,
              "#ed7953"
             ],
             [
              0.7777777777777778,
              "#fb9f3a"
             ],
             [
              0.8888888888888888,
              "#fdca26"
             ],
             [
              1,
              "#f0f921"
             ]
            ],
            "type": "histogram2d"
           }
          ],
          "histogram2dcontour": [
           {
            "colorbar": {
             "outlinewidth": 0,
             "ticks": ""
            },
            "colorscale": [
             [
              0,
              "#0d0887"
             ],
             [
              0.1111111111111111,
              "#46039f"
             ],
             [
              0.2222222222222222,
              "#7201a8"
             ],
             [
              0.3333333333333333,
              "#9c179e"
             ],
             [
              0.4444444444444444,
              "#bd3786"
             ],
             [
              0.5555555555555556,
              "#d8576b"
             ],
             [
              0.6666666666666666,
              "#ed7953"
             ],
             [
              0.7777777777777778,
              "#fb9f3a"
             ],
             [
              0.8888888888888888,
              "#fdca26"
             ],
             [
              1,
              "#f0f921"
             ]
            ],
            "type": "histogram2dcontour"
           }
          ],
          "mesh3d": [
           {
            "colorbar": {
             "outlinewidth": 0,
             "ticks": ""
            },
            "type": "mesh3d"
           }
          ],
          "parcoords": [
           {
            "line": {
             "colorbar": {
              "outlinewidth": 0,
              "ticks": ""
             }
            },
            "type": "parcoords"
           }
          ],
          "pie": [
           {
            "automargin": true,
            "type": "pie"
           }
          ],
          "scatter": [
           {
            "fillpattern": {
             "fillmode": "overlay",
             "size": 10,
             "solidity": 0.2
            },
            "type": "scatter"
           }
          ],
          "scatter3d": [
           {
            "line": {
             "colorbar": {
              "outlinewidth": 0,
              "ticks": ""
             }
            },
            "marker": {
             "colorbar": {
              "outlinewidth": 0,
              "ticks": ""
             }
            },
            "type": "scatter3d"
           }
          ],
          "scattercarpet": [
           {
            "marker": {
             "colorbar": {
              "outlinewidth": 0,
              "ticks": ""
             }
            },
            "type": "scattercarpet"
           }
          ],
          "scattergeo": [
           {
            "marker": {
             "colorbar": {
              "outlinewidth": 0,
              "ticks": ""
             }
            },
            "type": "scattergeo"
           }
          ],
          "scattergl": [
           {
            "marker": {
             "colorbar": {
              "outlinewidth": 0,
              "ticks": ""
             }
            },
            "type": "scattergl"
           }
          ],
          "scattermapbox": [
           {
            "marker": {
             "colorbar": {
              "outlinewidth": 0,
              "ticks": ""
             }
            },
            "type": "scattermapbox"
           }
          ],
          "scatterpolar": [
           {
            "marker": {
             "colorbar": {
              "outlinewidth": 0,
              "ticks": ""
             }
            },
            "type": "scatterpolar"
           }
          ],
          "scatterpolargl": [
           {
            "marker": {
             "colorbar": {
              "outlinewidth": 0,
              "ticks": ""
             }
            },
            "type": "scatterpolargl"
           }
          ],
          "scatterternary": [
           {
            "marker": {
             "colorbar": {
              "outlinewidth": 0,
              "ticks": ""
             }
            },
            "type": "scatterternary"
           }
          ],
          "surface": [
           {
            "colorbar": {
             "outlinewidth": 0,
             "ticks": ""
            },
            "colorscale": [
             [
              0,
              "#0d0887"
             ],
             [
              0.1111111111111111,
              "#46039f"
             ],
             [
              0.2222222222222222,
              "#7201a8"
             ],
             [
              0.3333333333333333,
              "#9c179e"
             ],
             [
              0.4444444444444444,
              "#bd3786"
             ],
             [
              0.5555555555555556,
              "#d8576b"
             ],
             [
              0.6666666666666666,
              "#ed7953"
             ],
             [
              0.7777777777777778,
              "#fb9f3a"
             ],
             [
              0.8888888888888888,
              "#fdca26"
             ],
             [
              1,
              "#f0f921"
             ]
            ],
            "type": "surface"
           }
          ],
          "table": [
           {
            "cells": {
             "fill": {
              "color": "#EBF0F8"
             },
             "line": {
              "color": "white"
             }
            },
            "header": {
             "fill": {
              "color": "#C8D4E3"
             },
             "line": {
              "color": "white"
             }
            },
            "type": "table"
           }
          ]
         },
         "layout": {
          "annotationdefaults": {
           "arrowcolor": "#2a3f5f",
           "arrowhead": 0,
           "arrowwidth": 1
          },
          "autotypenumbers": "strict",
          "coloraxis": {
           "colorbar": {
            "outlinewidth": 0,
            "ticks": ""
           }
          },
          "colorscale": {
           "diverging": [
            [
             0,
             "#8e0152"
            ],
            [
             0.1,
             "#c51b7d"
            ],
            [
             0.2,
             "#de77ae"
            ],
            [
             0.3,
             "#f1b6da"
            ],
            [
             0.4,
             "#fde0ef"
            ],
            [
             0.5,
             "#f7f7f7"
            ],
            [
             0.6,
             "#e6f5d0"
            ],
            [
             0.7,
             "#b8e186"
            ],
            [
             0.8,
             "#7fbc41"
            ],
            [
             0.9,
             "#4d9221"
            ],
            [
             1,
             "#276419"
            ]
           ],
           "sequential": [
            [
             0,
             "#0d0887"
            ],
            [
             0.1111111111111111,
             "#46039f"
            ],
            [
             0.2222222222222222,
             "#7201a8"
            ],
            [
             0.3333333333333333,
             "#9c179e"
            ],
            [
             0.4444444444444444,
             "#bd3786"
            ],
            [
             0.5555555555555556,
             "#d8576b"
            ],
            [
             0.6666666666666666,
             "#ed7953"
            ],
            [
             0.7777777777777778,
             "#fb9f3a"
            ],
            [
             0.8888888888888888,
             "#fdca26"
            ],
            [
             1,
             "#f0f921"
            ]
           ],
           "sequentialminus": [
            [
             0,
             "#0d0887"
            ],
            [
             0.1111111111111111,
             "#46039f"
            ],
            [
             0.2222222222222222,
             "#7201a8"
            ],
            [
             0.3333333333333333,
             "#9c179e"
            ],
            [
             0.4444444444444444,
             "#bd3786"
            ],
            [
             0.5555555555555556,
             "#d8576b"
            ],
            [
             0.6666666666666666,
             "#ed7953"
            ],
            [
             0.7777777777777778,
             "#fb9f3a"
            ],
            [
             0.8888888888888888,
             "#fdca26"
            ],
            [
             1,
             "#f0f921"
            ]
           ]
          },
          "colorway": [
           "#636efa",
           "#EF553B",
           "#00cc96",
           "#ab63fa",
           "#FFA15A",
           "#19d3f3",
           "#FF6692",
           "#B6E880",
           "#FF97FF",
           "#FECB52"
          ],
          "font": {
           "color": "#2a3f5f"
          },
          "geo": {
           "bgcolor": "white",
           "lakecolor": "white",
           "landcolor": "white",
           "showlakes": true,
           "showland": true,
           "subunitcolor": "#C8D4E3"
          },
          "hoverlabel": {
           "align": "left"
          },
          "hovermode": "closest",
          "mapbox": {
           "style": "light"
          },
          "paper_bgcolor": "white",
          "plot_bgcolor": "white",
          "polar": {
           "angularaxis": {
            "gridcolor": "#EBF0F8",
            "linecolor": "#EBF0F8",
            "ticks": ""
           },
           "bgcolor": "white",
           "radialaxis": {
            "gridcolor": "#EBF0F8",
            "linecolor": "#EBF0F8",
            "ticks": ""
           }
          },
          "scene": {
           "xaxis": {
            "backgroundcolor": "white",
            "gridcolor": "#DFE8F3",
            "gridwidth": 2,
            "linecolor": "#EBF0F8",
            "showbackground": true,
            "ticks": "",
            "zerolinecolor": "#EBF0F8"
           },
           "yaxis": {
            "backgroundcolor": "white",
            "gridcolor": "#DFE8F3",
            "gridwidth": 2,
            "linecolor": "#EBF0F8",
            "showbackground": true,
            "ticks": "",
            "zerolinecolor": "#EBF0F8"
           },
           "zaxis": {
            "backgroundcolor": "white",
            "gridcolor": "#DFE8F3",
            "gridwidth": 2,
            "linecolor": "#EBF0F8",
            "showbackground": true,
            "ticks": "",
            "zerolinecolor": "#EBF0F8"
           }
          },
          "shapedefaults": {
           "line": {
            "color": "#2a3f5f"
           }
          },
          "ternary": {
           "aaxis": {
            "gridcolor": "#DFE8F3",
            "linecolor": "#A2B1C6",
            "ticks": ""
           },
           "baxis": {
            "gridcolor": "#DFE8F3",
            "linecolor": "#A2B1C6",
            "ticks": ""
           },
           "bgcolor": "white",
           "caxis": {
            "gridcolor": "#DFE8F3",
            "linecolor": "#A2B1C6",
            "ticks": ""
           }
          },
          "title": {
           "x": 0.05
          },
          "xaxis": {
           "automargin": true,
           "gridcolor": "#EBF0F8",
           "linecolor": "#EBF0F8",
           "ticks": "",
           "title": {
            "standoff": 15
           },
           "zerolinecolor": "#EBF0F8",
           "zerolinewidth": 2
          },
          "yaxis": {
           "automargin": true,
           "gridcolor": "#EBF0F8",
           "linecolor": "#EBF0F8",
           "ticks": "",
           "title": {
            "standoff": 15
           },
           "zerolinecolor": "#EBF0F8",
           "zerolinewidth": 2
          }
         }
        },
        "title": {
         "text": "Total Revenue by Channel"
        }
       }
      },
      "image/png": "[encoded data removed]",
      "text/html": [
       "<div>                            <div id=\"969492c2-10a7-46e5-9221-bd9778c75f06\" class=\"plotly-graph-div\" style=\"height:525px; width:100%;\"></div>            <script type=\"text/javascript\">                require([\"plotly\"], function(Plotly) {                    window.PLOTLYENV=window.PLOTLYENV || {};                                    if (document.getElementById(\"969492c2-10a7-46e5-9221-bd9778c75f06\")) {                    Plotly.newPlot(                        \"969492c2-10a7-46e5-9221-bd9778c75f06\",                        [{\"domain\":{\"x\":[0.0,1.0],\"y\":[0.0,1.0]},\"hole\":0.8,\"hovertemplate\":\"channel=%{label}\\u003cbr\\u003erevenue=%{value}\\u003cextra\\u003e\\u003c\\u002fextra\\u003e\",\"labels\":[\"email marketing\",\"paid advertising\",\"referral\",\"social media\"],\"legendgroup\":\"\",\"name\":\"\",\"showlegend\":true,\"values\":[604706,548396,569552,492667],\"type\":\"pie\"}],                        {\"template\":{\"data\":{\"histogram2dcontour\":[{\"type\":\"histogram2dcontour\",\"colorbar\":{\"outlinewidth\":0,\"ticks\":\"\"},\"colorscale\":[[0.0,\"#0d0887\"],[0.1111111111111111,\"#46039f\"],[0.2222222222222222,\"#7201a8\"],[0.3333333333333333,\"#9c179e\"],[0.4444444444444444,\"#bd3786\"],[0.5555555555555556,\"#d8576b\"],[0.6666666666666666,\"#ed7953\"],[0.7777777777777778,\"#fb9f3a\"],[0.8888888888888888,\"#fdca26\"],[1.0,\"#f0f921\"]]}],\"choropleth\":[{\"type\":\"choropleth\",\"colorbar\":{\"outlinewidth\":0,\"ticks\":\"\"}}],\"histogram2d\":[{\"type\":\"histogram2d\",\"colorbar\":{\"outlinewidth\":0,\"ticks\":\"\"},\"colorscale\":[[0.0,\"#0d0887\"],[0.1111111111111111,\"#46039f\"],[0.2222222222222222,\"#7201a8\"],[0.3333333333333333,\"#9c179e\"],[0.4444444444444444,\"#bd3786\"],[0.5555555555555556,\"#d8576b\"],[0.6666666666666666,\"#ed7953\"],[0.7777777777777778,\"#fb9f3a\"],[0.8888888888888888,\"#fdca26\"],[1.0,\"#f0f921\"]]}],\"heatmap\":[{\"type\":\"heatmap\",\"colorbar\":{\"outlinewidth\":0,\"ticks\":\"\"},\"colorscale\":[[0.0,\"#0d0887\"],[0.1111111111111111,\"#46039f\"],[0.2222222222222222,\"#7201a8\"],[0.3333333333333333,\"#9c179e\"],[0.4444444444444444,\"#bd3786\"],[0.5555555555555556,\"#d8576b\"],[0.6666666666666666,\"#ed7953\"],[0.7777777777777778,\"#fb9f3a\"],[0.8888888888888888,\"#fdca26\"],[1.0,\"#f0f921\"]]}],\"heatmapgl\":[{\"type\":\"heatmapgl\",\"colorbar\":{\"outlinewidth\":0,\"ticks\":\"\"},\"colorscale\":[[0.0,\"#0d0887\"],[0.1111111111111111,\"#46039f\"],[0.2222222222222222,\"#7201a8\"],[0.3333333333333333,\"#9c179e\"],[0.4444444444444444,\"#bd3786\"],[0.5555555555555556,\"#d8576b\"],[0.6666666666666666,\"#ed7953\"],[0.7777777777777778,\"#fb9f3a\"],[0.8888888888888888,\"#fdca26\"],[1.0,\"#f0f921\"]]}],\"contourcarpet\":[{\"type\":\"contourcarpet\",\"colorbar\":{\"outlinewidth\":0,\"ticks\":\"\"}}],\"contour\":[{\"type\":\"contour\",\"colorbar\":{\"outlinewidth\":0,\"ticks\":\"\"},\"colorscale\":[[0.0,\"#0d0887\"],[0.1111111111111111,\"#46039f\"],[0.2222222222222222,\"#7201a8\"],[0.3333333333333333,\"#9c179e\"],[0.4444444444444444,\"#bd3786\"],[0.5555555555555556,\"#d8576b\"],[0.6666666666666666,\"#ed7953\"],[0.7777777777777778,\"#fb9f3a\"],[0.8888888888888888,\"#fdca26\"],[1.0,\"#f0f921\"]]}],\"surface\":[{\"type\":\"surface\",\"colorbar\":{\"outlinewidth\":0,\"ticks\":\"\"},\"colorscale\":[[0.0,\"#0d0887\"],[0.1111111111111111,\"#46039f\"],[0.2222222222222222,\"#7201a8\"],[0.3333333333333333,\"#9c179e\"],[0.4444444444444444,\"#bd3786\"],[0.5555555555555556,\"#d8576b\"],[0.6666666666666666,\"#ed7953\"],[0.7777777777777778,\"#fb9f3a\"],[0.8888888888888888,\"#fdca26\"],[1.0,\"#f0f921\"]]}],\"mesh3d\":[{\"type\":\"mesh3d\",\"colorbar\":{\"outlinewidth\":0,\"ticks\":\"\"}}],\"scatter\":[{\"fillpattern\":{\"fillmode\":\"overlay\",\"size\":10,\"solidity\":0.2},\"type\":\"scatter\"}],\"parcoords\":[{\"type\":\"parcoords\",\"line\":{\"colorbar\":{\"outlinewidth\":0,\"ticks\":\"\"}}}],\"scatterpolargl\":[{\"type\":\"scatterpolargl\",\"marker\":{\"colorbar\":{\"outlinewidth\":0,\"ticks\":\"\"}}}],\"bar\":[{\"error_x\":{\"color\":\"#2a3f5f\"},\"error_y\":{\"color\":\"#2a3f5f\"},\"marker\":{\"line\":{\"color\":\"white\",\"width\":0.5},\"pattern\":{\"fillmode\":\"overlay\",\"size\":10,\"solidity\":0.2}},\"type\":\"bar\"}],\"scattergeo\":[{\"type\":\"scattergeo\",\"marker\":{\"colorbar\":{\"outlinewidth\":0,\"ticks\":\"\"}}}],\"scatterpolar\":[{\"type\":\"scatterpolar\",\"marker\":{\"colorbar\":{\"outlinewidth\":0,\"ticks\":\"\"}}}],\"histogram\":[{\"marker\":{\"pattern\":{\"fillmode\":\"overlay\",\"size\":10,\"solidity\":0.2}},\"type\":\"histogram\"}],\"scattergl\":[{\"type\":\"scattergl\",\"marker\":{\"colorbar\":{\"outlinewidth\":0,\"ticks\":\"\"}}}],\"scatter3d\":[{\"type\":\"scatter3d\",\"line\":{\"colorbar\":{\"outlinewidth\":0,\"ticks\":\"\"}},\"marker\":{\"colorbar\":{\"outlinewidth\":0,\"ticks\":\"\"}}}],\"scattermapbox\":[{\"type\":\"scattermapbox\",\"marker\":{\"colorbar\":{\"outlinewidth\":0,\"ticks\":\"\"}}}],\"scatterternary\":[{\"type\":\"scatterternary\",\"marker\":{\"colorbar\":{\"outlinewidth\":0,\"ticks\":\"\"}}}],\"scattercarpet\":[{\"type\":\"scattercarpet\",\"marker\":{\"colorbar\":{\"outlinewidth\":0,\"ticks\":\"\"}}}],\"carpet\":[{\"aaxis\":{\"endlinecolor\":\"#2a3f5f\",\"gridcolor\":\"#C8D4E3\",\"linecolor\":\"#C8D4E3\",\"minorgridcolor\":\"#C8D4E3\",\"startlinecolor\":\"#2a3f5f\"},\"baxis\":{\"endlinecolor\":\"#2a3f5f\",\"gridcolor\":\"#C8D4E3\",\"linecolor\":\"#C8D4E3\",\"minorgridcolor\":\"#C8D4E3\",\"startlinecolor\":\"#2a3f5f\"},\"type\":\"carpet\"}],\"table\":[{\"cells\":{\"fill\":{\"color\":\"#EBF0F8\"},\"line\":{\"color\":\"white\"}},\"header\":{\"fill\":{\"color\":\"#C8D4E3\"},\"line\":{\"color\":\"white\"}},\"type\":\"table\"}],\"barpolar\":[{\"marker\":{\"line\":{\"color\":\"white\",\"width\":0.5},\"pattern\":{\"fillmode\":\"overlay\",\"size\":10,\"solidity\":0.2}},\"type\":\"barpolar\"}],\"pie\":[{\"automargin\":true,\"type\":\"pie\"}]},\"layout\":{\"autotypenumbers\":\"strict\",\"colorway\":[\"#636efa\",\"#EF553B\",\"#00cc96\",\"#ab63fa\",\"#FFA15A\",\"#19d3f3\",\"#FF6692\",\"#B6E880\",\"#FF97FF\",\"#FECB52\"],\"font\":{\"color\":\"#2a3f5f\"},\"hovermode\":\"closest\",\"hoverlabel\":{\"align\":\"left\"},\"paper_bgcolor\":\"white\",\"plot_bgcolor\":\"white\",\"polar\":{\"bgcolor\":\"white\",\"angularaxis\":{\"gridcolor\":\"#EBF0F8\",\"linecolor\":\"#EBF0F8\",\"ticks\":\"\"},\"radialaxis\":{\"gridcolor\":\"#EBF0F8\",\"linecolor\":\"#EBF0F8\",\"ticks\":\"\"}},\"ternary\":{\"bgcolor\":\"white\",\"aaxis\":{\"gridcolor\":\"#DFE8F3\",\"linecolor\":\"#A2B1C6\",\"ticks\":\"\"},\"baxis\":{\"gridcolor\":\"#DFE8F3\",\"linecolor\":\"#A2B1C6\",\"ticks\":\"\"},\"caxis\":{\"gridcolor\":\"#DFE8F3\",\"linecolor\":\"#A2B1C6\",\"ticks\":\"\"}},\"coloraxis\":{\"colorbar\":{\"outlinewidth\":0,\"ticks\":\"\"}},\"colorscale\":{\"sequential\":[[0.0,\"#0d0887\"],[0.1111111111111111,\"#46039f\"],[0.2222222222222222,\"#7201a8\"],[0.3333333333333333,\"#9c179e\"],[0.4444444444444444,\"#bd3786\"],[0.5555555555555556,\"#d8576b\"],[0.6666666666666666,\"#ed7953\"],[0.7777777777777778,\"#fb9f3a\"],[0.8888888888888888,\"#fdca26\"],[1.0,\"#f0f921\"]],\"sequentialminus\":[[0.0,\"#0d0887\"],[0.1111111111111111,\"#46039f\"],[0.2222222222222222,\"#7201a8\"],[0.3333333333333333,\"#9c179e\"],[0.4444444444444444,\"#bd3786\"],[0.5555555555555556,\"#d8576b\"],[0.6666666666666666,\"#ed7953\"],[0.7777777777777778,\"#fb9f3a\"],[0.8888888888888888,\"#fdca26\"],[1.0,\"#f0f921\"]],\"diverging\":[[0,\"#8e0152\"],[0.1,\"#c51b7d\"],[0.2,\"#de77ae\"],[0.3,\"#f1b6da\"],[0.4,\"#fde0ef\"],[0.5,\"#f7f7f7\"],[0.6,\"#e6f5d0\"],[0.7,\"#b8e186\"],[0.8,\"#7fbc41\"],[0.9,\"#4d9221\"],[1,\"#276419\"]]},\"xaxis\":{\"gridcolor\":\"#EBF0F8\",\"linecolor\":\"#EBF0F8\",\"ticks\":\"\",\"title\":{\"standoff\":15},\"zerolinecolor\":\"#EBF0F8\",\"automargin\":true,\"zerolinewidth\":2},\"yaxis\":{\"gridcolor\":\"#EBF0F8\",\"linecolor\":\"#EBF0F8\",\"ticks\":\"\",\"title\":{\"standoff\":15},\"zerolinecolor\":\"#EBF0F8\",\"automargin\":true,\"zerolinewidth\":2},\"scene\":{\"xaxis\":{\"backgroundcolor\":\"white\",\"gridcolor\":\"#DFE8F3\",\"linecolor\":\"#EBF0F8\",\"showbackground\":true,\"ticks\":\"\",\"zerolinecolor\":\"#EBF0F8\",\"gridwidth\":2},\"yaxis\":{\"backgroundcolor\":\"white\",\"gridcolor\":\"#DFE8F3\",\"linecolor\":\"#EBF0F8\",\"showbackground\":true,\"ticks\":\"\",\"zerolinecolor\":\"#EBF0F8\",\"gridwidth\":2},\"zaxis\":{\"backgroundcolor\":\"white\",\"gridcolor\":\"#DFE8F3\",\"linecolor\":\"#EBF0F8\",\"showbackground\":true,\"ticks\":\"\",\"zerolinecolor\":\"#EBF0F8\",\"gridwidth\":2}},\"shapedefaults\":{\"line\":{\"color\":\"#2a3f5f\"}},\"annotationdefaults\":{\"arrowcolor\":\"#2a3f5f\",\"arrowhead\":0,\"arrowwidth\":1},\"geo\":{\"bgcolor\":\"white\",\"landcolor\":\"white\",\"subunitcolor\":\"#C8D4E3\",\"showland\":true,\"showlakes\":true,\"lakecolor\":\"white\"},\"title\":{\"x\":0.05},\"mapbox\":{\"style\":\"light\"}}},\"legend\":{\"tracegroupgap\":0},\"title\":{\"text\":\"Total Revenue by Channel\"},\"piecolorway\":[\"rgb(102, 197, 204)\",\"rgb(246, 207, 113)\",\"rgb(248, 156, 116)\",\"rgb(220, 176, 242)\",\"rgb(135, 197, 95)\",\"rgb(158, 185, 243)\",\"rgb(254, 136, 177)\",\"rgb(201, 219, 116)\",\"rgb(139, 224, 164)\",\"rgb(180, 151, 231)\",\"rgb(179, 179, 179)\"]},                        {\"responsive\": true}                    ).then(function(){\n",
       "                            \n",
       "var gd = document.getElementById('969492c2-10a7-46e5-9221-bd9778c75f06');\n",
       "var x = new MutationObserver(function (mutations, observer) {{\n",
       "        var display = window.getComputedStyle(gd).display;\n",
       "        if (!display || display === 'none') {{\n",
       "            console.log([gd, 'removed!']);\n",
       "            Plotly.purge(gd);\n",
       "            observer.disconnect();\n",
       "        }}\n",
       "}});\n",
       "\n",
       "// Listen for the removal of the full notebook cells\n",
       "var notebookContainer = gd.closest('#notebook-container');\n",
       "if (notebookContainer) {{\n",
       "    x.observe(notebookContainer, {childList: true});\n",
       "}}\n",
       "\n",
       "// Listen for the clearing of the current output cell\n",
       "var outputEl = gd.closest('.output');\n",
       "if (outputEl) {{\n",
       "    x.observe(outputEl, {childList: true});\n",
       "}}\n",
       "\n",
       "                        })                };                });            </script>        </div>"
      ]
     },
     "metadata": {},
     "output_type": "display_data"
    }
   ],
   "source": [
    "fig = px.pie(revenue_by_channel, values='revenue', names='channel', title='Total Revenue by Channel', hole=0.8, color_discrete_sequence= px.colors.qualitative.Pastel)\n",
    "fig.show()"
   ]
  },
  {
   "cell_type": "markdown",
   "id": "0ec6a488-f363-4450-96db-77a051dbe04f",
   "metadata": {},
   "source": [
    "Customer Acquisition Cost is low for email marketing and also the revenue generated by email marketing is the highest which implies that email marketing is the most effective and profitable marketing channel followed by refferal, paid advertising and social media respectively."
   ]
  },
  {
   "cell_type": "markdown",
   "id": "cd0467b3-1fe6-4a47-a5b7-3a25f7aa25a5",
   "metadata": {},
   "source": [
    "Conversion Rate by Channel"
   ]
  },
  {
   "cell_type": "code",
   "execution_count": 56,
   "id": "435d6c9f-e10d-44a6-90c2-3e7222359acf",
   "metadata": {},
   "outputs": [
    {
     "name": "stderr",
     "output_type": "stream",
     "text": [
      "C:\\Users\\Nayana Sooraj\\AppData\\Local\\Programs\\Python\\Python312\\Lib\\site-packages\\plotly\\express\\_core.py:2065: FutureWarning:\n",
      "\n",
      "When grouping with a length-1 list-like, you will need to pass a length-1 tuple to get_group in a future version of pandas. Pass `(name,)` instead of `name` to silence this warning.\n",
      "\n"
     ]
    },
    {
     "data": {
      "application/vnd.plotly.v1+json": {
       "config": {
        "plotlyServerURL": "https://plot.ly"
       },
       "data": [
        {
         "alignmentgroup": "True",
         "hovertemplate": "channel=%{x}<br>conversion_rate=%{y}<extra></extra>",
         "legendgroup": "referral",
         "marker": {
          "color": "#636efa",
          "pattern": {
           "shape": ""
          }
         },
         "name": "referral",
         "offsetgroup": "referral",
         "orientation": "v",
         "showlegend": true,
         "textposition": "auto",
         "type": "bar",
         "x": [
          "referral",
          "referral",
          "referral",
          "referral",
          "referral",
          "referral",
          "referral",
          "referral",
          "referral",
          "referral",
          "referral",
          "referral",
          "referral",
          "referral",
          "referral",
          "referral",
          "referral",
          "referral",
          "referral",
          "referral",
          "referral",
          "referral",
          "referral",
          "referral",
          "referral",
          "referral",
          "referral",
          "referral",
          "referral",
          "referral",
          "referral",
          "referral",
          "referral",
          "referral",
          "referral",
          "referral",
          "referral",
          "referral",
          "referral",
          "referral",
          "referral",
          "referral",
          "referral",
          "referral",
          "referral",
          "referral",
          "referral",
          "referral",
          "referral",
          "referral",
          "referral",
          "referral",
          "referral",
          "referral",
          "referral",
          "referral",
          "referral",
          "referral",
          "referral",
          "referral",
          "referral",
          "referral",
          "referral",
          "referral",
          "referral",
          "referral",
          "referral",
          "referral",
          "referral",
          "referral",
          "referral",
          "referral",
          "referral",
          "referral",
          "referral",
          "referral",
          "referral",
          "referral",
          "referral",
          "referral",
          "referral",
          "referral",
          "referral",
          "referral",
          "referral",
          "referral",
          "referral",
          "referral",
          "referral",
          "referral",
          "referral",
          "referral",
          "referral",
          "referral",
          "referral",
          "referral",
          "referral",
          "referral",
          "referral",
          "referral",
          "referral",
          "referral",
          "referral",
          "referral",
          "referral",
          "referral",
          "referral",
          "referral",
          "referral",
          "referral",
          "referral",
          "referral",
          "referral",
          "referral",
          "referral",
          "referral",
          "referral",
          "referral",
          "referral",
          "referral",
          "referral",
          "referral",
          "referral",
          "referral",
          "referral",
          "referral",
          "referral",
          "referral",
          "referral",
          "referral",
          "referral",
          "referral",
          "referral",
          "referral",
          "referral",
          "referral",
          "referral",
          "referral",
          "referral",
          "referral",
          "referral",
          "referral",
          "referral",
          "referral",
          "referral",
          "referral",
          "referral",
          "referral",
          "referral",
          "referral",
          "referral",
          "referral",
          "referral",
          "referral",
          "referral",
          "referral",
          "referral",
          "referral",
          "referral",
          "referral",
          "referral",
          "referral",
          "referral",
          "referral",
          "referral",
          "referral",
          "referral",
          "referral",
          "referral",
          "referral",
          "referral",
          "referral",
          "referral",
          "referral",
          "referral",
          "referral",
          "referral",
          "referral",
          "referral",
          "referral",
          "referral",
          "referral",
          "referral",
          "referral",
          "referral",
          "referral",
          "referral",
          "referral",
          "referral",
          "referral",
          "referral",
          "referral",
          "referral",
          "referral",
          "referral",
          "referral",
          "referral",
          "referral",
          "referral",
          "referral",
          "referral",
          "referral",
          "referral",
          "referral",
          "referral",
          "referral",
          "referral"
         ],
         "xaxis": "x",
         "y": [
          0.1231449787166301,
          0.1231449787166301,
          0.1231449787166301,
          0.1231449787166301,
          0.1231449787166301,
          0.1231449787166301,
          0.1231449787166301,
          0.1231449787166301,
          0.1231449787166301,
          0.1231449787166301,
          0.1231449787166301,
          0.1231449787166301,
          0.1231449787166301,
          0.1231449787166301,
          0.1231449787166301,
          0.1231449787166301,
          0.1231449787166301,
          0.1231449787166301,
          0.1231449787166301,
          0.1231449787166301,
          0.1231449787166301,
          0.1231449787166301,
          0.1231449787166301,
          0.1231449787166301,
          0.1231449787166301,
          0.1231449787166301,
          0.1231449787166301,
          0.1231449787166301,
          0.1231449787166301,
          0.1231449787166301,
          0.1231449787166301,
          0.1231449787166301,
          0.1231449787166301,
          0.1231449787166301,
          0.1231449787166301,
          0.1231449787166301,
          0.1231449787166301,
          0.1231449787166301,
          0.1231449787166301,
          0.1231449787166301,
          0.1231449787166301,
          0.1231449787166301,
          0.1231449787166301,
          0.1231449787166301,
          0.1231449787166301,
          0.1231449787166301,
          0.1231449787166301,
          0.1231449787166301,
          0.1231449787166301,
          0.1231449787166301,
          0.1231449787166301,
          0.1231449787166301,
          0.1231449787166301,
          0.1231449787166301,
          0.1231449787166301,
          0.1231449787166301,
          0.1231449787166301,
          0.1231449787166301,
          0.1231449787166301,
          0.1231449787166301,
          0.1231449787166301,
          0.1231449787166301,
          0.1231449787166301,
          0.1231449787166301,
          0.1231449787166301,
          0.1231449787166301,
          0.1231449787166301,
          0.1231449787166301,
          0.1231449787166301,
          0.1231449787166301,
          0.1231449787166301,
          0.1231449787166301,
          0.1231449787166301,
          0.1231449787166301,
          0.1231449787166301,
          0.1231449787166301,
          0.1231449787166301,
          0.1231449787166301,
          0.1231449787166301,
          0.1231449787166301,
          0.1231449787166301,
          0.1231449787166301,
          0.1231449787166301,
          0.1231449787166301,
          0.1231449787166301,
          0.1231449787166301,
          0.1231449787166301,
          0.1231449787166301,
          0.1231449787166301,
          0.1231449787166301,
          0.1231449787166301,
          0.1231449787166301,
          0.1231449787166301,
          0.1231449787166301,
          0.1231449787166301,
          0.1231449787166301,
          0.1231449787166301,
          0.1231449787166301,
          0.1231449787166301,
          0.1231449787166301,
          0.1231449787166301,
          0.1231449787166301,
          0.1231449787166301,
          0.1231449787166301,
          0.1231449787166301,
          0.1231449787166301,
          0.1231449787166301,
          0.1231449787166301,
          0.1231449787166301,
          0.1231449787166301,
          0.1231449787166301,
          0.1231449787166301,
          0.1231449787166301,
          0.1231449787166301,
          0.1231449787166301,
          0.1231449787166301,
          0.1231449787166301,
          0.1231449787166301,
          0.1231449787166301,
          0.1231449787166301,
          0.1231449787166301,
          0.1231449787166301,
          0.1231449787166301,
          0.1231449787166301,
          0.1231449787166301,
          0.1231449787166301,
          0.1231449787166301,
          0.1231449787166301,
          0.1231449787166301,
          0.1231449787166301,
          0.1231449787166301,
          0.1231449787166301,
          0.1231449787166301,
          0.1231449787166301,
          0.1231449787166301,
          0.1231449787166301,
          0.1231449787166301,
          0.1231449787166301,
          0.1231449787166301,
          0.1231449787166301,
          0.1231449787166301,
          0.1231449787166301,
          0.1231449787166301,
          0.1231449787166301,
          0.1231449787166301,
          0.1231449787166301,
          0.1231449787166301,
          0.1231449787166301,
          0.1231449787166301,
          0.1231449787166301,
          0.1231449787166301,
          0.1231449787166301,
          0.1231449787166301,
          0.1231449787166301,
          0.1231449787166301,
          0.1231449787166301,
          0.1231449787166301,
          0.1231449787166301,
          0.1231449787166301,
          0.1231449787166301,
          0.1231449787166301,
          0.1231449787166301,
          0.1231449787166301,
          0.1231449787166301,
          0.1231449787166301,
          0.1231449787166301,
          0.1231449787166301,
          0.1231449787166301,
          0.1231449787166301,
          0.1231449787166301,
          0.1231449787166301,
          0.1231449787166301,
          0.1231449787166301,
          0.1231449787166301,
          0.1231449787166301,
          0.1231449787166301,
          0.1231449787166301,
          0.1231449787166301,
          0.1231449787166301,
          0.1231449787166301,
          0.1231449787166301,
          0.1231449787166301,
          0.1231449787166301,
          0.1231449787166301,
          0.1231449787166301,
          0.1231449787166301,
          0.1231449787166301,
          0.1231449787166301,
          0.1231449787166301,
          0.1231449787166301,
          0.1231449787166301,
          0.1231449787166301,
          0.1231449787166301,
          0.1231449787166301,
          0.1231449787166301,
          0.1231449787166301,
          0.1231449787166301,
          0.1231449787166301,
          0.1231449787166301,
          0.1231449787166301,
          0.1231449787166301,
          0.1231449787166301,
          0.1231449787166301,
          0.1231449787166301,
          0.1231449787166301,
          0.1231449787166301,
          0.1231449787166301
         ],
         "yaxis": "y"
        },
        {
         "alignmentgroup": "True",
         "hovertemplate": "channel=%{x}<br>conversion_rate=%{y}<extra></extra>",
         "legendgroup": "paid advertising",
         "marker": {
          "color": "#EF553B",
          "pattern": {
           "shape": ""
          }
         },
         "name": "paid advertising",
         "offsetgroup": "paid advertising",
         "orientation": "v",
         "showlegend": true,
         "textposition": "auto",
         "type": "bar",
         "x": [
          "paid advertising",
          "paid advertising",
          "paid advertising",
          "paid advertising",
          "paid advertising",
          "paid advertising",
          "paid advertising",
          "paid advertising",
          "paid advertising",
          "paid advertising",
          "paid advertising",
          "paid advertising",
          "paid advertising",
          "paid advertising",
          "paid advertising",
          "paid advertising",
          "paid advertising",
          "paid advertising",
          "paid advertising",
          "paid advertising",
          "paid advertising",
          "paid advertising",
          "paid advertising",
          "paid advertising",
          "paid advertising",
          "paid advertising",
          "paid advertising",
          "paid advertising",
          "paid advertising",
          "paid advertising",
          "paid advertising",
          "paid advertising",
          "paid advertising",
          "paid advertising",
          "paid advertising",
          "paid advertising",
          "paid advertising",
          "paid advertising",
          "paid advertising",
          "paid advertising",
          "paid advertising",
          "paid advertising",
          "paid advertising",
          "paid advertising",
          "paid advertising",
          "paid advertising",
          "paid advertising",
          "paid advertising",
          "paid advertising",
          "paid advertising",
          "paid advertising",
          "paid advertising",
          "paid advertising",
          "paid advertising",
          "paid advertising",
          "paid advertising",
          "paid advertising",
          "paid advertising",
          "paid advertising",
          "paid advertising",
          "paid advertising",
          "paid advertising",
          "paid advertising",
          "paid advertising",
          "paid advertising",
          "paid advertising",
          "paid advertising",
          "paid advertising",
          "paid advertising",
          "paid advertising",
          "paid advertising",
          "paid advertising",
          "paid advertising",
          "paid advertising",
          "paid advertising",
          "paid advertising",
          "paid advertising",
          "paid advertising",
          "paid advertising",
          "paid advertising",
          "paid advertising",
          "paid advertising",
          "paid advertising",
          "paid advertising",
          "paid advertising",
          "paid advertising",
          "paid advertising",
          "paid advertising",
          "paid advertising",
          "paid advertising",
          "paid advertising",
          "paid advertising",
          "paid advertising",
          "paid advertising",
          "paid advertising",
          "paid advertising",
          "paid advertising",
          "paid advertising",
          "paid advertising",
          "paid advertising",
          "paid advertising",
          "paid advertising",
          "paid advertising",
          "paid advertising",
          "paid advertising",
          "paid advertising",
          "paid advertising",
          "paid advertising",
          "paid advertising",
          "paid advertising",
          "paid advertising",
          "paid advertising",
          "paid advertising",
          "paid advertising",
          "paid advertising",
          "paid advertising",
          "paid advertising",
          "paid advertising",
          "paid advertising",
          "paid advertising",
          "paid advertising",
          "paid advertising",
          "paid advertising",
          "paid advertising",
          "paid advertising",
          "paid advertising",
          "paid advertising",
          "paid advertising",
          "paid advertising",
          "paid advertising",
          "paid advertising",
          "paid advertising",
          "paid advertising",
          "paid advertising",
          "paid advertising",
          "paid advertising",
          "paid advertising",
          "paid advertising",
          "paid advertising",
          "paid advertising",
          "paid advertising",
          "paid advertising",
          "paid advertising",
          "paid advertising",
          "paid advertising",
          "paid advertising",
          "paid advertising",
          "paid advertising",
          "paid advertising",
          "paid advertising",
          "paid advertising",
          "paid advertising",
          "paid advertising",
          "paid advertising",
          "paid advertising",
          "paid advertising",
          "paid advertising",
          "paid advertising",
          "paid advertising",
          "paid advertising",
          "paid advertising",
          "paid advertising",
          "paid advertising",
          "paid advertising",
          "paid advertising",
          "paid advertising",
          "paid advertising",
          "paid advertising",
          "paid advertising",
          "paid advertising",
          "paid advertising",
          "paid advertising",
          "paid advertising",
          "paid advertising",
          "paid advertising",
          "paid advertising",
          "paid advertising",
          "paid advertising",
          "paid advertising",
          "paid advertising",
          "paid advertising",
          "paid advertising",
          "paid advertising",
          "paid advertising",
          "paid advertising",
          "paid advertising",
          "paid advertising",
          "paid advertising",
          "paid advertising",
          "paid advertising",
          "paid advertising",
          "paid advertising",
          "paid advertising",
          "paid advertising"
         ],
         "xaxis": "x",
         "y": [
          0.0163414915688768,
          0.0163414915688768,
          0.0163414915688768,
          0.0163414915688768,
          0.0163414915688768,
          0.0163414915688768,
          0.0163414915688768,
          0.0163414915688768,
          0.0163414915688768,
          0.0163414915688768,
          0.0163414915688768,
          0.0163414915688768,
          0.0163414915688768,
          0.0163414915688768,
          0.0163414915688768,
          0.0163414915688768,
          0.0163414915688768,
          0.0163414915688768,
          0.0163414915688768,
          0.0163414915688768,
          0.0163414915688768,
          0.0163414915688768,
          0.0163414915688768,
          0.0163414915688768,
          0.0163414915688768,
          0.0163414915688768,
          0.0163414915688768,
          0.0163414915688768,
          0.0163414915688768,
          0.0163414915688768,
          0.0163414915688768,
          0.0163414915688768,
          0.0163414915688768,
          0.0163414915688768,
          0.0163414915688768,
          0.0163414915688768,
          0.0163414915688768,
          0.0163414915688768,
          0.0163414915688768,
          0.0163414915688768,
          0.0163414915688768,
          0.0163414915688768,
          0.0163414915688768,
          0.0163414915688768,
          0.0163414915688768,
          0.0163414915688768,
          0.0163414915688768,
          0.0163414915688768,
          0.0163414915688768,
          0.0163414915688768,
          0.0163414915688768,
          0.0163414915688768,
          0.0163414915688768,
          0.0163414915688768,
          0.0163414915688768,
          0.0163414915688768,
          0.0163414915688768,
          0.0163414915688768,
          0.0163414915688768,
          0.0163414915688768,
          0.0163414915688768,
          0.0163414915688768,
          0.0163414915688768,
          0.0163414915688768,
          0.0163414915688768,
          0.0163414915688768,
          0.0163414915688768,
          0.0163414915688768,
          0.0163414915688768,
          0.0163414915688768,
          0.0163414915688768,
          0.0163414915688768,
          0.0163414915688768,
          0.0163414915688768,
          0.0163414915688768,
          0.0163414915688768,
          0.0163414915688768,
          0.0163414915688768,
          0.0163414915688768,
          0.0163414915688768,
          0.0163414915688768,
          0.0163414915688768,
          0.0163414915688768,
          0.0163414915688768,
          0.0163414915688768,
          0.0163414915688768,
          0.0163414915688768,
          0.0163414915688768,
          0.0163414915688768,
          0.0163414915688768,
          0.0163414915688768,
          0.0163414915688768,
          0.0163414915688768,
          0.0163414915688768,
          0.0163414915688768,
          0.0163414915688768,
          0.0163414915688768,
          0.0163414915688768,
          0.0163414915688768,
          0.0163414915688768,
          0.0163414915688768,
          0.0163414915688768,
          0.0163414915688768,
          0.0163414915688768,
          0.0163414915688768,
          0.0163414915688768,
          0.0163414915688768,
          0.0163414915688768,
          0.0163414915688768,
          0.0163414915688768,
          0.0163414915688768,
          0.0163414915688768,
          0.0163414915688768,
          0.0163414915688768,
          0.0163414915688768,
          0.0163414915688768,
          0.0163414915688768,
          0.0163414915688768,
          0.0163414915688768,
          0.0163414915688768,
          0.0163414915688768,
          0.0163414915688768,
          0.0163414915688768,
          0.0163414915688768,
          0.0163414915688768,
          0.0163414915688768,
          0.0163414915688768,
          0.0163414915688768,
          0.0163414915688768,
          0.0163414915688768,
          0.0163414915688768,
          0.0163414915688768,
          0.0163414915688768,
          0.0163414915688768,
          0.0163414915688768,
          0.0163414915688768,
          0.0163414915688768,
          0.0163414915688768,
          0.0163414915688768,
          0.0163414915688768,
          0.0163414915688768,
          0.0163414915688768,
          0.0163414915688768,
          0.0163414915688768,
          0.0163414915688768,
          0.0163414915688768,
          0.0163414915688768,
          0.0163414915688768,
          0.0163414915688768,
          0.0163414915688768,
          0.0163414915688768,
          0.0163414915688768,
          0.0163414915688768,
          0.0163414915688768,
          0.0163414915688768,
          0.0163414915688768,
          0.0163414915688768,
          0.0163414915688768,
          0.0163414915688768,
          0.0163414915688768,
          0.0163414915688768,
          0.0163414915688768,
          0.0163414915688768,
          0.0163414915688768,
          0.0163414915688768,
          0.0163414915688768,
          0.0163414915688768,
          0.0163414915688768,
          0.0163414915688768,
          0.0163414915688768,
          0.0163414915688768,
          0.0163414915688768,
          0.0163414915688768,
          0.0163414915688768,
          0.0163414915688768,
          0.0163414915688768,
          0.0163414915688768,
          0.0163414915688768,
          0.0163414915688768,
          0.0163414915688768,
          0.0163414915688768,
          0.0163414915688768,
          0.0163414915688768,
          0.0163414915688768,
          0.0163414915688768,
          0.0163414915688768,
          0.0163414915688768,
          0.0163414915688768,
          0.0163414915688768,
          0.0163414915688768,
          0.0163414915688768,
          0.0163414915688768,
          0.0163414915688768,
          0.0163414915688768
         ],
         "yaxis": "y"
        },
        {
         "alignmentgroup": "True",
         "hovertemplate": "channel=%{x}<br>conversion_rate=%{y}<extra></extra>",
         "legendgroup": "email marketing",
         "marker": {
          "color": "#00cc96",
          "pattern": {
           "shape": ""
          }
         },
         "name": "email marketing",
         "offsetgroup": "email marketing",
         "orientation": "v",
         "showlegend": true,
         "textposition": "auto",
         "type": "bar",
         "x": [
          "email marketing",
          "email marketing",
          "email marketing",
          "email marketing",
          "email marketing",
          "email marketing",
          "email marketing",
          "email marketing",
          "email marketing",
          "email marketing",
          "email marketing",
          "email marketing",
          "email marketing",
          "email marketing",
          "email marketing",
          "email marketing",
          "email marketing",
          "email marketing",
          "email marketing",
          "email marketing",
          "email marketing",
          "email marketing",
          "email marketing",
          "email marketing",
          "email marketing",
          "email marketing",
          "email marketing",
          "email marketing",
          "email marketing",
          "email marketing",
          "email marketing",
          "email marketing",
          "email marketing",
          "email marketing",
          "email marketing",
          "email marketing",
          "email marketing",
          "email marketing",
          "email marketing",
          "email marketing",
          "email marketing",
          "email marketing",
          "email marketing",
          "email marketing",
          "email marketing",
          "email marketing",
          "email marketing",
          "email marketing",
          "email marketing",
          "email marketing",
          "email marketing",
          "email marketing",
          "email marketing",
          "email marketing",
          "email marketing",
          "email marketing",
          "email marketing",
          "email marketing",
          "email marketing",
          "email marketing",
          "email marketing",
          "email marketing",
          "email marketing",
          "email marketing",
          "email marketing",
          "email marketing",
          "email marketing",
          "email marketing",
          "email marketing",
          "email marketing",
          "email marketing",
          "email marketing",
          "email marketing",
          "email marketing",
          "email marketing",
          "email marketing",
          "email marketing",
          "email marketing",
          "email marketing",
          "email marketing",
          "email marketing",
          "email marketing",
          "email marketing",
          "email marketing",
          "email marketing",
          "email marketing",
          "email marketing",
          "email marketing",
          "email marketing",
          "email marketing",
          "email marketing",
          "email marketing",
          "email marketing",
          "email marketing",
          "email marketing",
          "email marketing",
          "email marketing",
          "email marketing",
          "email marketing",
          "email marketing",
          "email marketing",
          "email marketing",
          "email marketing",
          "email marketing",
          "email marketing",
          "email marketing",
          "email marketing",
          "email marketing",
          "email marketing",
          "email marketing",
          "email marketing",
          "email marketing",
          "email marketing",
          "email marketing",
          "email marketing",
          "email marketing",
          "email marketing",
          "email marketing",
          "email marketing",
          "email marketing",
          "email marketing",
          "email marketing",
          "email marketing",
          "email marketing",
          "email marketing",
          "email marketing",
          "email marketing",
          "email marketing",
          "email marketing",
          "email marketing",
          "email marketing",
          "email marketing",
          "email marketing",
          "email marketing",
          "email marketing",
          "email marketing",
          "email marketing",
          "email marketing",
          "email marketing",
          "email marketing",
          "email marketing",
          "email marketing",
          "email marketing",
          "email marketing",
          "email marketing",
          "email marketing",
          "email marketing",
          "email marketing",
          "email marketing",
          "email marketing",
          "email marketing",
          "email marketing",
          "email marketing",
          "email marketing",
          "email marketing",
          "email marketing",
          "email marketing",
          "email marketing",
          "email marketing",
          "email marketing",
          "email marketing",
          "email marketing",
          "email marketing",
          "email marketing",
          "email marketing",
          "email marketing",
          "email marketing",
          "email marketing",
          "email marketing",
          "email marketing",
          "email marketing",
          "email marketing",
          "email marketing",
          "email marketing",
          "email marketing",
          "email marketing",
          "email marketing",
          "email marketing",
          "email marketing",
          "email marketing",
          "email marketing",
          "email marketing",
          "email marketing",
          "email marketing",
          "email marketing",
          "email marketing",
          "email marketing",
          "email marketing",
          "email marketing",
          "email marketing",
          "email marketing",
          "email marketing",
          "email marketing",
          "email marketing",
          "email marketing",
          "email marketing",
          "email marketing",
          "email marketing",
          "email marketing",
          "email marketing",
          "email marketing",
          "email marketing",
          "email marketing",
          "email marketing",
          "email marketing",
          "email marketing",
          "email marketing",
          "email marketing",
          "email marketing",
          "email marketing",
          "email marketing",
          "email marketing",
          "email marketing",
          "email marketing"
         ],
         "xaxis": "x",
         "y": [
          0.0438222285949381,
          0.0438222285949381,
          0.0438222285949381,
          0.0438222285949381,
          0.0438222285949381,
          0.0438222285949381,
          0.0438222285949381,
          0.0438222285949381,
          0.0438222285949381,
          0.0438222285949381,
          0.0438222285949381,
          0.0438222285949381,
          0.0438222285949381,
          0.0438222285949381,
          0.0438222285949381,
          0.0438222285949381,
          0.0438222285949381,
          0.0438222285949381,
          0.0438222285949381,
          0.0438222285949381,
          0.0438222285949381,
          0.0438222285949381,
          0.0438222285949381,
          0.0438222285949381,
          0.0438222285949381,
          0.0438222285949381,
          0.0438222285949381,
          0.0438222285949381,
          0.0438222285949381,
          0.0438222285949381,
          0.0438222285949381,
          0.0438222285949381,
          0.0438222285949381,
          0.0438222285949381,
          0.0438222285949381,
          0.0438222285949381,
          0.0438222285949381,
          0.0438222285949381,
          0.0438222285949381,
          0.0438222285949381,
          0.0438222285949381,
          0.0438222285949381,
          0.0438222285949381,
          0.0438222285949381,
          0.0438222285949381,
          0.0438222285949381,
          0.0438222285949381,
          0.0438222285949381,
          0.0438222285949381,
          0.0438222285949381,
          0.0438222285949381,
          0.0438222285949381,
          0.0438222285949381,
          0.0438222285949381,
          0.0438222285949381,
          0.0438222285949381,
          0.0438222285949381,
          0.0438222285949381,
          0.0438222285949381,
          0.0438222285949381,
          0.0438222285949381,
          0.0438222285949381,
          0.0438222285949381,
          0.0438222285949381,
          0.0438222285949381,
          0.0438222285949381,
          0.0438222285949381,
          0.0438222285949381,
          0.0438222285949381,
          0.0438222285949381,
          0.0438222285949381,
          0.0438222285949381,
          0.0438222285949381,
          0.0438222285949381,
          0.0438222285949381,
          0.0438222285949381,
          0.0438222285949381,
          0.0438222285949381,
          0.0438222285949381,
          0.0438222285949381,
          0.0438222285949381,
          0.0438222285949381,
          0.0438222285949381,
          0.0438222285949381,
          0.0438222285949381,
          0.0438222285949381,
          0.0438222285949381,
          0.0438222285949381,
          0.0438222285949381,
          0.0438222285949381,
          0.0438222285949381,
          0.0438222285949381,
          0.0438222285949381,
          0.0438222285949381,
          0.0438222285949381,
          0.0438222285949381,
          0.0438222285949381,
          0.0438222285949381,
          0.0438222285949381,
          0.0438222285949381,
          0.0438222285949381,
          0.0438222285949381,
          0.0438222285949381,
          0.0438222285949381,
          0.0438222285949381,
          0.0438222285949381,
          0.0438222285949381,
          0.0438222285949381,
          0.0438222285949381,
          0.0438222285949381,
          0.0438222285949381,
          0.0438222285949381,
          0.0438222285949381,
          0.0438222285949381,
          0.0438222285949381,
          0.0438222285949381,
          0.0438222285949381,
          0.0438222285949381,
          0.0438222285949381,
          0.0438222285949381,
          0.0438222285949381,
          0.0438222285949381,
          0.0438222285949381,
          0.0438222285949381,
          0.0438222285949381,
          0.0438222285949381,
          0.0438222285949381,
          0.0438222285949381,
          0.0438222285949381,
          0.0438222285949381,
          0.0438222285949381,
          0.0438222285949381,
          0.0438222285949381,
          0.0438222285949381,
          0.0438222285949381,
          0.0438222285949381,
          0.0438222285949381,
          0.0438222285949381,
          0.0438222285949381,
          0.0438222285949381,
          0.0438222285949381,
          0.0438222285949381,
          0.0438222285949381,
          0.0438222285949381,
          0.0438222285949381,
          0.0438222285949381,
          0.0438222285949381,
          0.0438222285949381,
          0.0438222285949381,
          0.0438222285949381,
          0.0438222285949381,
          0.0438222285949381,
          0.0438222285949381,
          0.0438222285949381,
          0.0438222285949381,
          0.0438222285949381,
          0.0438222285949381,
          0.0438222285949381,
          0.0438222285949381,
          0.0438222285949381,
          0.0438222285949381,
          0.0438222285949381,
          0.0438222285949381,
          0.0438222285949381,
          0.0438222285949381,
          0.0438222285949381,
          0.0438222285949381,
          0.0438222285949381,
          0.0438222285949381,
          0.0438222285949381,
          0.0438222285949381,
          0.0438222285949381,
          0.0438222285949381,
          0.0438222285949381,
          0.0438222285949381,
          0.0438222285949381,
          0.0438222285949381,
          0.0438222285949381,
          0.0438222285949381,
          0.0438222285949381,
          0.0438222285949381,
          0.0438222285949381,
          0.0438222285949381,
          0.0438222285949381,
          0.0438222285949381,
          0.0438222285949381,
          0.0438222285949381,
          0.0438222285949381,
          0.0438222285949381,
          0.0438222285949381,
          0.0438222285949381,
          0.0438222285949381,
          0.0438222285949381,
          0.0438222285949381,
          0.0438222285949381,
          0.0438222285949381,
          0.0438222285949381,
          0.0438222285949381,
          0.0438222285949381,
          0.0438222285949381,
          0.0438222285949381,
          0.0438222285949381,
          0.0438222285949381,
          0.0438222285949381,
          0.0438222285949381,
          0.0438222285949381,
          0.0438222285949381,
          0.0438222285949381,
          0.0438222285949381,
          0.0438222285949381,
          0.0438222285949381,
          0.0438222285949381,
          0.0438222285949381,
          0.0438222285949381
         ],
         "yaxis": "y"
        },
        {
         "alignmentgroup": "True",
         "hovertemplate": "channel=%{x}<br>conversion_rate=%{y}<extra></extra>",
         "legendgroup": "social media",
         "marker": {
          "color": "#ab63fa",
          "pattern": {
           "shape": ""
          }
         },
         "name": "social media",
         "offsetgroup": "social media",
         "orientation": "v",
         "showlegend": true,
         "textposition": "auto",
         "type": "bar",
         "x": [
          "social media",
          "social media",
          "social media",
          "social media",
          "social media",
          "social media",
          "social media",
          "social media",
          "social media",
          "social media",
          "social media",
          "social media",
          "social media",
          "social media",
          "social media",
          "social media",
          "social media",
          "social media",
          "social media",
          "social media",
          "social media",
          "social media",
          "social media",
          "social media",
          "social media",
          "social media",
          "social media",
          "social media",
          "social media",
          "social media",
          "social media",
          "social media",
          "social media",
          "social media",
          "social media",
          "social media",
          "social media",
          "social media",
          "social media",
          "social media",
          "social media",
          "social media",
          "social media",
          "social media",
          "social media",
          "social media",
          "social media",
          "social media",
          "social media",
          "social media",
          "social media",
          "social media",
          "social media",
          "social media",
          "social media",
          "social media",
          "social media",
          "social media",
          "social media",
          "social media",
          "social media",
          "social media",
          "social media",
          "social media",
          "social media",
          "social media",
          "social media",
          "social media",
          "social media",
          "social media",
          "social media",
          "social media",
          "social media",
          "social media",
          "social media",
          "social media",
          "social media",
          "social media",
          "social media",
          "social media",
          "social media",
          "social media",
          "social media",
          "social media",
          "social media",
          "social media",
          "social media",
          "social media",
          "social media",
          "social media",
          "social media",
          "social media",
          "social media",
          "social media",
          "social media",
          "social media",
          "social media",
          "social media",
          "social media",
          "social media",
          "social media",
          "social media",
          "social media",
          "social media",
          "social media",
          "social media",
          "social media",
          "social media",
          "social media",
          "social media",
          "social media",
          "social media",
          "social media",
          "social media",
          "social media",
          "social media",
          "social media",
          "social media",
          "social media",
          "social media",
          "social media",
          "social media",
          "social media",
          "social media",
          "social media",
          "social media",
          "social media",
          "social media",
          "social media",
          "social media",
          "social media",
          "social media",
          "social media",
          "social media",
          "social media",
          "social media",
          "social media",
          "social media",
          "social media",
          "social media",
          "social media",
          "social media",
          "social media",
          "social media",
          "social media",
          "social media",
          "social media",
          "social media",
          "social media",
          "social media",
          "social media",
          "social media",
          "social media",
          "social media",
          "social media",
          "social media",
          "social media",
          "social media",
          "social media",
          "social media",
          "social media",
          "social media",
          "social media",
          "social media",
          "social media",
          "social media",
          "social media",
          "social media",
          "social media",
          "social media",
          "social media",
          "social media",
          "social media",
          "social media",
          "social media",
          "social media",
          "social media",
          "social media",
          "social media",
          "social media",
          "social media",
          "social media",
          "social media",
          "social media",
          "social media"
         ],
         "xaxis": "x",
         "y": [
          0.1675922473559195,
          0.1675922473559195,
          0.1675922473559195,
          0.1675922473559195,
          0.1675922473559195,
          0.1675922473559195,
          0.1675922473559195,
          0.1675922473559195,
          0.1675922473559195,
          0.1675922473559195,
          0.1675922473559195,
          0.1675922473559195,
          0.1675922473559195,
          0.1675922473559195,
          0.1675922473559195,
          0.1675922473559195,
          0.1675922473559195,
          0.1675922473559195,
          0.1675922473559195,
          0.1675922473559195,
          0.1675922473559195,
          0.1675922473559195,
          0.1675922473559195,
          0.1675922473559195,
          0.1675922473559195,
          0.1675922473559195,
          0.1675922473559195,
          0.1675922473559195,
          0.1675922473559195,
          0.1675922473559195,
          0.1675922473559195,
          0.1675922473559195,
          0.1675922473559195,
          0.1675922473559195,
          0.1675922473559195,
          0.1675922473559195,
          0.1675922473559195,
          0.1675922473559195,
          0.1675922473559195,
          0.1675922473559195,
          0.1675922473559195,
          0.1675922473559195,
          0.1675922473559195,
          0.1675922473559195,
          0.1675922473559195,
          0.1675922473559195,
          0.1675922473559195,
          0.1675922473559195,
          0.1675922473559195,
          0.1675922473559195,
          0.1675922473559195,
          0.1675922473559195,
          0.1675922473559195,
          0.1675922473559195,
          0.1675922473559195,
          0.1675922473559195,
          0.1675922473559195,
          0.1675922473559195,
          0.1675922473559195,
          0.1675922473559195,
          0.1675922473559195,
          0.1675922473559195,
          0.1675922473559195,
          0.1675922473559195,
          0.1675922473559195,
          0.1675922473559195,
          0.1675922473559195,
          0.1675922473559195,
          0.1675922473559195,
          0.1675922473559195,
          0.1675922473559195,
          0.1675922473559195,
          0.1675922473559195,
          0.1675922473559195,
          0.1675922473559195,
          0.1675922473559195,
          0.1675922473559195,
          0.1675922473559195,
          0.1675922473559195,
          0.1675922473559195,
          0.1675922473559195,
          0.1675922473559195,
          0.1675922473559195,
          0.1675922473559195,
          0.1675922473559195,
          0.1675922473559195,
          0.1675922473559195,
          0.1675922473559195,
          0.1675922473559195,
          0.1675922473559195,
          0.1675922473559195,
          0.1675922473559195,
          0.1675922473559195,
          0.1675922473559195,
          0.1675922473559195,
          0.1675922473559195,
          0.1675922473559195,
          0.1675922473559195,
          0.1675922473559195,
          0.1675922473559195,
          0.1675922473559195,
          0.1675922473559195,
          0.1675922473559195,
          0.1675922473559195,
          0.1675922473559195,
          0.1675922473559195,
          0.1675922473559195,
          0.1675922473559195,
          0.1675922473559195,
          0.1675922473559195,
          0.1675922473559195,
          0.1675922473559195,
          0.1675922473559195,
          0.1675922473559195,
          0.1675922473559195,
          0.1675922473559195,
          0.1675922473559195,
          0.1675922473559195,
          0.1675922473559195,
          0.1675922473559195,
          0.1675922473559195,
          0.1675922473559195,
          0.1675922473559195,
          0.1675922473559195,
          0.1675922473559195,
          0.1675922473559195,
          0.1675922473559195,
          0.1675922473559195,
          0.1675922473559195,
          0.1675922473559195,
          0.1675922473559195,
          0.1675922473559195,
          0.1675922473559195,
          0.1675922473559195,
          0.1675922473559195,
          0.1675922473559195,
          0.1675922473559195,
          0.1675922473559195,
          0.1675922473559195,
          0.1675922473559195,
          0.1675922473559195,
          0.1675922473559195,
          0.1675922473559195,
          0.1675922473559195,
          0.1675922473559195,
          0.1675922473559195,
          0.1675922473559195,
          0.1675922473559195,
          0.1675922473559195,
          0.1675922473559195,
          0.1675922473559195,
          0.1675922473559195,
          0.1675922473559195,
          0.1675922473559195,
          0.1675922473559195,
          0.1675922473559195,
          0.1675922473559195,
          0.1675922473559195,
          0.1675922473559195,
          0.1675922473559195,
          0.1675922473559195,
          0.1675922473559195,
          0.1675922473559195,
          0.1675922473559195,
          0.1675922473559195,
          0.1675922473559195,
          0.1675922473559195,
          0.1675922473559195,
          0.1675922473559195,
          0.1675922473559195,
          0.1675922473559195,
          0.1675922473559195,
          0.1675922473559195,
          0.1675922473559195,
          0.1675922473559195,
          0.1675922473559195,
          0.1675922473559195,
          0.1675922473559195,
          0.1675922473559195,
          0.1675922473559195,
          0.1675922473559195,
          0.1675922473559195,
          0.1675922473559195,
          0.1675922473559195,
          0.1675922473559195
         ],
         "yaxis": "y"
        }
       ],
       "layout": {
        "autosize": true,
        "barmode": "relative",
        "legend": {
         "title": {
          "text": "channel"
         },
         "tracegroupgap": 0
        },
        "template": {
         "data": {
          "bar": [
           {
            "error_x": {
             "color": "#2a3f5f"
            },
            "error_y": {
             "color": "#2a3f5f"
            },
            "marker": {
             "line": {
              "color": "white",
              "width": 0.5
             },
             "pattern": {
              "fillmode": "overlay",
              "size": 10,
              "solidity": 0.2
             }
            },
            "type": "bar"
           }
          ],
          "barpolar": [
           {
            "marker": {
             "line": {
              "color": "white",
              "width": 0.5
             },
             "pattern": {
              "fillmode": "overlay",
              "size": 10,
              "solidity": 0.2
             }
            },
            "type": "barpolar"
           }
          ],
          "carpet": [
           {
            "aaxis": {
             "endlinecolor": "#2a3f5f",
             "gridcolor": "#C8D4E3",
             "linecolor": "#C8D4E3",
             "minorgridcolor": "#C8D4E3",
             "startlinecolor": "#2a3f5f"
            },
            "baxis": {
             "endlinecolor": "#2a3f5f",
             "gridcolor": "#C8D4E3",
             "linecolor": "#C8D4E3",
             "minorgridcolor": "#C8D4E3",
             "startlinecolor": "#2a3f5f"
            },
            "type": "carpet"
           }
          ],
          "choropleth": [
           {
            "colorbar": {
             "outlinewidth": 0,
             "ticks": ""
            },
            "type": "choropleth"
           }
          ],
          "contour": [
           {
            "colorbar": {
             "outlinewidth": 0,
             "ticks": ""
            },
            "colorscale": [
             [
              0,
              "#0d0887"
             ],
             [
              0.1111111111111111,
              "#46039f"
             ],
             [
              0.2222222222222222,
              "#7201a8"
             ],
             [
              0.3333333333333333,
              "#9c179e"
             ],
             [
              0.4444444444444444,
              "#bd3786"
             ],
             [
              0.5555555555555556,
              "#d8576b"
             ],
             [
              0.6666666666666666,
              "#ed7953"
             ],
             [
              0.7777777777777778,
              "#fb9f3a"
             ],
             [
              0.8888888888888888,
              "#fdca26"
             ],
             [
              1,
              "#f0f921"
             ]
            ],
            "type": "contour"
           }
          ],
          "contourcarpet": [
           {
            "colorbar": {
             "outlinewidth": 0,
             "ticks": ""
            },
            "type": "contourcarpet"
           }
          ],
          "heatmap": [
           {
            "colorbar": {
             "outlinewidth": 0,
             "ticks": ""
            },
            "colorscale": [
             [
              0,
              "#0d0887"
             ],
             [
              0.1111111111111111,
              "#46039f"
             ],
             [
              0.2222222222222222,
              "#7201a8"
             ],
             [
              0.3333333333333333,
              "#9c179e"
             ],
             [
              0.4444444444444444,
              "#bd3786"
             ],
             [
              0.5555555555555556,
              "#d8576b"
             ],
             [
              0.6666666666666666,
              "#ed7953"
             ],
             [
              0.7777777777777778,
              "#fb9f3a"
             ],
             [
              0.8888888888888888,
              "#fdca26"
             ],
             [
              1,
              "#f0f921"
             ]
            ],
            "type": "heatmap"
           }
          ],
          "heatmapgl": [
           {
            "colorbar": {
             "outlinewidth": 0,
             "ticks": ""
            },
            "colorscale": [
             [
              0,
              "#0d0887"
             ],
             [
              0.1111111111111111,
              "#46039f"
             ],
             [
              0.2222222222222222,
              "#7201a8"
             ],
             [
              0.3333333333333333,
              "#9c179e"
             ],
             [
              0.4444444444444444,
              "#bd3786"
             ],
             [
              0.5555555555555556,
              "#d8576b"
             ],
             [
              0.6666666666666666,
              "#ed7953"
             ],
             [
              0.7777777777777778,
              "#fb9f3a"
             ],
             [
              0.8888888888888888,
              "#fdca26"
             ],
             [
              1,
              "#f0f921"
             ]
            ],
            "type": "heatmapgl"
           }
          ],
          "histogram": [
           {
            "marker": {
             "pattern": {
              "fillmode": "overlay",
              "size": 10,
              "solidity": 0.2
             }
            },
            "type": "histogram"
           }
          ],
          "histogram2d": [
           {
            "colorbar": {
             "outlinewidth": 0,
             "ticks": ""
            },
            "colorscale": [
             [
              0,
              "#0d0887"
             ],
             [
              0.1111111111111111,
              "#46039f"
             ],
             [
              0.2222222222222222,
              "#7201a8"
             ],
             [
              0.3333333333333333,
              "#9c179e"
             ],
             [
              0.4444444444444444,
              "#bd3786"
             ],
             [
              0.5555555555555556,
              "#d8576b"
             ],
             [
              0.6666666666666666,
              "#ed7953"
             ],
             [
              0.7777777777777778,
              "#fb9f3a"
             ],
             [
              0.8888888888888888,
              "#fdca26"
             ],
             [
              1,
              "#f0f921"
             ]
            ],
            "type": "histogram2d"
           }
          ],
          "histogram2dcontour": [
           {
            "colorbar": {
             "outlinewidth": 0,
             "ticks": ""
            },
            "colorscale": [
             [
              0,
              "#0d0887"
             ],
             [
              0.1111111111111111,
              "#46039f"
             ],
             [
              0.2222222222222222,
              "#7201a8"
             ],
             [
              0.3333333333333333,
              "#9c179e"
             ],
             [
              0.4444444444444444,
              "#bd3786"
             ],
             [
              0.5555555555555556,
              "#d8576b"
             ],
             [
              0.6666666666666666,
              "#ed7953"
             ],
             [
              0.7777777777777778,
              "#fb9f3a"
             ],
             [
              0.8888888888888888,
              "#fdca26"
             ],
             [
              1,
              "#f0f921"
             ]
            ],
            "type": "histogram2dcontour"
           }
          ],
          "mesh3d": [
           {
            "colorbar": {
             "outlinewidth": 0,
             "ticks": ""
            },
            "type": "mesh3d"
           }
          ],
          "parcoords": [
           {
            "line": {
             "colorbar": {
              "outlinewidth": 0,
              "ticks": ""
             }
            },
            "type": "parcoords"
           }
          ],
          "pie": [
           {
            "automargin": true,
            "type": "pie"
           }
          ],
          "scatter": [
           {
            "fillpattern": {
             "fillmode": "overlay",
             "size": 10,
             "solidity": 0.2
            },
            "type": "scatter"
           }
          ],
          "scatter3d": [
           {
            "line": {
             "colorbar": {
              "outlinewidth": 0,
              "ticks": ""
             }
            },
            "marker": {
             "colorbar": {
              "outlinewidth": 0,
              "ticks": ""
             }
            },
            "type": "scatter3d"
           }
          ],
          "scattercarpet": [
           {
            "marker": {
             "colorbar": {
              "outlinewidth": 0,
              "ticks": ""
             }
            },
            "type": "scattercarpet"
           }
          ],
          "scattergeo": [
           {
            "marker": {
             "colorbar": {
              "outlinewidth": 0,
              "ticks": ""
             }
            },
            "type": "scattergeo"
           }
          ],
          "scattergl": [
           {
            "marker": {
             "colorbar": {
              "outlinewidth": 0,
              "ticks": ""
             }
            },
            "type": "scattergl"
           }
          ],
          "scattermapbox": [
           {
            "marker": {
             "colorbar": {
              "outlinewidth": 0,
              "ticks": ""
             }
            },
            "type": "scattermapbox"
           }
          ],
          "scatterpolar": [
           {
            "marker": {
             "colorbar": {
              "outlinewidth": 0,
              "ticks": ""
             }
            },
            "type": "scatterpolar"
           }
          ],
          "scatterpolargl": [
           {
            "marker": {
             "colorbar": {
              "outlinewidth": 0,
              "ticks": ""
             }
            },
            "type": "scatterpolargl"
           }
          ],
          "scatterternary": [
           {
            "marker": {
             "colorbar": {
              "outlinewidth": 0,
              "ticks": ""
             }
            },
            "type": "scatterternary"
           }
          ],
          "surface": [
           {
            "colorbar": {
             "outlinewidth": 0,
             "ticks": ""
            },
            "colorscale": [
             [
              0,
              "#0d0887"
             ],
             [
              0.1111111111111111,
              "#46039f"
             ],
             [
              0.2222222222222222,
              "#7201a8"
             ],
             [
              0.3333333333333333,
              "#9c179e"
             ],
             [
              0.4444444444444444,
              "#bd3786"
             ],
             [
              0.5555555555555556,
              "#d8576b"
             ],
             [
              0.6666666666666666,
              "#ed7953"
             ],
             [
              0.7777777777777778,
              "#fb9f3a"
             ],
             [
              0.8888888888888888,
              "#fdca26"
             ],
             [
              1,
              "#f0f921"
             ]
            ],
            "type": "surface"
           }
          ],
          "table": [
           {
            "cells": {
             "fill": {
              "color": "#EBF0F8"
             },
             "line": {
              "color": "white"
             }
            },
            "header": {
             "fill": {
              "color": "#C8D4E3"
             },
             "line": {
              "color": "white"
             }
            },
            "type": "table"
           }
          ]
         },
         "layout": {
          "annotationdefaults": {
           "arrowcolor": "#2a3f5f",
           "arrowhead": 0,
           "arrowwidth": 1
          },
          "autotypenumbers": "strict",
          "coloraxis": {
           "colorbar": {
            "outlinewidth": 0,
            "ticks": ""
           }
          },
          "colorscale": {
           "diverging": [
            [
             0,
             "#8e0152"
            ],
            [
             0.1,
             "#c51b7d"
            ],
            [
             0.2,
             "#de77ae"
            ],
            [
             0.3,
             "#f1b6da"
            ],
            [
             0.4,
             "#fde0ef"
            ],
            [
             0.5,
             "#f7f7f7"
            ],
            [
             0.6,
             "#e6f5d0"
            ],
            [
             0.7,
             "#b8e186"
            ],
            [
             0.8,
             "#7fbc41"
            ],
            [
             0.9,
             "#4d9221"
            ],
            [
             1,
             "#276419"
            ]
           ],
           "sequential": [
            [
             0,
             "#0d0887"
            ],
            [
             0.1111111111111111,
             "#46039f"
            ],
            [
             0.2222222222222222,
             "#7201a8"
            ],
            [
             0.3333333333333333,
             "#9c179e"
            ],
            [
             0.4444444444444444,
             "#bd3786"
            ],
            [
             0.5555555555555556,
             "#d8576b"
            ],
            [
             0.6666666666666666,
             "#ed7953"
            ],
            [
             0.7777777777777778,
             "#fb9f3a"
            ],
            [
             0.8888888888888888,
             "#fdca26"
            ],
            [
             1,
             "#f0f921"
            ]
           ],
           "sequentialminus": [
            [
             0,
             "#0d0887"
            ],
            [
             0.1111111111111111,
             "#46039f"
            ],
            [
             0.2222222222222222,
             "#7201a8"
            ],
            [
             0.3333333333333333,
             "#9c179e"
            ],
            [
             0.4444444444444444,
             "#bd3786"
            ],
            [
             0.5555555555555556,
             "#d8576b"
            ],
            [
             0.6666666666666666,
             "#ed7953"
            ],
            [
             0.7777777777777778,
             "#fb9f3a"
            ],
            [
             0.8888888888888888,
             "#fdca26"
            ],
            [
             1,
             "#f0f921"
            ]
           ]
          },
          "colorway": [
           "#636efa",
           "#EF553B",
           "#00cc96",
           "#ab63fa",
           "#FFA15A",
           "#19d3f3",
           "#FF6692",
           "#B6E880",
           "#FF97FF",
           "#FECB52"
          ],
          "font": {
           "color": "#2a3f5f"
          },
          "geo": {
           "bgcolor": "white",
           "lakecolor": "white",
           "landcolor": "white",
           "showlakes": true,
           "showland": true,
           "subunitcolor": "#C8D4E3"
          },
          "hoverlabel": {
           "align": "left"
          },
          "hovermode": "closest",
          "mapbox": {
           "style": "light"
          },
          "paper_bgcolor": "white",
          "plot_bgcolor": "white",
          "polar": {
           "angularaxis": {
            "gridcolor": "#EBF0F8",
            "linecolor": "#EBF0F8",
            "ticks": ""
           },
           "bgcolor": "white",
           "radialaxis": {
            "gridcolor": "#EBF0F8",
            "linecolor": "#EBF0F8",
            "ticks": ""
           }
          },
          "scene": {
           "xaxis": {
            "backgroundcolor": "white",
            "gridcolor": "#DFE8F3",
            "gridwidth": 2,
            "linecolor": "#EBF0F8",
            "showbackground": true,
            "ticks": "",
            "zerolinecolor": "#EBF0F8"
           },
           "yaxis": {
            "backgroundcolor": "white",
            "gridcolor": "#DFE8F3",
            "gridwidth": 2,
            "linecolor": "#EBF0F8",
            "showbackground": true,
            "ticks": "",
            "zerolinecolor": "#EBF0F8"
           },
           "zaxis": {
            "backgroundcolor": "white",
            "gridcolor": "#DFE8F3",
            "gridwidth": 2,
            "linecolor": "#EBF0F8",
            "showbackground": true,
            "ticks": "",
            "zerolinecolor": "#EBF0F8"
           }
          },
          "shapedefaults": {
           "line": {
            "color": "#2a3f5f"
           }
          },
          "ternary": {
           "aaxis": {
            "gridcolor": "#DFE8F3",
            "linecolor": "#A2B1C6",
            "ticks": ""
           },
           "baxis": {
            "gridcolor": "#DFE8F3",
            "linecolor": "#A2B1C6",
            "ticks": ""
           },
           "bgcolor": "white",
           "caxis": {
            "gridcolor": "#DFE8F3",
            "linecolor": "#A2B1C6",
            "ticks": ""
           }
          },
          "title": {
           "x": 0.05
          },
          "xaxis": {
           "automargin": true,
           "gridcolor": "#EBF0F8",
           "linecolor": "#EBF0F8",
           "ticks": "",
           "title": {
            "standoff": 15
           },
           "zerolinecolor": "#EBF0F8",
           "zerolinewidth": 2
          },
          "yaxis": {
           "automargin": true,
           "gridcolor": "#EBF0F8",
           "linecolor": "#EBF0F8",
           "ticks": "",
           "title": {
            "standoff": 15
           },
           "zerolinecolor": "#EBF0F8",
           "zerolinewidth": 2
          }
         }
        },
        "title": {
         "text": "Conversion Rate by Channel"
        },
        "xaxis": {
         "anchor": "y",
         "autorange": true,
         "categoryarray": [
          "referral",
          "paid advertising",
          "email marketing",
          "social media"
         ],
         "categoryorder": "array",
         "domain": [
          0,
          1
         ],
         "range": [
          -0.5,
          3.5
         ],
         "title": {
          "text": "Channel"
         },
         "type": "category"
        },
        "yaxis": {
         "anchor": "x",
         "autorange": true,
         "domain": [
          0,
          1
         ],
         "range": [
          0,
          32.63638501141594
         ],
         "title": {
          "text": "Conversion Rate"
         },
         "type": "linear"
        }
       }
      },
      "image/png": "[encoded data removed]",
      "text/html": [
       "<div>                            <div id=\"28709516-d94f-493b-b997-4430863ba041\" class=\"plotly-graph-div\" style=\"height:525px; width:100%;\"></div>            <script type=\"text/javascript\">                require([\"plotly\"], function(Plotly) {                    window.PLOTLYENV=window.PLOTLYENV || {};                                    if (document.getElementById(\"28709516-d94f-493b-b997-4430863ba041\")) {                    Plotly.newPlot(                        \"28709516-d94f-493b-b997-4430863ba041\",                        [{\"alignmentgroup\":\"True\",\"hovertemplate\":\"channel=%{x}\\u003cbr\\u003econversion_rate=%{y}\\u003cextra\\u003e\\u003c\\u002fextra\\u003e\",\"legendgroup\":\"referral\",\"marker\":{\"color\":\"#636efa\",\"pattern\":{\"shape\":\"\"}},\"name\":\"referral\",\"offsetgroup\":\"referral\",\"orientation\":\"v\",\"showlegend\":true,\"textposition\":\"auto\",\"x\":[\"referral\",\"referral\",\"referral\",\"referral\",\"referral\",\"referral\",\"referral\",\"referral\",\"referral\",\"referral\",\"referral\",\"referral\",\"referral\",\"referral\",\"referral\",\"referral\",\"referral\",\"referral\",\"referral\",\"referral\",\"referral\",\"referral\",\"referral\",\"referral\",\"referral\",\"referral\",\"referral\",\"referral\",\"referral\",\"referral\",\"referral\",\"referral\",\"referral\",\"referral\",\"referral\",\"referral\",\"referral\",\"referral\",\"referral\",\"referral\",\"referral\",\"referral\",\"referral\",\"referral\",\"referral\",\"referral\",\"referral\",\"referral\",\"referral\",\"referral\",\"referral\",\"referral\",\"referral\",\"referral\",\"referral\",\"referral\",\"referral\",\"referral\",\"referral\",\"referral\",\"referral\",\"referral\",\"referral\",\"referral\",\"referral\",\"referral\",\"referral\",\"referral\",\"referral\",\"referral\",\"referral\",\"referral\",\"referral\",\"referral\",\"referral\",\"referral\",\"referral\",\"referral\",\"referral\",\"referral\",\"referral\",\"referral\",\"referral\",\"referral\",\"referral\",\"referral\",\"referral\",\"referral\",\"referral\",\"referral\",\"referral\",\"referral\",\"referral\",\"referral\",\"referral\",\"referral\",\"referral\",\"referral\",\"referral\",\"referral\",\"referral\",\"referral\",\"referral\",\"referral\",\"referral\",\"referral\",\"referral\",\"referral\",\"referral\",\"referral\",\"referral\",\"referral\",\"referral\",\"referral\",\"referral\",\"referral\",\"referral\",\"referral\",\"referral\",\"referral\",\"referral\",\"referral\",\"referral\",\"referral\",\"referral\",\"referral\",\"referral\",\"referral\",\"referral\",\"referral\",\"referral\",\"referral\",\"referral\",\"referral\",\"referral\",\"referral\",\"referral\",\"referral\",\"referral\",\"referral\",\"referral\",\"referral\",\"referral\",\"referral\",\"referral\",\"referral\",\"referral\",\"referral\",\"referral\",\"referral\",\"referral\",\"referral\",\"referral\",\"referral\",\"referral\",\"referral\",\"referral\",\"referral\",\"referral\",\"referral\",\"referral\",\"referral\",\"referral\",\"referral\",\"referral\",\"referral\",\"referral\",\"referral\",\"referral\",\"referral\",\"referral\",\"referral\",\"referral\",\"referral\",\"referral\",\"referral\",\"referral\",\"referral\",\"referral\",\"referral\",\"referral\",\"referral\",\"referral\",\"referral\",\"referral\",\"referral\",\"referral\",\"referral\",\"referral\",\"referral\",\"referral\",\"referral\",\"referral\",\"referral\",\"referral\",\"referral\",\"referral\",\"referral\",\"referral\",\"referral\",\"referral\",\"referral\",\"referral\",\"referral\",\"referral\",\"referral\",\"referral\"],\"xaxis\":\"x\",\"y\":[0.1231449787166301,0.1231449787166301,0.1231449787166301,0.1231449787166301,0.1231449787166301,0.1231449787166301,0.1231449787166301,0.1231449787166301,0.1231449787166301,0.1231449787166301,0.1231449787166301,0.1231449787166301,0.1231449787166301,0.1231449787166301,0.1231449787166301,0.1231449787166301,0.1231449787166301,0.1231449787166301,0.1231449787166301,0.1231449787166301,0.1231449787166301,0.1231449787166301,0.1231449787166301,0.1231449787166301,0.1231449787166301,0.1231449787166301,0.1231449787166301,0.1231449787166301,0.1231449787166301,0.1231449787166301,0.1231449787166301,0.1231449787166301,0.1231449787166301,0.1231449787166301,0.1231449787166301,0.1231449787166301,0.1231449787166301,0.1231449787166301,0.1231449787166301,0.1231449787166301,0.1231449787166301,0.1231449787166301,0.1231449787166301,0.1231449787166301,0.1231449787166301,0.1231449787166301,0.1231449787166301,0.1231449787166301,0.1231449787166301,0.1231449787166301,0.1231449787166301,0.1231449787166301,0.1231449787166301,0.1231449787166301,0.1231449787166301,0.1231449787166301,0.1231449787166301,0.1231449787166301,0.1231449787166301,0.1231449787166301,0.1231449787166301,0.1231449787166301,0.1231449787166301,0.1231449787166301,0.1231449787166301,0.1231449787166301,0.1231449787166301,0.1231449787166301,0.1231449787166301,0.1231449787166301,0.1231449787166301,0.1231449787166301,0.1231449787166301,0.1231449787166301,0.1231449787166301,0.1231449787166301,0.1231449787166301,0.1231449787166301,0.1231449787166301,0.1231449787166301,0.1231449787166301,0.1231449787166301,0.1231449787166301,0.1231449787166301,0.1231449787166301,0.1231449787166301,0.1231449787166301,0.1231449787166301,0.1231449787166301,0.1231449787166301,0.1231449787166301,0.1231449787166301,0.1231449787166301,0.1231449787166301,0.1231449787166301,0.1231449787166301,0.1231449787166301,0.1231449787166301,0.1231449787166301,0.1231449787166301,0.1231449787166301,0.1231449787166301,0.1231449787166301,0.1231449787166301,0.1231449787166301,0.1231449787166301,0.1231449787166301,0.1231449787166301,0.1231449787166301,0.1231449787166301,0.1231449787166301,0.1231449787166301,0.1231449787166301,0.1231449787166301,0.1231449787166301,0.1231449787166301,0.1231449787166301,0.1231449787166301,0.1231449787166301,0.1231449787166301,0.1231449787166301,0.1231449787166301,0.1231449787166301,0.1231449787166301,0.1231449787166301,0.1231449787166301,0.1231449787166301,0.1231449787166301,0.1231449787166301,0.1231449787166301,0.1231449787166301,0.1231449787166301,0.1231449787166301,0.1231449787166301,0.1231449787166301,0.1231449787166301,0.1231449787166301,0.1231449787166301,0.1231449787166301,0.1231449787166301,0.1231449787166301,0.1231449787166301,0.1231449787166301,0.1231449787166301,0.1231449787166301,0.1231449787166301,0.1231449787166301,0.1231449787166301,0.1231449787166301,0.1231449787166301,0.1231449787166301,0.1231449787166301,0.1231449787166301,0.1231449787166301,0.1231449787166301,0.1231449787166301,0.1231449787166301,0.1231449787166301,0.1231449787166301,0.1231449787166301,0.1231449787166301,0.1231449787166301,0.1231449787166301,0.1231449787166301,0.1231449787166301,0.1231449787166301,0.1231449787166301,0.1231449787166301,0.1231449787166301,0.1231449787166301,0.1231449787166301,0.1231449787166301,0.1231449787166301,0.1231449787166301,0.1231449787166301,0.1231449787166301,0.1231449787166301,0.1231449787166301,0.1231449787166301,0.1231449787166301,0.1231449787166301,0.1231449787166301,0.1231449787166301,0.1231449787166301,0.1231449787166301,0.1231449787166301,0.1231449787166301,0.1231449787166301,0.1231449787166301,0.1231449787166301,0.1231449787166301,0.1231449787166301,0.1231449787166301,0.1231449787166301,0.1231449787166301,0.1231449787166301,0.1231449787166301,0.1231449787166301,0.1231449787166301,0.1231449787166301,0.1231449787166301,0.1231449787166301,0.1231449787166301,0.1231449787166301,0.1231449787166301,0.1231449787166301,0.1231449787166301],\"yaxis\":\"y\",\"type\":\"bar\"},{\"alignmentgroup\":\"True\",\"hovertemplate\":\"channel=%{x}\\u003cbr\\u003econversion_rate=%{y}\\u003cextra\\u003e\\u003c\\u002fextra\\u003e\",\"legendgroup\":\"paid advertising\",\"marker\":{\"color\":\"#EF553B\",\"pattern\":{\"shape\":\"\"}},\"name\":\"paid advertising\",\"offsetgroup\":\"paid advertising\",\"orientation\":\"v\",\"showlegend\":true,\"textposition\":\"auto\",\"x\":[\"paid advertising\",\"paid advertising\",\"paid advertising\",\"paid advertising\",\"paid advertising\",\"paid advertising\",\"paid advertising\",\"paid advertising\",\"paid advertising\",\"paid advertising\",\"paid advertising\",\"paid advertising\",\"paid advertising\",\"paid advertising\",\"paid advertising\",\"paid advertising\",\"paid advertising\",\"paid advertising\",\"paid advertising\",\"paid advertising\",\"paid advertising\",\"paid advertising\",\"paid advertising\",\"paid advertising\",\"paid advertising\",\"paid advertising\",\"paid advertising\",\"paid advertising\",\"paid advertising\",\"paid advertising\",\"paid advertising\",\"paid advertising\",\"paid advertising\",\"paid advertising\",\"paid advertising\",\"paid advertising\",\"paid advertising\",\"paid advertising\",\"paid advertising\",\"paid advertising\",\"paid advertising\",\"paid advertising\",\"paid advertising\",\"paid advertising\",\"paid advertising\",\"paid advertising\",\"paid advertising\",\"paid advertising\",\"paid advertising\",\"paid advertising\",\"paid advertising\",\"paid advertising\",\"paid advertising\",\"paid advertising\",\"paid advertising\",\"paid advertising\",\"paid advertising\",\"paid advertising\",\"paid advertising\",\"paid advertising\",\"paid advertising\",\"paid advertising\",\"paid advertising\",\"paid advertising\",\"paid advertising\",\"paid advertising\",\"paid advertising\",\"paid advertising\",\"paid advertising\",\"paid advertising\",\"paid advertising\",\"paid advertising\",\"paid advertising\",\"paid advertising\",\"paid advertising\",\"paid advertising\",\"paid advertising\",\"paid advertising\",\"paid advertising\",\"paid advertising\",\"paid advertising\",\"paid advertising\",\"paid advertising\",\"paid advertising\",\"paid advertising\",\"paid advertising\",\"paid advertising\",\"paid advertising\",\"paid advertising\",\"paid advertising\",\"paid advertising\",\"paid advertising\",\"paid advertising\",\"paid advertising\",\"paid advertising\",\"paid advertising\",\"paid advertising\",\"paid advertising\",\"paid advertising\",\"paid advertising\",\"paid advertising\",\"paid advertising\",\"paid advertising\",\"paid advertising\",\"paid advertising\",\"paid advertising\",\"paid advertising\",\"paid advertising\",\"paid advertising\",\"paid advertising\",\"paid advertising\",\"paid advertising\",\"paid advertising\",\"paid advertising\",\"paid advertising\",\"paid advertising\",\"paid advertising\",\"paid advertising\",\"paid advertising\",\"paid advertising\",\"paid advertising\",\"paid advertising\",\"paid advertising\",\"paid advertising\",\"paid advertising\",\"paid advertising\",\"paid advertising\",\"paid advertising\",\"paid advertising\",\"paid advertising\",\"paid advertising\",\"paid advertising\",\"paid advertising\",\"paid advertising\",\"paid advertising\",\"paid advertising\",\"paid advertising\",\"paid advertising\",\"paid advertising\",\"paid advertising\",\"paid advertising\",\"paid advertising\",\"paid advertising\",\"paid advertising\",\"paid advertising\",\"paid advertising\",\"paid advertising\",\"paid advertising\",\"paid advertising\",\"paid advertising\",\"paid advertising\",\"paid advertising\",\"paid advertising\",\"paid advertising\",\"paid advertising\",\"paid advertising\",\"paid advertising\",\"paid advertising\",\"paid advertising\",\"paid advertising\",\"paid advertising\",\"paid advertising\",\"paid advertising\",\"paid advertising\",\"paid advertising\",\"paid advertising\",\"paid advertising\",\"paid advertising\",\"paid advertising\",\"paid advertising\",\"paid advertising\",\"paid advertising\",\"paid advertising\",\"paid advertising\",\"paid advertising\",\"paid advertising\",\"paid advertising\",\"paid advertising\",\"paid advertising\",\"paid advertising\",\"paid advertising\",\"paid advertising\",\"paid advertising\",\"paid advertising\",\"paid advertising\",\"paid advertising\",\"paid advertising\",\"paid advertising\",\"paid advertising\",\"paid advertising\",\"paid advertising\",\"paid advertising\",\"paid advertising\",\"paid advertising\"],\"xaxis\":\"x\",\"y\":[0.0163414915688768,0.0163414915688768,0.0163414915688768,0.0163414915688768,0.0163414915688768,0.0163414915688768,0.0163414915688768,0.0163414915688768,0.0163414915688768,0.0163414915688768,0.0163414915688768,0.0163414915688768,0.0163414915688768,0.0163414915688768,0.0163414915688768,0.0163414915688768,0.0163414915688768,0.0163414915688768,0.0163414915688768,0.0163414915688768,0.0163414915688768,0.0163414915688768,0.0163414915688768,0.0163414915688768,0.0163414915688768,0.0163414915688768,0.0163414915688768,0.0163414915688768,0.0163414915688768,0.0163414915688768,0.0163414915688768,0.0163414915688768,0.0163414915688768,0.0163414915688768,0.0163414915688768,0.0163414915688768,0.0163414915688768,0.0163414915688768,0.0163414915688768,0.0163414915688768,0.0163414915688768,0.0163414915688768,0.0163414915688768,0.0163414915688768,0.0163414915688768,0.0163414915688768,0.0163414915688768,0.0163414915688768,0.0163414915688768,0.0163414915688768,0.0163414915688768,0.0163414915688768,0.0163414915688768,0.0163414915688768,0.0163414915688768,0.0163414915688768,0.0163414915688768,0.0163414915688768,0.0163414915688768,0.0163414915688768,0.0163414915688768,0.0163414915688768,0.0163414915688768,0.0163414915688768,0.0163414915688768,0.0163414915688768,0.0163414915688768,0.0163414915688768,0.0163414915688768,0.0163414915688768,0.0163414915688768,0.0163414915688768,0.0163414915688768,0.0163414915688768,0.0163414915688768,0.0163414915688768,0.0163414915688768,0.0163414915688768,0.0163414915688768,0.0163414915688768,0.0163414915688768,0.0163414915688768,0.0163414915688768,0.0163414915688768,0.0163414915688768,0.0163414915688768,0.0163414915688768,0.0163414915688768,0.0163414915688768,0.0163414915688768,0.0163414915688768,0.0163414915688768,0.0163414915688768,0.0163414915688768,0.0163414915688768,0.0163414915688768,0.0163414915688768,0.0163414915688768,0.0163414915688768,0.0163414915688768,0.0163414915688768,0.0163414915688768,0.0163414915688768,0.0163414915688768,0.0163414915688768,0.0163414915688768,0.0163414915688768,0.0163414915688768,0.0163414915688768,0.0163414915688768,0.0163414915688768,0.0163414915688768,0.0163414915688768,0.0163414915688768,0.0163414915688768,0.0163414915688768,0.0163414915688768,0.0163414915688768,0.0163414915688768,0.0163414915688768,0.0163414915688768,0.0163414915688768,0.0163414915688768,0.0163414915688768,0.0163414915688768,0.0163414915688768,0.0163414915688768,0.0163414915688768,0.0163414915688768,0.0163414915688768,0.0163414915688768,0.0163414915688768,0.0163414915688768,0.0163414915688768,0.0163414915688768,0.0163414915688768,0.0163414915688768,0.0163414915688768,0.0163414915688768,0.0163414915688768,0.0163414915688768,0.0163414915688768,0.0163414915688768,0.0163414915688768,0.0163414915688768,0.0163414915688768,0.0163414915688768,0.0163414915688768,0.0163414915688768,0.0163414915688768,0.0163414915688768,0.0163414915688768,0.0163414915688768,0.0163414915688768,0.0163414915688768,0.0163414915688768,0.0163414915688768,0.0163414915688768,0.0163414915688768,0.0163414915688768,0.0163414915688768,0.0163414915688768,0.0163414915688768,0.0163414915688768,0.0163414915688768,0.0163414915688768,0.0163414915688768,0.0163414915688768,0.0163414915688768,0.0163414915688768,0.0163414915688768,0.0163414915688768,0.0163414915688768,0.0163414915688768,0.0163414915688768,0.0163414915688768,0.0163414915688768,0.0163414915688768,0.0163414915688768,0.0163414915688768,0.0163414915688768,0.0163414915688768,0.0163414915688768,0.0163414915688768,0.0163414915688768,0.0163414915688768,0.0163414915688768,0.0163414915688768,0.0163414915688768,0.0163414915688768,0.0163414915688768,0.0163414915688768,0.0163414915688768,0.0163414915688768],\"yaxis\":\"y\",\"type\":\"bar\"},{\"alignmentgroup\":\"True\",\"hovertemplate\":\"channel=%{x}\\u003cbr\\u003econversion_rate=%{y}\\u003cextra\\u003e\\u003c\\u002fextra\\u003e\",\"legendgroup\":\"email marketing\",\"marker\":{\"color\":\"#00cc96\",\"pattern\":{\"shape\":\"\"}},\"name\":\"email marketing\",\"offsetgroup\":\"email marketing\",\"orientation\":\"v\",\"showlegend\":true,\"textposition\":\"auto\",\"x\":[\"email marketing\",\"email marketing\",\"email marketing\",\"email marketing\",\"email marketing\",\"email marketing\",\"email marketing\",\"email marketing\",\"email marketing\",\"email marketing\",\"email marketing\",\"email marketing\",\"email marketing\",\"email marketing\",\"email marketing\",\"email marketing\",\"email marketing\",\"email marketing\",\"email marketing\",\"email marketing\",\"email marketing\",\"email marketing\",\"email marketing\",\"email marketing\",\"email marketing\",\"email marketing\",\"email marketing\",\"email marketing\",\"email marketing\",\"email marketing\",\"email marketing\",\"email marketing\",\"email marketing\",\"email marketing\",\"email marketing\",\"email marketing\",\"email marketing\",\"email marketing\",\"email marketing\",\"email marketing\",\"email marketing\",\"email marketing\",\"email marketing\",\"email marketing\",\"email marketing\",\"email marketing\",\"email marketing\",\"email marketing\",\"email marketing\",\"email marketing\",\"email marketing\",\"email marketing\",\"email marketing\",\"email marketing\",\"email marketing\",\"email marketing\",\"email marketing\",\"email marketing\",\"email marketing\",\"email marketing\",\"email marketing\",\"email marketing\",\"email marketing\",\"email marketing\",\"email marketing\",\"email marketing\",\"email marketing\",\"email marketing\",\"email marketing\",\"email marketing\",\"email marketing\",\"email marketing\",\"email marketing\",\"email marketing\",\"email marketing\",\"email marketing\",\"email marketing\",\"email marketing\",\"email marketing\",\"email marketing\",\"email marketing\",\"email marketing\",\"email marketing\",\"email marketing\",\"email marketing\",\"email marketing\",\"email marketing\",\"email marketing\",\"email marketing\",\"email marketing\",\"email marketing\",\"email marketing\",\"email marketing\",\"email marketing\",\"email marketing\",\"email marketing\",\"email marketing\",\"email marketing\",\"email marketing\",\"email marketing\",\"email marketing\",\"email marketing\",\"email marketing\",\"email marketing\",\"email marketing\",\"email marketing\",\"email marketing\",\"email marketing\",\"email marketing\",\"email marketing\",\"email marketing\",\"email marketing\",\"email marketing\",\"email marketing\",\"email marketing\",\"email marketing\",\"email marketing\",\"email marketing\",\"email marketing\",\"email marketing\",\"email marketing\",\"email marketing\",\"email marketing\",\"email marketing\",\"email marketing\",\"email marketing\",\"email marketing\",\"email marketing\",\"email marketing\",\"email marketing\",\"email marketing\",\"email marketing\",\"email marketing\",\"email marketing\",\"email marketing\",\"email marketing\",\"email marketing\",\"email marketing\",\"email marketing\",\"email marketing\",\"email marketing\",\"email marketing\",\"email marketing\",\"email marketing\",\"email marketing\",\"email marketing\",\"email marketing\",\"email marketing\",\"email marketing\",\"email marketing\",\"email marketing\",\"email marketing\",\"email marketing\",\"email marketing\",\"email marketing\",\"email marketing\",\"email marketing\",\"email marketing\",\"email marketing\",\"email marketing\",\"email marketing\",\"email marketing\",\"email marketing\",\"email marketing\",\"email marketing\",\"email marketing\",\"email marketing\",\"email marketing\",\"email marketing\",\"email marketing\",\"email marketing\",\"email marketing\",\"email marketing\",\"email marketing\",\"email marketing\",\"email marketing\",\"email marketing\",\"email marketing\",\"email marketing\",\"email marketing\",\"email marketing\",\"email marketing\",\"email marketing\",\"email marketing\",\"email marketing\",\"email marketing\",\"email marketing\",\"email marketing\",\"email marketing\",\"email marketing\",\"email marketing\",\"email marketing\",\"email marketing\",\"email marketing\",\"email marketing\",\"email marketing\",\"email marketing\",\"email marketing\",\"email marketing\",\"email marketing\",\"email marketing\",\"email marketing\",\"email marketing\",\"email marketing\",\"email marketing\",\"email marketing\",\"email marketing\",\"email marketing\",\"email marketing\",\"email marketing\",\"email marketing\",\"email marketing\",\"email marketing\",\"email marketing\"],\"xaxis\":\"x\",\"y\":[0.0438222285949381,0.0438222285949381,0.0438222285949381,0.0438222285949381,0.0438222285949381,0.0438222285949381,0.0438222285949381,0.0438222285949381,0.0438222285949381,0.0438222285949381,0.0438222285949381,0.0438222285949381,0.0438222285949381,0.0438222285949381,0.0438222285949381,0.0438222285949381,0.0438222285949381,0.0438222285949381,0.0438222285949381,0.0438222285949381,0.0438222285949381,0.0438222285949381,0.0438222285949381,0.0438222285949381,0.0438222285949381,0.0438222285949381,0.0438222285949381,0.0438222285949381,0.0438222285949381,0.0438222285949381,0.0438222285949381,0.0438222285949381,0.0438222285949381,0.0438222285949381,0.0438222285949381,0.0438222285949381,0.0438222285949381,0.0438222285949381,0.0438222285949381,0.0438222285949381,0.0438222285949381,0.0438222285949381,0.0438222285949381,0.0438222285949381,0.0438222285949381,0.0438222285949381,0.0438222285949381,0.0438222285949381,0.0438222285949381,0.0438222285949381,0.0438222285949381,0.0438222285949381,0.0438222285949381,0.0438222285949381,0.0438222285949381,0.0438222285949381,0.0438222285949381,0.0438222285949381,0.0438222285949381,0.0438222285949381,0.0438222285949381,0.0438222285949381,0.0438222285949381,0.0438222285949381,0.0438222285949381,0.0438222285949381,0.0438222285949381,0.0438222285949381,0.0438222285949381,0.0438222285949381,0.0438222285949381,0.0438222285949381,0.0438222285949381,0.0438222285949381,0.0438222285949381,0.0438222285949381,0.0438222285949381,0.0438222285949381,0.0438222285949381,0.0438222285949381,0.0438222285949381,0.0438222285949381,0.0438222285949381,0.0438222285949381,0.0438222285949381,0.0438222285949381,0.0438222285949381,0.0438222285949381,0.0438222285949381,0.0438222285949381,0.0438222285949381,0.0438222285949381,0.0438222285949381,0.0438222285949381,0.0438222285949381,0.0438222285949381,0.0438222285949381,0.0438222285949381,0.0438222285949381,0.0438222285949381,0.0438222285949381,0.0438222285949381,0.0438222285949381,0.0438222285949381,0.0438222285949381,0.0438222285949381,0.0438222285949381,0.0438222285949381,0.0438222285949381,0.0438222285949381,0.0438222285949381,0.0438222285949381,0.0438222285949381,0.0438222285949381,0.0438222285949381,0.0438222285949381,0.0438222285949381,0.0438222285949381,0.0438222285949381,0.0438222285949381,0.0438222285949381,0.0438222285949381,0.0438222285949381,0.0438222285949381,0.0438222285949381,0.0438222285949381,0.0438222285949381,0.0438222285949381,0.0438222285949381,0.0438222285949381,0.0438222285949381,0.0438222285949381,0.0438222285949381,0.0438222285949381,0.0438222285949381,0.0438222285949381,0.0438222285949381,0.0438222285949381,0.0438222285949381,0.0438222285949381,0.0438222285949381,0.0438222285949381,0.0438222285949381,0.0438222285949381,0.0438222285949381,0.0438222285949381,0.0438222285949381,0.0438222285949381,0.0438222285949381,0.0438222285949381,0.0438222285949381,0.0438222285949381,0.0438222285949381,0.0438222285949381,0.0438222285949381,0.0438222285949381,0.0438222285949381,0.0438222285949381,0.0438222285949381,0.0438222285949381,0.0438222285949381,0.0438222285949381,0.0438222285949381,0.0438222285949381,0.0438222285949381,0.0438222285949381,0.0438222285949381,0.0438222285949381,0.0438222285949381,0.0438222285949381,0.0438222285949381,0.0438222285949381,0.0438222285949381,0.0438222285949381,0.0438222285949381,0.0438222285949381,0.0438222285949381,0.0438222285949381,0.0438222285949381,0.0438222285949381,0.0438222285949381,0.0438222285949381,0.0438222285949381,0.0438222285949381,0.0438222285949381,0.0438222285949381,0.0438222285949381,0.0438222285949381,0.0438222285949381,0.0438222285949381,0.0438222285949381,0.0438222285949381,0.0438222285949381,0.0438222285949381,0.0438222285949381,0.0438222285949381,0.0438222285949381,0.0438222285949381,0.0438222285949381,0.0438222285949381,0.0438222285949381,0.0438222285949381,0.0438222285949381,0.0438222285949381,0.0438222285949381,0.0438222285949381,0.0438222285949381,0.0438222285949381,0.0438222285949381,0.0438222285949381,0.0438222285949381,0.0438222285949381,0.0438222285949381,0.0438222285949381],\"yaxis\":\"y\",\"type\":\"bar\"},{\"alignmentgroup\":\"True\",\"hovertemplate\":\"channel=%{x}\\u003cbr\\u003econversion_rate=%{y}\\u003cextra\\u003e\\u003c\\u002fextra\\u003e\",\"legendgroup\":\"social media\",\"marker\":{\"color\":\"#ab63fa\",\"pattern\":{\"shape\":\"\"}},\"name\":\"social media\",\"offsetgroup\":\"social media\",\"orientation\":\"v\",\"showlegend\":true,\"textposition\":\"auto\",\"x\":[\"social media\",\"social media\",\"social media\",\"social media\",\"social media\",\"social media\",\"social media\",\"social media\",\"social media\",\"social media\",\"social media\",\"social media\",\"social media\",\"social media\",\"social media\",\"social media\",\"social media\",\"social media\",\"social media\",\"social media\",\"social media\",\"social media\",\"social media\",\"social media\",\"social media\",\"social media\",\"social media\",\"social media\",\"social media\",\"social media\",\"social media\",\"social media\",\"social media\",\"social media\",\"social media\",\"social media\",\"social media\",\"social media\",\"social media\",\"social media\",\"social media\",\"social media\",\"social media\",\"social media\",\"social media\",\"social media\",\"social media\",\"social media\",\"social media\",\"social media\",\"social media\",\"social media\",\"social media\",\"social media\",\"social media\",\"social media\",\"social media\",\"social media\",\"social media\",\"social media\",\"social media\",\"social media\",\"social media\",\"social media\",\"social media\",\"social media\",\"social media\",\"social media\",\"social media\",\"social media\",\"social media\",\"social media\",\"social media\",\"social media\",\"social media\",\"social media\",\"social media\",\"social media\",\"social media\",\"social media\",\"social media\",\"social media\",\"social media\",\"social media\",\"social media\",\"social media\",\"social media\",\"social media\",\"social media\",\"social media\",\"social media\",\"social media\",\"social media\",\"social media\",\"social media\",\"social media\",\"social media\",\"social media\",\"social media\",\"social media\",\"social media\",\"social media\",\"social media\",\"social media\",\"social media\",\"social media\",\"social media\",\"social media\",\"social media\",\"social media\",\"social media\",\"social media\",\"social media\",\"social media\",\"social media\",\"social media\",\"social media\",\"social media\",\"social media\",\"social media\",\"social media\",\"social media\",\"social media\",\"social media\",\"social media\",\"social media\",\"social media\",\"social media\",\"social media\",\"social media\",\"social media\",\"social media\",\"social media\",\"social media\",\"social media\",\"social media\",\"social media\",\"social media\",\"social media\",\"social media\",\"social media\",\"social media\",\"social media\",\"social media\",\"social media\",\"social media\",\"social media\",\"social media\",\"social media\",\"social media\",\"social media\",\"social media\",\"social media\",\"social media\",\"social media\",\"social media\",\"social media\",\"social media\",\"social media\",\"social media\",\"social media\",\"social media\",\"social media\",\"social media\",\"social media\",\"social media\",\"social media\",\"social media\",\"social media\",\"social media\",\"social media\",\"social media\",\"social media\",\"social media\",\"social media\",\"social media\",\"social media\",\"social media\",\"social media\",\"social media\",\"social media\",\"social media\",\"social media\",\"social media\",\"social media\"],\"xaxis\":\"x\",\"y\":[0.1675922473559195,0.1675922473559195,0.1675922473559195,0.1675922473559195,0.1675922473559195,0.1675922473559195,0.1675922473559195,0.1675922473559195,0.1675922473559195,0.1675922473559195,0.1675922473559195,0.1675922473559195,0.1675922473559195,0.1675922473559195,0.1675922473559195,0.1675922473559195,0.1675922473559195,0.1675922473559195,0.1675922473559195,0.1675922473559195,0.1675922473559195,0.1675922473559195,0.1675922473559195,0.1675922473559195,0.1675922473559195,0.1675922473559195,0.1675922473559195,0.1675922473559195,0.1675922473559195,0.1675922473559195,0.1675922473559195,0.1675922473559195,0.1675922473559195,0.1675922473559195,0.1675922473559195,0.1675922473559195,0.1675922473559195,0.1675922473559195,0.1675922473559195,0.1675922473559195,0.1675922473559195,0.1675922473559195,0.1675922473559195,0.1675922473559195,0.1675922473559195,0.1675922473559195,0.1675922473559195,0.1675922473559195,0.1675922473559195,0.1675922473559195,0.1675922473559195,0.1675922473559195,0.1675922473559195,0.1675922473559195,0.1675922473559195,0.1675922473559195,0.1675922473559195,0.1675922473559195,0.1675922473559195,0.1675922473559195,0.1675922473559195,0.1675922473559195,0.1675922473559195,0.1675922473559195,0.1675922473559195,0.1675922473559195,0.1675922473559195,0.1675922473559195,0.1675922473559195,0.1675922473559195,0.1675922473559195,0.1675922473559195,0.1675922473559195,0.1675922473559195,0.1675922473559195,0.1675922473559195,0.1675922473559195,0.1675922473559195,0.1675922473559195,0.1675922473559195,0.1675922473559195,0.1675922473559195,0.1675922473559195,0.1675922473559195,0.1675922473559195,0.1675922473559195,0.1675922473559195,0.1675922473559195,0.1675922473559195,0.1675922473559195,0.1675922473559195,0.1675922473559195,0.1675922473559195,0.1675922473559195,0.1675922473559195,0.1675922473559195,0.1675922473559195,0.1675922473559195,0.1675922473559195,0.1675922473559195,0.1675922473559195,0.1675922473559195,0.1675922473559195,0.1675922473559195,0.1675922473559195,0.1675922473559195,0.1675922473559195,0.1675922473559195,0.1675922473559195,0.1675922473559195,0.1675922473559195,0.1675922473559195,0.1675922473559195,0.1675922473559195,0.1675922473559195,0.1675922473559195,0.1675922473559195,0.1675922473559195,0.1675922473559195,0.1675922473559195,0.1675922473559195,0.1675922473559195,0.1675922473559195,0.1675922473559195,0.1675922473559195,0.1675922473559195,0.1675922473559195,0.1675922473559195,0.1675922473559195,0.1675922473559195,0.1675922473559195,0.1675922473559195,0.1675922473559195,0.1675922473559195,0.1675922473559195,0.1675922473559195,0.1675922473559195,0.1675922473559195,0.1675922473559195,0.1675922473559195,0.1675922473559195,0.1675922473559195,0.1675922473559195,0.1675922473559195,0.1675922473559195,0.1675922473559195,0.1675922473559195,0.1675922473559195,0.1675922473559195,0.1675922473559195,0.1675922473559195,0.1675922473559195,0.1675922473559195,0.1675922473559195,0.1675922473559195,0.1675922473559195,0.1675922473559195,0.1675922473559195,0.1675922473559195,0.1675922473559195,0.1675922473559195,0.1675922473559195,0.1675922473559195,0.1675922473559195,0.1675922473559195,0.1675922473559195,0.1675922473559195,0.1675922473559195,0.1675922473559195,0.1675922473559195,0.1675922473559195,0.1675922473559195,0.1675922473559195,0.1675922473559195,0.1675922473559195,0.1675922473559195,0.1675922473559195,0.1675922473559195,0.1675922473559195,0.1675922473559195,0.1675922473559195,0.1675922473559195,0.1675922473559195,0.1675922473559195,0.1675922473559195],\"yaxis\":\"y\",\"type\":\"bar\"}],                        {\"template\":{\"data\":{\"histogram2dcontour\":[{\"type\":\"histogram2dcontour\",\"colorbar\":{\"outlinewidth\":0,\"ticks\":\"\"},\"colorscale\":[[0.0,\"#0d0887\"],[0.1111111111111111,\"#46039f\"],[0.2222222222222222,\"#7201a8\"],[0.3333333333333333,\"#9c179e\"],[0.4444444444444444,\"#bd3786\"],[0.5555555555555556,\"#d8576b\"],[0.6666666666666666,\"#ed7953\"],[0.7777777777777778,\"#fb9f3a\"],[0.8888888888888888,\"#fdca26\"],[1.0,\"#f0f921\"]]}],\"choropleth\":[{\"type\":\"choropleth\",\"colorbar\":{\"outlinewidth\":0,\"ticks\":\"\"}}],\"histogram2d\":[{\"type\":\"histogram2d\",\"colorbar\":{\"outlinewidth\":0,\"ticks\":\"\"},\"colorscale\":[[0.0,\"#0d0887\"],[0.1111111111111111,\"#46039f\"],[0.2222222222222222,\"#7201a8\"],[0.3333333333333333,\"#9c179e\"],[0.4444444444444444,\"#bd3786\"],[0.5555555555555556,\"#d8576b\"],[0.6666666666666666,\"#ed7953\"],[0.7777777777777778,\"#fb9f3a\"],[0.8888888888888888,\"#fdca26\"],[1.0,\"#f0f921\"]]}],\"heatmap\":[{\"type\":\"heatmap\",\"colorbar\":{\"outlinewidth\":0,\"ticks\":\"\"},\"colorscale\":[[0.0,\"#0d0887\"],[0.1111111111111111,\"#46039f\"],[0.2222222222222222,\"#7201a8\"],[0.3333333333333333,\"#9c179e\"],[0.4444444444444444,\"#bd3786\"],[0.5555555555555556,\"#d8576b\"],[0.6666666666666666,\"#ed7953\"],[0.7777777777777778,\"#fb9f3a\"],[0.8888888888888888,\"#fdca26\"],[1.0,\"#f0f921\"]]}],\"heatmapgl\":[{\"type\":\"heatmapgl\",\"colorbar\":{\"outlinewidth\":0,\"ticks\":\"\"},\"colorscale\":[[0.0,\"#0d0887\"],[0.1111111111111111,\"#46039f\"],[0.2222222222222222,\"#7201a8\"],[0.3333333333333333,\"#9c179e\"],[0.4444444444444444,\"#bd3786\"],[0.5555555555555556,\"#d8576b\"],[0.6666666666666666,\"#ed7953\"],[0.7777777777777778,\"#fb9f3a\"],[0.8888888888888888,\"#fdca26\"],[1.0,\"#f0f921\"]]}],\"contourcarpet\":[{\"type\":\"contourcarpet\",\"colorbar\":{\"outlinewidth\":0,\"ticks\":\"\"}}],\"contour\":[{\"type\":\"contour\",\"colorbar\":{\"outlinewidth\":0,\"ticks\":\"\"},\"colorscale\":[[0.0,\"#0d0887\"],[0.1111111111111111,\"#46039f\"],[0.2222222222222222,\"#7201a8\"],[0.3333333333333333,\"#9c179e\"],[0.4444444444444444,\"#bd3786\"],[0.5555555555555556,\"#d8576b\"],[0.6666666666666666,\"#ed7953\"],[0.7777777777777778,\"#fb9f3a\"],[0.8888888888888888,\"#fdca26\"],[1.0,\"#f0f921\"]]}],\"surface\":[{\"type\":\"surface\",\"colorbar\":{\"outlinewidth\":0,\"ticks\":\"\"},\"colorscale\":[[0.0,\"#0d0887\"],[0.1111111111111111,\"#46039f\"],[0.2222222222222222,\"#7201a8\"],[0.3333333333333333,\"#9c179e\"],[0.4444444444444444,\"#bd3786\"],[0.5555555555555556,\"#d8576b\"],[0.6666666666666666,\"#ed7953\"],[0.7777777777777778,\"#fb9f3a\"],[0.8888888888888888,\"#fdca26\"],[1.0,\"#f0f921\"]]}],\"mesh3d\":[{\"type\":\"mesh3d\",\"colorbar\":{\"outlinewidth\":0,\"ticks\":\"\"}}],\"scatter\":[{\"fillpattern\":{\"fillmode\":\"overlay\",\"size\":10,\"solidity\":0.2},\"type\":\"scatter\"}],\"parcoords\":[{\"type\":\"parcoords\",\"line\":{\"colorbar\":{\"outlinewidth\":0,\"ticks\":\"\"}}}],\"scatterpolargl\":[{\"type\":\"scatterpolargl\",\"marker\":{\"colorbar\":{\"outlinewidth\":0,\"ticks\":\"\"}}}],\"bar\":[{\"error_x\":{\"color\":\"#2a3f5f\"},\"error_y\":{\"color\":\"#2a3f5f\"},\"marker\":{\"line\":{\"color\":\"white\",\"width\":0.5},\"pattern\":{\"fillmode\":\"overlay\",\"size\":10,\"solidity\":0.2}},\"type\":\"bar\"}],\"scattergeo\":[{\"type\":\"scattergeo\",\"marker\":{\"colorbar\":{\"outlinewidth\":0,\"ticks\":\"\"}}}],\"scatterpolar\":[{\"type\":\"scatterpolar\",\"marker\":{\"colorbar\":{\"outlinewidth\":0,\"ticks\":\"\"}}}],\"histogram\":[{\"marker\":{\"pattern\":{\"fillmode\":\"overlay\",\"size\":10,\"solidity\":0.2}},\"type\":\"histogram\"}],\"scattergl\":[{\"type\":\"scattergl\",\"marker\":{\"colorbar\":{\"outlinewidth\":0,\"ticks\":\"\"}}}],\"scatter3d\":[{\"type\":\"scatter3d\",\"line\":{\"colorbar\":{\"outlinewidth\":0,\"ticks\":\"\"}},\"marker\":{\"colorbar\":{\"outlinewidth\":0,\"ticks\":\"\"}}}],\"scattermapbox\":[{\"type\":\"scattermapbox\",\"marker\":{\"colorbar\":{\"outlinewidth\":0,\"ticks\":\"\"}}}],\"scatterternary\":[{\"type\":\"scatterternary\",\"marker\":{\"colorbar\":{\"outlinewidth\":0,\"ticks\":\"\"}}}],\"scattercarpet\":[{\"type\":\"scattercarpet\",\"marker\":{\"colorbar\":{\"outlinewidth\":0,\"ticks\":\"\"}}}],\"carpet\":[{\"aaxis\":{\"endlinecolor\":\"#2a3f5f\",\"gridcolor\":\"#C8D4E3\",\"linecolor\":\"#C8D4E3\",\"minorgridcolor\":\"#C8D4E3\",\"startlinecolor\":\"#2a3f5f\"},\"baxis\":{\"endlinecolor\":\"#2a3f5f\",\"gridcolor\":\"#C8D4E3\",\"linecolor\":\"#C8D4E3\",\"minorgridcolor\":\"#C8D4E3\",\"startlinecolor\":\"#2a3f5f\"},\"type\":\"carpet\"}],\"table\":[{\"cells\":{\"fill\":{\"color\":\"#EBF0F8\"},\"line\":{\"color\":\"white\"}},\"header\":{\"fill\":{\"color\":\"#C8D4E3\"},\"line\":{\"color\":\"white\"}},\"type\":\"table\"}],\"barpolar\":[{\"marker\":{\"line\":{\"color\":\"white\",\"width\":0.5},\"pattern\":{\"fillmode\":\"overlay\",\"size\":10,\"solidity\":0.2}},\"type\":\"barpolar\"}],\"pie\":[{\"automargin\":true,\"type\":\"pie\"}]},\"layout\":{\"autotypenumbers\":\"strict\",\"colorway\":[\"#636efa\",\"#EF553B\",\"#00cc96\",\"#ab63fa\",\"#FFA15A\",\"#19d3f3\",\"#FF6692\",\"#B6E880\",\"#FF97FF\",\"#FECB52\"],\"font\":{\"color\":\"#2a3f5f\"},\"hovermode\":\"closest\",\"hoverlabel\":{\"align\":\"left\"},\"paper_bgcolor\":\"white\",\"plot_bgcolor\":\"white\",\"polar\":{\"bgcolor\":\"white\",\"angularaxis\":{\"gridcolor\":\"#EBF0F8\",\"linecolor\":\"#EBF0F8\",\"ticks\":\"\"},\"radialaxis\":{\"gridcolor\":\"#EBF0F8\",\"linecolor\":\"#EBF0F8\",\"ticks\":\"\"}},\"ternary\":{\"bgcolor\":\"white\",\"aaxis\":{\"gridcolor\":\"#DFE8F3\",\"linecolor\":\"#A2B1C6\",\"ticks\":\"\"},\"baxis\":{\"gridcolor\":\"#DFE8F3\",\"linecolor\":\"#A2B1C6\",\"ticks\":\"\"},\"caxis\":{\"gridcolor\":\"#DFE8F3\",\"linecolor\":\"#A2B1C6\",\"ticks\":\"\"}},\"coloraxis\":{\"colorbar\":{\"outlinewidth\":0,\"ticks\":\"\"}},\"colorscale\":{\"sequential\":[[0.0,\"#0d0887\"],[0.1111111111111111,\"#46039f\"],[0.2222222222222222,\"#7201a8\"],[0.3333333333333333,\"#9c179e\"],[0.4444444444444444,\"#bd3786\"],[0.5555555555555556,\"#d8576b\"],[0.6666666666666666,\"#ed7953\"],[0.7777777777777778,\"#fb9f3a\"],[0.8888888888888888,\"#fdca26\"],[1.0,\"#f0f921\"]],\"sequentialminus\":[[0.0,\"#0d0887\"],[0.1111111111111111,\"#46039f\"],[0.2222222222222222,\"#7201a8\"],[0.3333333333333333,\"#9c179e\"],[0.4444444444444444,\"#bd3786\"],[0.5555555555555556,\"#d8576b\"],[0.6666666666666666,\"#ed7953\"],[0.7777777777777778,\"#fb9f3a\"],[0.8888888888888888,\"#fdca26\"],[1.0,\"#f0f921\"]],\"diverging\":[[0,\"#8e0152\"],[0.1,\"#c51b7d\"],[0.2,\"#de77ae\"],[0.3,\"#f1b6da\"],[0.4,\"#fde0ef\"],[0.5,\"#f7f7f7\"],[0.6,\"#e6f5d0\"],[0.7,\"#b8e186\"],[0.8,\"#7fbc41\"],[0.9,\"#4d9221\"],[1,\"#276419\"]]},\"xaxis\":{\"gridcolor\":\"#EBF0F8\",\"linecolor\":\"#EBF0F8\",\"ticks\":\"\",\"title\":{\"standoff\":15},\"zerolinecolor\":\"#EBF0F8\",\"automargin\":true,\"zerolinewidth\":2},\"yaxis\":{\"gridcolor\":\"#EBF0F8\",\"linecolor\":\"#EBF0F8\",\"ticks\":\"\",\"title\":{\"standoff\":15},\"zerolinecolor\":\"#EBF0F8\",\"automargin\":true,\"zerolinewidth\":2},\"scene\":{\"xaxis\":{\"backgroundcolor\":\"white\",\"gridcolor\":\"#DFE8F3\",\"linecolor\":\"#EBF0F8\",\"showbackground\":true,\"ticks\":\"\",\"zerolinecolor\":\"#EBF0F8\",\"gridwidth\":2},\"yaxis\":{\"backgroundcolor\":\"white\",\"gridcolor\":\"#DFE8F3\",\"linecolor\":\"#EBF0F8\",\"showbackground\":true,\"ticks\":\"\",\"zerolinecolor\":\"#EBF0F8\",\"gridwidth\":2},\"zaxis\":{\"backgroundcolor\":\"white\",\"gridcolor\":\"#DFE8F3\",\"linecolor\":\"#EBF0F8\",\"showbackground\":true,\"ticks\":\"\",\"zerolinecolor\":\"#EBF0F8\",\"gridwidth\":2}},\"shapedefaults\":{\"line\":{\"color\":\"#2a3f5f\"}},\"annotationdefaults\":{\"arrowcolor\":\"#2a3f5f\",\"arrowhead\":0,\"arrowwidth\":1},\"geo\":{\"bgcolor\":\"white\",\"landcolor\":\"white\",\"subunitcolor\":\"#C8D4E3\",\"showland\":true,\"showlakes\":true,\"lakecolor\":\"white\"},\"title\":{\"x\":0.05},\"mapbox\":{\"style\":\"light\"}}},\"xaxis\":{\"anchor\":\"y\",\"domain\":[0.0,1.0],\"title\":{\"text\":\"Channel\"},\"categoryorder\":\"array\",\"categoryarray\":[\"referral\",\"paid advertising\",\"email marketing\",\"social media\"]},\"yaxis\":{\"anchor\":\"x\",\"domain\":[0.0,1.0],\"title\":{\"text\":\"Conversion Rate\"}},\"legend\":{\"title\":{\"text\":\"channel\"},\"tracegroupgap\":0},\"title\":{\"text\":\"Conversion Rate by Channel\"},\"barmode\":\"relative\"},                        {\"responsive\": true}                    ).then(function(){\n",
       "                            \n",
       "var gd = document.getElementById('28709516-d94f-493b-b997-4430863ba041');\n",
       "var x = new MutationObserver(function (mutations, observer) {{\n",
       "        var display = window.getComputedStyle(gd).display;\n",
       "        if (!display || display === 'none') {{\n",
       "            console.log([gd, 'removed!']);\n",
       "            Plotly.purge(gd);\n",
       "            observer.disconnect();\n",
       "        }}\n",
       "}});\n",
       "\n",
       "// Listen for the removal of the full notebook cells\n",
       "var notebookContainer = gd.closest('#notebook-container');\n",
       "if (notebookContainer) {{\n",
       "    x.observe(notebookContainer, {childList: true});\n",
       "}}\n",
       "\n",
       "// Listen for the clearing of the current output cell\n",
       "var outputEl = gd.closest('.output');\n",
       "if (outputEl) {{\n",
       "    x.observe(outputEl, {childList: true});\n",
       "}}\n",
       "\n",
       "                        })                };                });            </script>        </div>"
      ]
     },
     "metadata": {},
     "output_type": "display_data"
    }
   ],
   "source": [
    "fig = px.bar(data, x='channel', y='conversion_rate', color='channel', title='Conversion Rate by Channel')\n",
    "fig.update_layout(xaxis_title='Channel',yaxis_title='Conversion Rate')\n",
    "fig.show()"
   ]
  },
  {
   "cell_type": "markdown",
   "id": "b7fbdb4f-8ed3-4f76-af29-10ac1849d226",
   "metadata": {},
   "source": [
    "The most effective channel in converting the customer is social media followed by referral,email marketing and paid advertising respectively."
   ]
  },
  {
   "cell_type": "markdown",
   "id": "6e8af291-361d-4449-95a8-0e54090c0791",
   "metadata": {},
   "source": [
    "Return on Investment(ROI) by Channel"
   ]
  },
  {
   "cell_type": "code",
   "execution_count": 48,
   "id": "f6a3de66-b17a-44ab-92e7-6ef55edaa76b",
   "metadata": {},
   "outputs": [
    {
     "data": {
      "text/plain": [
       "0      503.667681\n",
       "1      110.985660\n",
       "2      602.095925\n",
       "3      158.223564\n",
       "4      289.733775\n",
       "          ...    \n",
       "795    293.668347\n",
       "796    654.514186\n",
       "797    219.084677\n",
       "798     25.699220\n",
       "799    917.749165\n",
       "Length: 800, dtype: float64"
      ]
     },
     "execution_count": 48,
     "metadata": {},
     "output_type": "execute_result"
    }
   ],
   "source": [
    "roi = (data['revenue']-data['cost'])/data['cost']\n",
    "roi"
   ]
  },
  {
   "cell_type": "code",
   "execution_count": 60,
   "id": "1adb3cce-dc8f-4dbd-a28b-9592812fd28e",
   "metadata": {},
   "outputs": [
    {
     "name": "stderr",
     "output_type": "stream",
     "text": [
      "C:\\Users\\Nayana Sooraj\\AppData\\Local\\Programs\\Python\\Python312\\Lib\\site-packages\\plotly\\express\\_core.py:2065: FutureWarning:\n",
      "\n",
      "When grouping with a length-1 list-like, you will need to pass a length-1 tuple to get_group in a future version of pandas. Pass `(name,)` instead of `name` to silence this warning.\n",
      "\n"
     ]
    },
    {
     "data": {
      "application/vnd.plotly.v1+json": {
       "config": {
        "plotlyServerURL": "https://plot.ly"
       },
       "data": [
        {
         "alignmentgroup": "True",
         "hovertemplate": "channel=%{x}<br>roi=%{y}<extra></extra>",
         "legendgroup": "referral",
         "marker": {
          "color": "#636efa",
          "pattern": {
           "shape": ""
          }
         },
         "name": "referral",
         "offsetgroup": "referral",
         "orientation": "v",
         "showlegend": true,
         "textposition": "auto",
         "type": "bar",
         "x": [
          "referral",
          "referral",
          "referral",
          "referral",
          "referral",
          "referral",
          "referral",
          "referral",
          "referral",
          "referral",
          "referral",
          "referral",
          "referral",
          "referral",
          "referral",
          "referral",
          "referral",
          "referral",
          "referral",
          "referral",
          "referral",
          "referral",
          "referral",
          "referral",
          "referral",
          "referral",
          "referral",
          "referral",
          "referral",
          "referral",
          "referral",
          "referral",
          "referral",
          "referral",
          "referral",
          "referral",
          "referral",
          "referral",
          "referral",
          "referral",
          "referral",
          "referral",
          "referral",
          "referral",
          "referral",
          "referral",
          "referral",
          "referral",
          "referral",
          "referral",
          "referral",
          "referral",
          "referral",
          "referral",
          "referral",
          "referral",
          "referral",
          "referral",
          "referral",
          "referral",
          "referral",
          "referral",
          "referral",
          "referral",
          "referral",
          "referral",
          "referral",
          "referral",
          "referral",
          "referral",
          "referral",
          "referral",
          "referral",
          "referral",
          "referral",
          "referral",
          "referral",
          "referral",
          "referral",
          "referral",
          "referral",
          "referral",
          "referral",
          "referral",
          "referral",
          "referral",
          "referral",
          "referral",
          "referral",
          "referral",
          "referral",
          "referral",
          "referral",
          "referral",
          "referral",
          "referral",
          "referral",
          "referral",
          "referral",
          "referral",
          "referral",
          "referral",
          "referral",
          "referral",
          "referral",
          "referral",
          "referral",
          "referral",
          "referral",
          "referral",
          "referral",
          "referral",
          "referral",
          "referral",
          "referral",
          "referral",
          "referral",
          "referral",
          "referral",
          "referral",
          "referral",
          "referral",
          "referral",
          "referral",
          "referral",
          "referral",
          "referral",
          "referral",
          "referral",
          "referral",
          "referral",
          "referral",
          "referral",
          "referral",
          "referral",
          "referral",
          "referral",
          "referral",
          "referral",
          "referral",
          "referral",
          "referral",
          "referral",
          "referral",
          "referral",
          "referral",
          "referral",
          "referral",
          "referral",
          "referral",
          "referral",
          "referral",
          "referral",
          "referral",
          "referral",
          "referral",
          "referral",
          "referral",
          "referral",
          "referral",
          "referral",
          "referral",
          "referral",
          "referral",
          "referral",
          "referral",
          "referral",
          "referral",
          "referral",
          "referral",
          "referral",
          "referral",
          "referral",
          "referral",
          "referral",
          "referral",
          "referral",
          "referral",
          "referral",
          "referral",
          "referral",
          "referral",
          "referral",
          "referral",
          "referral",
          "referral",
          "referral",
          "referral",
          "referral",
          "referral",
          "referral",
          "referral",
          "referral",
          "referral",
          "referral",
          "referral",
          "referral",
          "referral",
          "referral",
          "referral",
          "referral",
          "referral",
          "referral",
          "referral",
          "referral",
          "referral",
          "referral"
         ],
         "xaxis": "x",
         "y": [
          503.6676813501479,
          289.733774990714,
          173.87294031066094,
          136.8551632552083,
          173.9931278985033,
          532.5127024323189,
          388.2875970214645,
          241.89911502944724,
          573.0159195352004,
          463.88558977432064,
          98.99607308485905,
          67.62711265799821,
          432.03587899609033,
          286.248334943285,
          103.32282624718468,
          284.5657087134917,
          162.57530705347733,
          422.6612471443848,
          414.0077408197335,
          436.7231949219431,
          66.06467401604729,
          474.10153474092283,
          436.7231949219431,
          373.3843361290095,
          229.63998106952462,
          404.75329655587035,
          170.7480630267591,
          553.6657178925775,
          570.6121677783528,
          234.56767217106216,
          411.60398906288594,
          353.43319654717465,
          282.2821445444865,
          523.6188209319828,
          373.98527406822143,
          466.04896635548346,
          560.7567855752778,
          465.2076532405868,
          205.6024635010489,
          265.33569465871113,
          219.90478645429195,
          223.14985132603618,
          152.23917449903277,
          125.67771758586709,
          71.83367823248147,
          73.51630446227477,
          204.64096279830986,
          367.01439397336344,
          396.34016540690385,
          133.73028597130647,
          584.5539279680688,
          367.8557070882601,
          500.4226164784037,
          357.15901177028843,
          264.975131895184,
          392.0134122445782,
          499.22074059997993,
          591.8853708264538,
          411.003051123674,
          599.2168136848389,
          505.2301199920989,
          555.7089068858979,
          115.10120985573778,
          326.99192722185137,
          590.6834949480301,
          253.31693587447324,
          398.7439171637514,
          256.081250394848,
          278.0755789700033,
          178.31988106082895,
          404.87348414371274,
          139.7396653634254,
          498.3794274850833,
          285.88777217975786,
          249.71130823920188,
          397.42185369748523,
          236.85123634006735,
          541.8873342840244,
          101.03926207817948,
          265.69625742223826,
          370.62002160863483,
          318.8191712485696,
          422.9016223200695,
          192.26164125054487,
          261.3695042599126,
          189.8578894936973,
          517.970004303391,
          59.09379392118933,
          345.26044057389294,
          152.84011243824466,
          99.71719861191332,
          182.16588387178507,
          148.99410962728854,
          268.82113470614007,
          358.96182558792407,
          433.2377548745141,
          477.82734996403656,
          594.0487474076167,
          142.5039798838001,
          471.21703263270575,
          590.6834949480301,
          173.39218995929141,
          456.4339593280932,
          306.31966211296225,
          138.77816466068637,
          290.3347129299259,
          321.7036733567867,
          462.5635263080545,
          155.60442695861937,
          456.7945220916203,
          317.49710778230343,
          397.42185369748523,
          476.6254740856128,
          439.7278846180025,
          594.4093101711438,
          338.40974806687734,
          520.3737560602385,
          436.3626321584159,
          68.46842577289486,
          310.16566492391837,
          446.3382019493334,
          245.624930252561,
          539.0028321758073,
          392.85472535947486,
          61.01679532666739,
          339.97218670882825,
          117.14439884905822,
          440.44901014505683,
          306.80041246433177,
          578.3041734002651,
          221.3470375084005,
          435.28094386783454,
          190.9395777842787,
          455.47245862535414,
          330.5975548571227,
          382.99934315639985,
          302.4736593020061,
          196.34801923718575,
          585.7558038464925,
          296.10371714636005,
          131.56690939014365,
          353.79375931070183,
          489.3653583969049,
          469.7747815785972,
          548.0169012639857,
          439.9682597936873,
          254.75918692858178,
          246.58643095530005,
          424.4640609620205,
          155.484239370777,
          552.2234668384689,
          220.98647474487336,
          306.43984970080464,
          420.61805815106436,
          459.43864902415265,
          478.4282879032485,
          328.9149286273294,
          241.0578019145506,
          477.5869747883518,
          455.3522710375118,
          420.7382457389067,
          136.01385014031166,
          227.23622931267707,
          120.14908854511769,
          137.33591360657783,
          156.80630283704318,
          422.6612471443848,
          185.1705735678445,
          454.7513330982999,
          127.72090657918753,
          238.41367498201828,
          144.90773164064768,
          140.34060330263728,
          148.51335927591904,
          519.6526305331843,
          319.4201091877815,
          489.96629633611684,
          227.71697966404656,
          499.46111577566467,
          300.1900951330009,
          119.66833819374817,
          322.1844237081562,
          342.37593846567586,
          449.8236419967624,
          174.95462860124235,
          329.5158665665413,
          282.8830824836984,
          125.55752999802472,
          477.3465996126671,
          218.34234781234105,
          508.23480968815835,
          165.82037192522156,
          203.7996496834132,
          422.06030920517287,
          444.6555757195401,
          132.52841009288267,
          573.2562947108852,
          115.5819602071073,
          423.38237267143904,
          431.79550382040554,
          530.5897010268408,
          355.95713589186465,
          190.9395777842787,
          142.02322953243058,
          387.92703425793735,
          434.07906798941076,
          218.70291057586817
         ],
         "yaxis": "y"
        },
        {
         "alignmentgroup": "True",
         "hovertemplate": "channel=%{x}<br>roi=%{y}<extra></extra>",
         "legendgroup": "paid advertising",
         "marker": {
          "color": "#EF553B",
          "pattern": {
           "shape": ""
          }
         },
         "name": "paid advertising",
         "offsetgroup": "paid advertising",
         "orientation": "v",
         "showlegend": true,
         "textposition": "auto",
         "type": "bar",
         "x": [
          "paid advertising",
          "paid advertising",
          "paid advertising",
          "paid advertising",
          "paid advertising",
          "paid advertising",
          "paid advertising",
          "paid advertising",
          "paid advertising",
          "paid advertising",
          "paid advertising",
          "paid advertising",
          "paid advertising",
          "paid advertising",
          "paid advertising",
          "paid advertising",
          "paid advertising",
          "paid advertising",
          "paid advertising",
          "paid advertising",
          "paid advertising",
          "paid advertising",
          "paid advertising",
          "paid advertising",
          "paid advertising",
          "paid advertising",
          "paid advertising",
          "paid advertising",
          "paid advertising",
          "paid advertising",
          "paid advertising",
          "paid advertising",
          "paid advertising",
          "paid advertising",
          "paid advertising",
          "paid advertising",
          "paid advertising",
          "paid advertising",
          "paid advertising",
          "paid advertising",
          "paid advertising",
          "paid advertising",
          "paid advertising",
          "paid advertising",
          "paid advertising",
          "paid advertising",
          "paid advertising",
          "paid advertising",
          "paid advertising",
          "paid advertising",
          "paid advertising",
          "paid advertising",
          "paid advertising",
          "paid advertising",
          "paid advertising",
          "paid advertising",
          "paid advertising",
          "paid advertising",
          "paid advertising",
          "paid advertising",
          "paid advertising",
          "paid advertising",
          "paid advertising",
          "paid advertising",
          "paid advertising",
          "paid advertising",
          "paid advertising",
          "paid advertising",
          "paid advertising",
          "paid advertising",
          "paid advertising",
          "paid advertising",
          "paid advertising",
          "paid advertising",
          "paid advertising",
          "paid advertising",
          "paid advertising",
          "paid advertising",
          "paid advertising",
          "paid advertising",
          "paid advertising",
          "paid advertising",
          "paid advertising",
          "paid advertising",
          "paid advertising",
          "paid advertising",
          "paid advertising",
          "paid advertising",
          "paid advertising",
          "paid advertising",
          "paid advertising",
          "paid advertising",
          "paid advertising",
          "paid advertising",
          "paid advertising",
          "paid advertising",
          "paid advertising",
          "paid advertising",
          "paid advertising",
          "paid advertising",
          "paid advertising",
          "paid advertising",
          "paid advertising",
          "paid advertising",
          "paid advertising",
          "paid advertising",
          "paid advertising",
          "paid advertising",
          "paid advertising",
          "paid advertising",
          "paid advertising",
          "paid advertising",
          "paid advertising",
          "paid advertising",
          "paid advertising",
          "paid advertising",
          "paid advertising",
          "paid advertising",
          "paid advertising",
          "paid advertising",
          "paid advertising",
          "paid advertising",
          "paid advertising",
          "paid advertising",
          "paid advertising",
          "paid advertising",
          "paid advertising",
          "paid advertising",
          "paid advertising",
          "paid advertising",
          "paid advertising",
          "paid advertising",
          "paid advertising",
          "paid advertising",
          "paid advertising",
          "paid advertising",
          "paid advertising",
          "paid advertising",
          "paid advertising",
          "paid advertising",
          "paid advertising",
          "paid advertising",
          "paid advertising",
          "paid advertising",
          "paid advertising",
          "paid advertising",
          "paid advertising",
          "paid advertising",
          "paid advertising",
          "paid advertising",
          "paid advertising",
          "paid advertising",
          "paid advertising",
          "paid advertising",
          "paid advertising",
          "paid advertising",
          "paid advertising",
          "paid advertising",
          "paid advertising",
          "paid advertising",
          "paid advertising",
          "paid advertising",
          "paid advertising",
          "paid advertising",
          "paid advertising",
          "paid advertising",
          "paid advertising",
          "paid advertising",
          "paid advertising",
          "paid advertising",
          "paid advertising",
          "paid advertising",
          "paid advertising",
          "paid advertising",
          "paid advertising",
          "paid advertising",
          "paid advertising",
          "paid advertising",
          "paid advertising",
          "paid advertising",
          "paid advertising",
          "paid advertising",
          "paid advertising",
          "paid advertising",
          "paid advertising",
          "paid advertising",
          "paid advertising",
          "paid advertising",
          "paid advertising",
          "paid advertising",
          "paid advertising",
          "paid advertising",
          "paid advertising",
          "paid advertising"
         ],
         "xaxis": "x",
         "y": [
          110.98566032111243,
          125.63246516076526,
          41.79100158311129,
          148.39084129053973,
          63.892570320973064,
          145.30384654855013,
          44.48391188995329,
          65.53458880075478,
          158.14443106044308,
          108.22706927507916,
          31.971731074016684,
          117.09396906590038,
          83.49827096956665,
          95.84624993752509,
          22.612225739260953,
          21.134409107457415,
          58.309707489715265,
          137.25795599761977,
          82.05329470735875,
          72.46390678543358,
          91.18291745494504,
          85.04176834056146,
          101.19923018161346,
          148.09527796417902,
          107.63594262235775,
          140.60767369637443,
          57.16029455386807,
          43.79426412844497,
          124.08896778977045,
          54.204661290260994,
          148.7520853560917,
          87.50479606023401,
          134.76208790835156,
          128.7523002723505,
          90.9530348677756,
          77.45564296396996,
          28.950417071218343,
          158.40715401720814,
          55.551116443682,
          76.40475113690968,
          116.56852315237023,
          126.61767624863428,
          154.40062892654078,
          40.64158864726409,
          125.17269998642638,
          161.46130838960212,
          40.01762162494705,
          19.42670988848444,
          41.49543825675058,
          84.87756649258328,
          19.36102914929317,
          87.40627495144712,
          98.73620246194089,
          43.56438154127553,
          44.221188933188216,
          159.4908862138641,
          116.99544795711348,
          43.69574301965807,
          66.58548062781507,
          38.99957016748239,
          47.176822196795285,
          41.79100158311129,
          88.85125121365502,
          122.28274746201058,
          102.08592016069558,
          145.763611722889,
          72.23402419826414,
          139.8851855652705,
          50.493699525954334,
          125.33690183440456,
          103.2681734661384,
          48.32623513264248,
          55.38691459570382,
          98.8347235707278,
          31.314923682104,
          148.71924498649608,
          28.7205344840489,
          103.10397161816023,
          129.54046914264572,
          123.13659707149706,
          112.4963173225116,
          58.24402675052399,
          103.95782122764672,
          127.17596253176006,
          72.62810863341176,
          126.25643218308231,
          95.84624993752509,
          124.5158925945137,
          128.62093879396798,
          54.63158609500424,
          82.11897544655002,
          155.94412629753558,
          32.36581550916429,
          145.4680483965283,
          16.536757364068635,
          129.37626729466754,
          163.13616723897945,
          32.10309255239922,
          105.79688192500224,
          144.94260248299815,
          31.80752922603851,
          69.67247536980467,
          112.102232887364,
          135.97718158339003,
          150.00001940072582,
          106.48652968651055,
          66.91388432377141,
          49.0158828941508,
          16.503916994473,
          123.89192557219666,
          15.748588493773413,
          85.96129868923921,
          63.892570320973064,
          85.3701720365178,
          53.48217315915704,
          72.69378937260302,
          87.04503088589514,
          117.94781867538687,
          147.14290724590563,
          68.35886058597931,
          30.395393333426245,
          47.40670478396473,
          38.60548573233478,
          118.63746643689518,
          69.015667977892,
          26.88147378669339,
          44.877996325100895,
          94.9924003280386,
          75.45238041863628,
          80.77252029312902,
          100.54242278970078,
          108.03002705750536,
          147.86539537700958,
          98.57200061396273,
          51.28186839624956,
          154.46630966573204,
          132.16769871029646,
          56.733369749124826,
          78.5393751606259,
          163.13616723897945,
          126.48631477025175,
          91.80688447726209,
          129.96739394738896,
          24.12288274066012,
          110.16465108122158,
          48.85168104617263,
          82.02045433776311,
          91.64268262928393,
          50.75642248271941,
          160.0820128665855,
          122.80819337554072,
          82.90714431684523,
          113.9412935847195,
          150.06570013991708,
          53.547853898348315,
          78.96629996536915,
          47.96499106709051,
          152.0032819460595,
          153.11985451231106,
          74.401488591576,
          133.15290979816547,
          40.148983103329584,
          151.67487825010315,
          160.24621471456365,
          111.83950993059892,
          127.14312216216443,
          21.200089846648684,
          135.97718158339003,
          90.19770636707602,
          84.61484353581821,
          152.10180305484639,
          29.640064832726658,
          125.82950737833906,
          92.56221297796168,
          98.70336209234526,
          71.18313237120385,
          21.462812803413758,
          139.85234519567487,
          75.61658226661446,
          129.01502322911557,
          141.98696921939109,
          77.2914411159918,
          148.42368166013537,
          31.906050334825416,
          111.83950993059892,
          25.53501863327239,
          43.26881821491482,
          147.86539537700958,
          64.91062177843773,
          98.40779876598455,
          159.9834917577986,
          137.4878385847892,
          161.46130838960212,
          25.69922048125056
         ],
         "yaxis": "y"
        },
        {
         "alignmentgroup": "True",
         "hovertemplate": "channel=%{x}<br>roi=%{y}<extra></extra>",
         "legendgroup": "email marketing",
         "marker": {
          "color": "#00cc96",
          "pattern": {
           "shape": ""
          }
         },
         "name": "email marketing",
         "offsetgroup": "email marketing",
         "orientation": "v",
         "showlegend": true,
         "textposition": "auto",
         "type": "bar",
         "x": [
          "email marketing",
          "email marketing",
          "email marketing",
          "email marketing",
          "email marketing",
          "email marketing",
          "email marketing",
          "email marketing",
          "email marketing",
          "email marketing",
          "email marketing",
          "email marketing",
          "email marketing",
          "email marketing",
          "email marketing",
          "email marketing",
          "email marketing",
          "email marketing",
          "email marketing",
          "email marketing",
          "email marketing",
          "email marketing",
          "email marketing",
          "email marketing",
          "email marketing",
          "email marketing",
          "email marketing",
          "email marketing",
          "email marketing",
          "email marketing",
          "email marketing",
          "email marketing",
          "email marketing",
          "email marketing",
          "email marketing",
          "email marketing",
          "email marketing",
          "email marketing",
          "email marketing",
          "email marketing",
          "email marketing",
          "email marketing",
          "email marketing",
          "email marketing",
          "email marketing",
          "email marketing",
          "email marketing",
          "email marketing",
          "email marketing",
          "email marketing",
          "email marketing",
          "email marketing",
          "email marketing",
          "email marketing",
          "email marketing",
          "email marketing",
          "email marketing",
          "email marketing",
          "email marketing",
          "email marketing",
          "email marketing",
          "email marketing",
          "email marketing",
          "email marketing",
          "email marketing",
          "email marketing",
          "email marketing",
          "email marketing",
          "email marketing",
          "email marketing",
          "email marketing",
          "email marketing",
          "email marketing",
          "email marketing",
          "email marketing",
          "email marketing",
          "email marketing",
          "email marketing",
          "email marketing",
          "email marketing",
          "email marketing",
          "email marketing",
          "email marketing",
          "email marketing",
          "email marketing",
          "email marketing",
          "email marketing",
          "email marketing",
          "email marketing",
          "email marketing",
          "email marketing",
          "email marketing",
          "email marketing",
          "email marketing",
          "email marketing",
          "email marketing",
          "email marketing",
          "email marketing",
          "email marketing",
          "email marketing",
          "email marketing",
          "email marketing",
          "email marketing",
          "email marketing",
          "email marketing",
          "email marketing",
          "email marketing",
          "email marketing",
          "email marketing",
          "email marketing",
          "email marketing",
          "email marketing",
          "email marketing",
          "email marketing",
          "email marketing",
          "email marketing",
          "email marketing",
          "email marketing",
          "email marketing",
          "email marketing",
          "email marketing",
          "email marketing",
          "email marketing",
          "email marketing",
          "email marketing",
          "email marketing",
          "email marketing",
          "email marketing",
          "email marketing",
          "email marketing",
          "email marketing",
          "email marketing",
          "email marketing",
          "email marketing",
          "email marketing",
          "email marketing",
          "email marketing",
          "email marketing",
          "email marketing",
          "email marketing",
          "email marketing",
          "email marketing",
          "email marketing",
          "email marketing",
          "email marketing",
          "email marketing",
          "email marketing",
          "email marketing",
          "email marketing",
          "email marketing",
          "email marketing",
          "email marketing",
          "email marketing",
          "email marketing",
          "email marketing",
          "email marketing",
          "email marketing",
          "email marketing",
          "email marketing",
          "email marketing",
          "email marketing",
          "email marketing",
          "email marketing",
          "email marketing",
          "email marketing",
          "email marketing",
          "email marketing",
          "email marketing",
          "email marketing",
          "email marketing",
          "email marketing",
          "email marketing",
          "email marketing",
          "email marketing",
          "email marketing",
          "email marketing",
          "email marketing",
          "email marketing",
          "email marketing",
          "email marketing",
          "email marketing",
          "email marketing",
          "email marketing",
          "email marketing",
          "email marketing",
          "email marketing",
          "email marketing",
          "email marketing",
          "email marketing",
          "email marketing",
          "email marketing",
          "email marketing",
          "email marketing",
          "email marketing",
          "email marketing",
          "email marketing",
          "email marketing",
          "email marketing",
          "email marketing",
          "email marketing",
          "email marketing",
          "email marketing",
          "email marketing",
          "email marketing",
          "email marketing",
          "email marketing",
          "email marketing",
          "email marketing",
          "email marketing",
          "email marketing",
          "email marketing",
          "email marketing",
          "email marketing",
          "email marketing"
         ],
         "xaxis": "x",
         "y": [
          602.0959249304101,
          132.42830197575444,
          571.4074154759866,
          677.9594451966248,
          762.2098873013153,
          748.4858333838092,
          358.30335603471013,
          891.2541164978664,
          826.6366959696082,
          659.6607066399498,
          372.9804692520431,
          523.9450623446111,
          660.804377799742,
          740.4801352652639,
          561.686210617753,
          329.90218889987096,
          873.1459898011569,
          521.4671081650613,
          134.52503243537342,
          624.2069006863921,
          819.0122215709937,
          356.2066255750911,
          558.0645852784111,
          941.9568712486531,
          864.1872323827848,
          489.6349275508456,
          635.2623885643833,
          632.9750462447989,
          321.8964907813257,
          655.0860220007811,
          661.1856015196727,
          138.14665777471532,
          202.3828545830428,
          518.0360946856847,
          241.45828587594232,
          377.9363776111426,
          499.16552054911375,
          290.25492202707534,
          472.8610838738936,
          142.91195427384943,
          670.3349707980102,
          476.6733210732009,
          193.99593274456683,
          900.0222620562731,
          563.782941077372,
          723.8969034482773,
          550.630722739762,
          173.98168744820367,
          629.7346446253878,
          699.8798090926415,
          697.9736904929879,
          552.9180650593463,
          231.54646915774342,
          598.6649114510335,
          900.2128739162386,
          605.1457146898558,
          477.4357685130623,
          418.536703783765,
          151.4894879722908,
          685.5839195952392,
          334.4768735390397,
          675.6721028770403,
          312.17528592309213,
          857.5158172839971,
          312.3658977830575,
          395.28205686799066,
          940.6225882288956,
          473.62353131375505,
          249.4639839944876,
          902.8814399557536,
          221.06281685964842,
          413.7714072846309,
          234.7868707771546,
          722.5626204285197,
          884.3920895391134,
          646.5084883023397,
          698.9267497928147,
          174.93474674803048,
          522.9920030447842,
          613.9138602482626,
          653.9423508409889,
          781.4616851578171,
          411.48406496504657,
          482.58228873212715,
          737.0491217858873,
          625.7317955661151,
          943.6723779883414,
          153.96744215184052,
          900.7847094961346,
          189.42124810539812,
          611.2452942087475,
          612.3889653685396,
          436.8354423404399,
          752.6792943030472,
          680.0561756562437,
          689.9679923744426,
          659.0888710600537,
          317.32180614215696,
          508.6961135473819,
          550.0588871598658,
          353.3474476756107,
          392.42287896851025,
          810.4346878725523,
          941.385035668757,
          385.56085200975707,
          655.4672457207118,
          253.4668330537602,
          273.0998546301926,
          176.4596416277534,
          212.48528316120706,
          459.3276418163528,
          271.95618347040045,
          163.49803515010868,
          778.793119118302,
          712.2695799903901,
          922.3238496722207,
          336.38299213869334,
          525.4699572243339,
          710.3634613907365,
          499.16552054911375,
          408.05305148567004,
          432.0701458413058,
          747.913997803913,
          464.0929383154869,
          496.30634264963334,
          566.0702833969564,
          587.9906472929731,
          674.3378198572827,
          602.2865367903754,
          842.8387040666641,
          876.3863914205681,
          551.7743938995541,
          855.9909224042742,
          915.0805989935369,
          578.460054294705,
          517.6548709657541,
          230.0215742780205,
          780.1274021380596,
          907.6467364548877,
          701.0234802524337,
          661.5668252396034,
          102.88346368112309,
          888.5855504583513,
          390.5167603688566,
          535.7629976624636,
          824.3493536500239,
          387.8481943293415,
          524.5168979245071,
          458.374582516526,
          435.6917711806477,
          240.69583843608086,
          102.88346368112309,
          240.5052265761155,
          816.3436555314786,
          265.47538023157813,
          141.76828311405725,
          352.5850002357492,
          235.54931821701604,
          880.3892404798407,
          589.3249303127307,
          194.7583801844283,
          646.127264582409,
          398.90368220733257,
          495.3532833498065,
          650.7019492215777,
          335.62054469883185,
          739.5270759654371,
          591.9934963522458,
          589.8967658926268,
          432.8325932811673,
          94.30592998268173,
          901.5471569359961,
          229.25912683815906,
          587.8000354330078,
          129.37851221630862,
          442.55379813940084,
          470.1925178343785,
          261.09130745237474,
          323.80260938097933,
          351.441329075957,
          773.2653751793065,
          640.0276850635174,
          636.2154478642101,
          255.18233979344848,
          828.1615908493311,
          551.3931701796233,
          696.0675718933343,
          766.5939600805187,
          417.39303262397283,
          96.78388416223146,
          311.2222266232653,
          669.763135218114,
          904.4063348354765,
          340.95767677786205,
          330.6646363397324,
          385.1796282898264,
          461.80559599590254,
          778.6025072583366,
          887.0606555786284,
          570.073132456229,
          884.773313259044,
          385.37024014979175,
          882.2953590794943,
          114.70139899897563,
          703.1202107120527,
          642.5056392430671,
          819.7746690108552,
          594.0902268118648,
          491.3504342905339,
          837.8827957075647,
          444.2693048790891,
          283.3928950683223,
          654.514186420885,
          917.7491650330519
         ],
         "yaxis": "y"
        },
        {
         "alignmentgroup": "True",
         "hovertemplate": "channel=%{x}<br>roi=%{y}<extra></extra>",
         "legendgroup": "social media",
         "marker": {
          "color": "#ab63fa",
          "pattern": {
           "shape": ""
          }
         },
         "name": "social media",
         "offsetgroup": "social media",
         "orientation": "v",
         "showlegend": true,
         "textposition": "auto",
         "type": "bar",
         "x": [
          "social media",
          "social media",
          "social media",
          "social media",
          "social media",
          "social media",
          "social media",
          "social media",
          "social media",
          "social media",
          "social media",
          "social media",
          "social media",
          "social media",
          "social media",
          "social media",
          "social media",
          "social media",
          "social media",
          "social media",
          "social media",
          "social media",
          "social media",
          "social media",
          "social media",
          "social media",
          "social media",
          "social media",
          "social media",
          "social media",
          "social media",
          "social media",
          "social media",
          "social media",
          "social media",
          "social media",
          "social media",
          "social media",
          "social media",
          "social media",
          "social media",
          "social media",
          "social media",
          "social media",
          "social media",
          "social media",
          "social media",
          "social media",
          "social media",
          "social media",
          "social media",
          "social media",
          "social media",
          "social media",
          "social media",
          "social media",
          "social media",
          "social media",
          "social media",
          "social media",
          "social media",
          "social media",
          "social media",
          "social media",
          "social media",
          "social media",
          "social media",
          "social media",
          "social media",
          "social media",
          "social media",
          "social media",
          "social media",
          "social media",
          "social media",
          "social media",
          "social media",
          "social media",
          "social media",
          "social media",
          "social media",
          "social media",
          "social media",
          "social media",
          "social media",
          "social media",
          "social media",
          "social media",
          "social media",
          "social media",
          "social media",
          "social media",
          "social media",
          "social media",
          "social media",
          "social media",
          "social media",
          "social media",
          "social media",
          "social media",
          "social media",
          "social media",
          "social media",
          "social media",
          "social media",
          "social media",
          "social media",
          "social media",
          "social media",
          "social media",
          "social media",
          "social media",
          "social media",
          "social media",
          "social media",
          "social media",
          "social media",
          "social media",
          "social media",
          "social media",
          "social media",
          "social media",
          "social media",
          "social media",
          "social media",
          "social media",
          "social media",
          "social media",
          "social media",
          "social media",
          "social media",
          "social media",
          "social media",
          "social media",
          "social media",
          "social media",
          "social media",
          "social media",
          "social media",
          "social media",
          "social media",
          "social media",
          "social media",
          "social media",
          "social media",
          "social media",
          "social media",
          "social media",
          "social media",
          "social media",
          "social media",
          "social media",
          "social media",
          "social media",
          "social media",
          "social media",
          "social media",
          "social media",
          "social media",
          "social media",
          "social media",
          "social media",
          "social media",
          "social media",
          "social media",
          "social media",
          "social media",
          "social media",
          "social media",
          "social media",
          "social media",
          "social media",
          "social media",
          "social media",
          "social media",
          "social media",
          "social media",
          "social media",
          "social media",
          "social media",
          "social media",
          "social media",
          "social media",
          "social media",
          "social media"
         ],
         "xaxis": "x",
         "y": [
          158.22356442860632,
          121.76974836205699,
          222.85576130521824,
          101.8668028084812,
          353.900944923762,
          214.16131666865618,
          209.5522134878281,
          194.57262815013684,
          151.8336713824583,
          202.95281575164245,
          400.82999549219335,
          331.2744383996969,
          412.4575057892824,
          116.1131217310407,
          109.19946695979858,
          163.98494340464143,
          81.9638572549054,
          431.73193727274526,
          163.2516769895097,
          505.2680834759568,
          188.81124917410176,
          82.80187601505597,
          362.3858848702864,
          154.76673704298526,
          311.8952545712152,
          87.51573154090286,
          201.06727354130368,
          121.97925305209462,
          156.0237651832111,
          462.0053649831842,
          146.80555882155494,
          453.6251773816786,
          328.86513446426403,
          188.4969921390453,
          320.17068982770195,
          449.5398359259446,
          185.14491709844305,
          422.51373091108906,
          414.4478003446399,
          485.78414730245635,
          241.18742168351173,
          138.94913294514345,
          280.574303410588,
          235.42604270747663,
          442.6261811547025,
          294.7158699881287,
          407.7436502634355,
          283.4026167260962,
          412.1432487542259,
          341.2259111764848,
          284.24063548624673,
          170.5843411408271,
          350.96787926323503,
          445.87350385028594,
          81.85910490988658,
          268.63253607844257,
          311.05723581106463,
          231.9692153218556,
          256.3765117112406,
          309.2764459457447,
          324.25603128343596,
          81.75435256486777,
          389.6214945751796,
          389.72624692019843,
          119.46519677164294,
          151.2051573123454,
          493.4310684888302,
          232.5977293919685,
          77.87851579917142,
          113.07530372549492,
          260.56660551199343,
          78.08802048920907,
          411.82899171916944,
          310.53347408597057,
          470.9093143097839,
          478.24197846110127,
          486.41266137256923,
          263.9186805525957,
          286.8594441117172,
          361.2336090750794,
          421.36145511588205,
          248.31058114479148,
          224.741303515557,
          310.42872174095174,
          342.37818697169183,
          113.18005607051374,
          270.62283063380016,
          431.31292789266996,
          134.4447821093342,
          112.65629434541964,
          131.72122113884487,
          202.1147969914919,
          179.0692810873515,
          228.4076355912157,
          56.50903741533216,
          85.83969402060174,
          97.57195666270958,
          109.61847633987387,
          115.37985531590897,
          203.05756809666127,
          98.40997542286014,
          337.24532206576964,
          62.68942577144254,
          88.98226437116635,
          200.43875947119076,
          191.22055310953462,
          209.76171817786573,
          230.6074348366109,
          208.81894707269637,
          422.6184832561079,
          446.60677026541765,
          163.56593402456613,
          430.37015678750055,
          496.1546294593195,
          146.91031116657376,
          331.4839430897345,
          515.5338132878012,
          90.23929251139218,
          112.02778027530672,
          394.8591118261206,
          393.70683603091356,
          453.83468207171626,
          480.65128239653416,
          515.63856563282,
          483.4795957120423,
          288.744986322056,
          125.43608043771567,
          362.59538956032407,
          508.7249108615779,
          187.13521165380064,
          491.1265168984161,
          358.6148004496089,
          246.42503893445272,
          227.25535979600866,
          266.642241523085,
          375.7941850326954,
          105.21887784908344,
          113.4943131055702,
          431.4176802376888,
          269.26105014855546,
          407.9531549534731,
          351.7011456783668,
          417.06660897011045,
          293.0398324678276,
          142.51071267578334,
          460.11982277284545,
          423.8755113963337,
          121.8745007070758,
          53.366467064767555,
          76.09772593385149,
          409.21018309369896,
          265.0709563478027,
          398.10643452170405,
          279.7362846504375,
          366.89023570609567,
          381.55556400873047,
          214.58032604873145,
          441.89291473957076,
          505.163331130938,
          72.53614620321162,
          193.315600009911,
          287.592710526849,
          58.18507493563328,
          431.1034232026323,
          459.4913087027325,
          337.66433144584494,
          70.33634695781639,
          371.2898341968861,
          235.42604270747663,
          446.0830085403236,
          461.9006126381654,
          445.6639991602483,
          228.72189262627217,
          467.03347754408753,
          95.68641445237083,
          213.11379321846798,
          308.3336748405753,
          436.65529748862974,
          398.9444532818546,
          315.0378249217798,
          318.38989996238206,
          151.30990965736422,
          471.3283236898592,
          293.6683465379405,
          219.08467688454073
         ],
         "yaxis": "y"
        }
       ],
       "layout": {
        "autosize": true,
        "barmode": "relative",
        "legend": {
         "title": {
          "text": "channel"
         },
         "tracegroupgap": 0
        },
        "template": {
         "data": {
          "bar": [
           {
            "error_x": {
             "color": "#2a3f5f"
            },
            "error_y": {
             "color": "#2a3f5f"
            },
            "marker": {
             "line": {
              "color": "white",
              "width": 0.5
             },
             "pattern": {
              "fillmode": "overlay",
              "size": 10,
              "solidity": 0.2
             }
            },
            "type": "bar"
           }
          ],
          "barpolar": [
           {
            "marker": {
             "line": {
              "color": "white",
              "width": 0.5
             },
             "pattern": {
              "fillmode": "overlay",
              "size": 10,
              "solidity": 0.2
             }
            },
            "type": "barpolar"
           }
          ],
          "carpet": [
           {
            "aaxis": {
             "endlinecolor": "#2a3f5f",
             "gridcolor": "#C8D4E3",
             "linecolor": "#C8D4E3",
             "minorgridcolor": "#C8D4E3",
             "startlinecolor": "#2a3f5f"
            },
            "baxis": {
             "endlinecolor": "#2a3f5f",
             "gridcolor": "#C8D4E3",
             "linecolor": "#C8D4E3",
             "minorgridcolor": "#C8D4E3",
             "startlinecolor": "#2a3f5f"
            },
            "type": "carpet"
           }
          ],
          "choropleth": [
           {
            "colorbar": {
             "outlinewidth": 0,
             "ticks": ""
            },
            "type": "choropleth"
           }
          ],
          "contour": [
           {
            "colorbar": {
             "outlinewidth": 0,
             "ticks": ""
            },
            "colorscale": [
             [
              0,
              "#0d0887"
             ],
             [
              0.1111111111111111,
              "#46039f"
             ],
             [
              0.2222222222222222,
              "#7201a8"
             ],
             [
              0.3333333333333333,
              "#9c179e"
             ],
             [
              0.4444444444444444,
              "#bd3786"
             ],
             [
              0.5555555555555556,
              "#d8576b"
             ],
             [
              0.6666666666666666,
              "#ed7953"
             ],
             [
              0.7777777777777778,
              "#fb9f3a"
             ],
             [
              0.8888888888888888,
              "#fdca26"
             ],
             [
              1,
              "#f0f921"
             ]
            ],
            "type": "contour"
           }
          ],
          "contourcarpet": [
           {
            "colorbar": {
             "outlinewidth": 0,
             "ticks": ""
            },
            "type": "contourcarpet"
           }
          ],
          "heatmap": [
           {
            "colorbar": {
             "outlinewidth": 0,
             "ticks": ""
            },
            "colorscale": [
             [
              0,
              "#0d0887"
             ],
             [
              0.1111111111111111,
              "#46039f"
             ],
             [
              0.2222222222222222,
              "#7201a8"
             ],
             [
              0.3333333333333333,
              "#9c179e"
             ],
             [
              0.4444444444444444,
              "#bd3786"
             ],
             [
              0.5555555555555556,
              "#d8576b"
             ],
             [
              0.6666666666666666,
              "#ed7953"
             ],
             [
              0.7777777777777778,
              "#fb9f3a"
             ],
             [
              0.8888888888888888,
              "#fdca26"
             ],
             [
              1,
              "#f0f921"
             ]
            ],
            "type": "heatmap"
           }
          ],
          "heatmapgl": [
           {
            "colorbar": {
             "outlinewidth": 0,
             "ticks": ""
            },
            "colorscale": [
             [
              0,
              "#0d0887"
             ],
             [
              0.1111111111111111,
              "#46039f"
             ],
             [
              0.2222222222222222,
              "#7201a8"
             ],
             [
              0.3333333333333333,
              "#9c179e"
             ],
             [
              0.4444444444444444,
              "#bd3786"
             ],
             [
              0.5555555555555556,
              "#d8576b"
             ],
             [
              0.6666666666666666,
              "#ed7953"
             ],
             [
              0.7777777777777778,
              "#fb9f3a"
             ],
             [
              0.8888888888888888,
              "#fdca26"
             ],
             [
              1,
              "#f0f921"
             ]
            ],
            "type": "heatmapgl"
           }
          ],
          "histogram": [
           {
            "marker": {
             "pattern": {
              "fillmode": "overlay",
              "size": 10,
              "solidity": 0.2
             }
            },
            "type": "histogram"
           }
          ],
          "histogram2d": [
           {
            "colorbar": {
             "outlinewidth": 0,
             "ticks": ""
            },
            "colorscale": [
             [
              0,
              "#0d0887"
             ],
             [
              0.1111111111111111,
              "#46039f"
             ],
             [
              0.2222222222222222,
              "#7201a8"
             ],
             [
              0.3333333333333333,
              "#9c179e"
             ],
             [
              0.4444444444444444,
              "#bd3786"
             ],
             [
              0.5555555555555556,
              "#d8576b"
             ],
             [
              0.6666666666666666,
              "#ed7953"
             ],
             [
              0.7777777777777778,
              "#fb9f3a"
             ],
             [
              0.8888888888888888,
              "#fdca26"
             ],
             [
              1,
              "#f0f921"
             ]
            ],
            "type": "histogram2d"
           }
          ],
          "histogram2dcontour": [
           {
            "colorbar": {
             "outlinewidth": 0,
             "ticks": ""
            },
            "colorscale": [
             [
              0,
              "#0d0887"
             ],
             [
              0.1111111111111111,
              "#46039f"
             ],
             [
              0.2222222222222222,
              "#7201a8"
             ],
             [
              0.3333333333333333,
              "#9c179e"
             ],
             [
              0.4444444444444444,
              "#bd3786"
             ],
             [
              0.5555555555555556,
              "#d8576b"
             ],
             [
              0.6666666666666666,
              "#ed7953"
             ],
             [
              0.7777777777777778,
              "#fb9f3a"
             ],
             [
              0.8888888888888888,
              "#fdca26"
             ],
             [
              1,
              "#f0f921"
             ]
            ],
            "type": "histogram2dcontour"
           }
          ],
          "mesh3d": [
           {
            "colorbar": {
             "outlinewidth": 0,
             "ticks": ""
            },
            "type": "mesh3d"
           }
          ],
          "parcoords": [
           {
            "line": {
             "colorbar": {
              "outlinewidth": 0,
              "ticks": ""
             }
            },
            "type": "parcoords"
           }
          ],
          "pie": [
           {
            "automargin": true,
            "type": "pie"
           }
          ],
          "scatter": [
           {
            "fillpattern": {
             "fillmode": "overlay",
             "size": 10,
             "solidity": 0.2
            },
            "type": "scatter"
           }
          ],
          "scatter3d": [
           {
            "line": {
             "colorbar": {
              "outlinewidth": 0,
              "ticks": ""
             }
            },
            "marker": {
             "colorbar": {
              "outlinewidth": 0,
              "ticks": ""
             }
            },
            "type": "scatter3d"
           }
          ],
          "scattercarpet": [
           {
            "marker": {
             "colorbar": {
              "outlinewidth": 0,
              "ticks": ""
             }
            },
            "type": "scattercarpet"
           }
          ],
          "scattergeo": [
           {
            "marker": {
             "colorbar": {
              "outlinewidth": 0,
              "ticks": ""
             }
            },
            "type": "scattergeo"
           }
          ],
          "scattergl": [
           {
            "marker": {
             "colorbar": {
              "outlinewidth": 0,
              "ticks": ""
             }
            },
            "type": "scattergl"
           }
          ],
          "scattermapbox": [
           {
            "marker": {
             "colorbar": {
              "outlinewidth": 0,
              "ticks": ""
             }
            },
            "type": "scattermapbox"
           }
          ],
          "scatterpolar": [
           {
            "marker": {
             "colorbar": {
              "outlinewidth": 0,
              "ticks": ""
             }
            },
            "type": "scatterpolar"
           }
          ],
          "scatterpolargl": [
           {
            "marker": {
             "colorbar": {
              "outlinewidth": 0,
              "ticks": ""
             }
            },
            "type": "scatterpolargl"
           }
          ],
          "scatterternary": [
           {
            "marker": {
             "colorbar": {
              "outlinewidth": 0,
              "ticks": ""
             }
            },
            "type": "scatterternary"
           }
          ],
          "surface": [
           {
            "colorbar": {
             "outlinewidth": 0,
             "ticks": ""
            },
            "colorscale": [
             [
              0,
              "#0d0887"
             ],
             [
              0.1111111111111111,
              "#46039f"
             ],
             [
              0.2222222222222222,
              "#7201a8"
             ],
             [
              0.3333333333333333,
              "#9c179e"
             ],
             [
              0.4444444444444444,
              "#bd3786"
             ],
             [
              0.5555555555555556,
              "#d8576b"
             ],
             [
              0.6666666666666666,
              "#ed7953"
             ],
             [
              0.7777777777777778,
              "#fb9f3a"
             ],
             [
              0.8888888888888888,
              "#fdca26"
             ],
             [
              1,
              "#f0f921"
             ]
            ],
            "type": "surface"
           }
          ],
          "table": [
           {
            "cells": {
             "fill": {
              "color": "#EBF0F8"
             },
             "line": {
              "color": "white"
             }
            },
            "header": {
             "fill": {
              "color": "#C8D4E3"
             },
             "line": {
              "color": "white"
             }
            },
            "type": "table"
           }
          ]
         },
         "layout": {
          "annotationdefaults": {
           "arrowcolor": "#2a3f5f",
           "arrowhead": 0,
           "arrowwidth": 1
          },
          "autotypenumbers": "strict",
          "coloraxis": {
           "colorbar": {
            "outlinewidth": 0,
            "ticks": ""
           }
          },
          "colorscale": {
           "diverging": [
            [
             0,
             "#8e0152"
            ],
            [
             0.1,
             "#c51b7d"
            ],
            [
             0.2,
             "#de77ae"
            ],
            [
             0.3,
             "#f1b6da"
            ],
            [
             0.4,
             "#fde0ef"
            ],
            [
             0.5,
             "#f7f7f7"
            ],
            [
             0.6,
             "#e6f5d0"
            ],
            [
             0.7,
             "#b8e186"
            ],
            [
             0.8,
             "#7fbc41"
            ],
            [
             0.9,
             "#4d9221"
            ],
            [
             1,
             "#276419"
            ]
           ],
           "sequential": [
            [
             0,
             "#0d0887"
            ],
            [
             0.1111111111111111,
             "#46039f"
            ],
            [
             0.2222222222222222,
             "#7201a8"
            ],
            [
             0.3333333333333333,
             "#9c179e"
            ],
            [
             0.4444444444444444,
             "#bd3786"
            ],
            [
             0.5555555555555556,
             "#d8576b"
            ],
            [
             0.6666666666666666,
             "#ed7953"
            ],
            [
             0.7777777777777778,
             "#fb9f3a"
            ],
            [
             0.8888888888888888,
             "#fdca26"
            ],
            [
             1,
             "#f0f921"
            ]
           ],
           "sequentialminus": [
            [
             0,
             "#0d0887"
            ],
            [
             0.1111111111111111,
             "#46039f"
            ],
            [
             0.2222222222222222,
             "#7201a8"
            ],
            [
             0.3333333333333333,
             "#9c179e"
            ],
            [
             0.4444444444444444,
             "#bd3786"
            ],
            [
             0.5555555555555556,
             "#d8576b"
            ],
            [
             0.6666666666666666,
             "#ed7953"
            ],
            [
             0.7777777777777778,
             "#fb9f3a"
            ],
            [
             0.8888888888888888,
             "#fdca26"
            ],
            [
             1,
             "#f0f921"
            ]
           ]
          },
          "colorway": [
           "#636efa",
           "#EF553B",
           "#00cc96",
           "#ab63fa",
           "#FFA15A",
           "#19d3f3",
           "#FF6692",
           "#B6E880",
           "#FF97FF",
           "#FECB52"
          ],
          "font": {
           "color": "#2a3f5f"
          },
          "geo": {
           "bgcolor": "white",
           "lakecolor": "white",
           "landcolor": "white",
           "showlakes": true,
           "showland": true,
           "subunitcolor": "#C8D4E3"
          },
          "hoverlabel": {
           "align": "left"
          },
          "hovermode": "closest",
          "mapbox": {
           "style": "light"
          },
          "paper_bgcolor": "white",
          "plot_bgcolor": "white",
          "polar": {
           "angularaxis": {
            "gridcolor": "#EBF0F8",
            "linecolor": "#EBF0F8",
            "ticks": ""
           },
           "bgcolor": "white",
           "radialaxis": {
            "gridcolor": "#EBF0F8",
            "linecolor": "#EBF0F8",
            "ticks": ""
           }
          },
          "scene": {
           "xaxis": {
            "backgroundcolor": "white",
            "gridcolor": "#DFE8F3",
            "gridwidth": 2,
            "linecolor": "#EBF0F8",
            "showbackground": true,
            "ticks": "",
            "zerolinecolor": "#EBF0F8"
           },
           "yaxis": {
            "backgroundcolor": "white",
            "gridcolor": "#DFE8F3",
            "gridwidth": 2,
            "linecolor": "#EBF0F8",
            "showbackground": true,
            "ticks": "",
            "zerolinecolor": "#EBF0F8"
           },
           "zaxis": {
            "backgroundcolor": "white",
            "gridcolor": "#DFE8F3",
            "gridwidth": 2,
            "linecolor": "#EBF0F8",
            "showbackground": true,
            "ticks": "",
            "zerolinecolor": "#EBF0F8"
           }
          },
          "shapedefaults": {
           "line": {
            "color": "#2a3f5f"
           }
          },
          "ternary": {
           "aaxis": {
            "gridcolor": "#DFE8F3",
            "linecolor": "#A2B1C6",
            "ticks": ""
           },
           "baxis": {
            "gridcolor": "#DFE8F3",
            "linecolor": "#A2B1C6",
            "ticks": ""
           },
           "bgcolor": "white",
           "caxis": {
            "gridcolor": "#DFE8F3",
            "linecolor": "#A2B1C6",
            "ticks": ""
           }
          },
          "title": {
           "x": 0.05
          },
          "xaxis": {
           "automargin": true,
           "gridcolor": "#EBF0F8",
           "linecolor": "#EBF0F8",
           "ticks": "",
           "title": {
            "standoff": 15
           },
           "zerolinecolor": "#EBF0F8",
           "zerolinewidth": 2
          },
          "yaxis": {
           "automargin": true,
           "gridcolor": "#EBF0F8",
           "linecolor": "#EBF0F8",
           "ticks": "",
           "title": {
            "standoff": 15
           },
           "zerolinecolor": "#EBF0F8",
           "zerolinewidth": 2
          }
         }
        },
        "title": {
         "text": "Return on Investment(ROI) by Channel"
        },
        "xaxis": {
         "anchor": "y",
         "autorange": true,
         "categoryarray": [
          "referral",
          "paid advertising",
          "email marketing",
          "social media"
         ],
         "categoryorder": "array",
         "domain": [
          0,
          1
         ],
         "range": [
          -0.5,
          3.5
         ],
         "title": {
          "text": "Channel"
         },
         "type": "category"
        },
        "yaxis": {
         "anchor": "x",
         "autorange": true,
         "domain": [
          0,
          1
         ],
         "range": [
          0,
          121105.40567601586
         ],
         "title": {
          "text": "ROI"
         },
         "type": "linear"
        }
       }
      },
      "image/png": "[encoded data removed]",
      "text/html": [
       "<div>                            <div id=\"71b42a67-cbb4-4f36-9d04-03dda1f8aad9\" class=\"plotly-graph-div\" style=\"height:525px; width:100%;\"></div>            <script type=\"text/javascript\">                require([\"plotly\"], function(Plotly) {                    window.PLOTLYENV=window.PLOTLYENV || {};                                    if (document.getElementById(\"71b42a67-cbb4-4f36-9d04-03dda1f8aad9\")) {                    Plotly.newPlot(                        \"71b42a67-cbb4-4f36-9d04-03dda1f8aad9\",                        [{\"alignmentgroup\":\"True\",\"hovertemplate\":\"channel=%{x}\\u003cbr\\u003eroi=%{y}\\u003cextra\\u003e\\u003c\\u002fextra\\u003e\",\"legendgroup\":\"referral\",\"marker\":{\"color\":\"#636efa\",\"pattern\":{\"shape\":\"\"}},\"name\":\"referral\",\"offsetgroup\":\"referral\",\"orientation\":\"v\",\"showlegend\":true,\"textposition\":\"auto\",\"x\":[\"referral\",\"referral\",\"referral\",\"referral\",\"referral\",\"referral\",\"referral\",\"referral\",\"referral\",\"referral\",\"referral\",\"referral\",\"referral\",\"referral\",\"referral\",\"referral\",\"referral\",\"referral\",\"referral\",\"referral\",\"referral\",\"referral\",\"referral\",\"referral\",\"referral\",\"referral\",\"referral\",\"referral\",\"referral\",\"referral\",\"referral\",\"referral\",\"referral\",\"referral\",\"referral\",\"referral\",\"referral\",\"referral\",\"referral\",\"referral\",\"referral\",\"referral\",\"referral\",\"referral\",\"referral\",\"referral\",\"referral\",\"referral\",\"referral\",\"referral\",\"referral\",\"referral\",\"referral\",\"referral\",\"referral\",\"referral\",\"referral\",\"referral\",\"referral\",\"referral\",\"referral\",\"referral\",\"referral\",\"referral\",\"referral\",\"referral\",\"referral\",\"referral\",\"referral\",\"referral\",\"referral\",\"referral\",\"referral\",\"referral\",\"referral\",\"referral\",\"referral\",\"referral\",\"referral\",\"referral\",\"referral\",\"referral\",\"referral\",\"referral\",\"referral\",\"referral\",\"referral\",\"referral\",\"referral\",\"referral\",\"referral\",\"referral\",\"referral\",\"referral\",\"referral\",\"referral\",\"referral\",\"referral\",\"referral\",\"referral\",\"referral\",\"referral\",\"referral\",\"referral\",\"referral\",\"referral\",\"referral\",\"referral\",\"referral\",\"referral\",\"referral\",\"referral\",\"referral\",\"referral\",\"referral\",\"referral\",\"referral\",\"referral\",\"referral\",\"referral\",\"referral\",\"referral\",\"referral\",\"referral\",\"referral\",\"referral\",\"referral\",\"referral\",\"referral\",\"referral\",\"referral\",\"referral\",\"referral\",\"referral\",\"referral\",\"referral\",\"referral\",\"referral\",\"referral\",\"referral\",\"referral\",\"referral\",\"referral\",\"referral\",\"referral\",\"referral\",\"referral\",\"referral\",\"referral\",\"referral\",\"referral\",\"referral\",\"referral\",\"referral\",\"referral\",\"referral\",\"referral\",\"referral\",\"referral\",\"referral\",\"referral\",\"referral\",\"referral\",\"referral\",\"referral\",\"referral\",\"referral\",\"referral\",\"referral\",\"referral\",\"referral\",\"referral\",\"referral\",\"referral\",\"referral\",\"referral\",\"referral\",\"referral\",\"referral\",\"referral\",\"referral\",\"referral\",\"referral\",\"referral\",\"referral\",\"referral\",\"referral\",\"referral\",\"referral\",\"referral\",\"referral\",\"referral\",\"referral\",\"referral\",\"referral\",\"referral\",\"referral\",\"referral\",\"referral\",\"referral\",\"referral\",\"referral\",\"referral\",\"referral\",\"referral\",\"referral\",\"referral\"],\"xaxis\":\"x\",\"y\":[503.6676813501479,289.733774990714,173.87294031066094,136.8551632552083,173.9931278985033,532.5127024323189,388.2875970214645,241.89911502944724,573.0159195352004,463.88558977432064,98.99607308485905,67.62711265799821,432.03587899609033,286.248334943285,103.32282624718468,284.5657087134917,162.57530705347733,422.6612471443848,414.0077408197335,436.7231949219431,66.06467401604729,474.10153474092283,436.7231949219431,373.3843361290095,229.63998106952462,404.75329655587035,170.7480630267591,553.6657178925775,570.6121677783528,234.56767217106216,411.60398906288594,353.43319654717465,282.2821445444865,523.6188209319828,373.98527406822143,466.04896635548346,560.7567855752778,465.2076532405868,205.6024635010489,265.33569465871113,219.90478645429195,223.14985132603618,152.23917449903277,125.67771758586709,71.83367823248147,73.51630446227477,204.64096279830986,367.01439397336344,396.34016540690385,133.73028597130647,584.5539279680688,367.8557070882601,500.4226164784037,357.15901177028843,264.975131895184,392.0134122445782,499.22074059997993,591.8853708264538,411.003051123674,599.2168136848389,505.2301199920989,555.7089068858979,115.10120985573778,326.99192722185137,590.6834949480301,253.31693587447324,398.7439171637514,256.081250394848,278.0755789700033,178.31988106082895,404.87348414371274,139.7396653634254,498.3794274850833,285.88777217975786,249.71130823920188,397.42185369748523,236.85123634006735,541.8873342840244,101.03926207817948,265.69625742223826,370.62002160863483,318.8191712485696,422.9016223200695,192.26164125054487,261.3695042599126,189.8578894936973,517.970004303391,59.09379392118933,345.26044057389294,152.84011243824466,99.71719861191332,182.16588387178507,148.99410962728854,268.82113470614007,358.96182558792407,433.2377548745141,477.82734996403656,594.0487474076167,142.5039798838001,471.21703263270575,590.6834949480301,173.39218995929141,456.4339593280932,306.31966211296225,138.77816466068637,290.3347129299259,321.7036733567867,462.5635263080545,155.60442695861937,456.7945220916203,317.49710778230343,397.42185369748523,476.6254740856128,439.7278846180025,594.4093101711438,338.40974806687734,520.3737560602385,436.3626321584159,68.46842577289486,310.16566492391837,446.3382019493334,245.624930252561,539.0028321758073,392.85472535947486,61.01679532666739,339.97218670882825,117.14439884905822,440.44901014505683,306.80041246433177,578.3041734002651,221.3470375084005,435.28094386783454,190.9395777842787,455.47245862535414,330.5975548571227,382.99934315639985,302.4736593020061,196.34801923718575,585.7558038464925,296.10371714636005,131.56690939014365,353.79375931070183,489.3653583969049,469.7747815785972,548.0169012639857,439.9682597936873,254.75918692858178,246.58643095530005,424.4640609620205,155.484239370777,552.2234668384689,220.98647474487336,306.43984970080464,420.61805815106436,459.43864902415265,478.4282879032485,328.9149286273294,241.0578019145506,477.5869747883518,455.3522710375118,420.7382457389067,136.01385014031166,227.23622931267707,120.14908854511769,137.33591360657783,156.80630283704318,422.6612471443848,185.1705735678445,454.7513330982999,127.72090657918753,238.41367498201828,144.90773164064768,140.34060330263728,148.51335927591904,519.6526305331843,319.4201091877815,489.96629633611684,227.71697966404656,499.46111577566467,300.1900951330009,119.66833819374817,322.1844237081562,342.37593846567586,449.8236419967624,174.95462860124235,329.5158665665413,282.8830824836984,125.55752999802472,477.3465996126671,218.34234781234105,508.23480968815835,165.82037192522156,203.7996496834132,422.06030920517287,444.6555757195401,132.52841009288267,573.2562947108852,115.5819602071073,423.38237267143904,431.79550382040554,530.5897010268408,355.95713589186465,190.9395777842787,142.02322953243058,387.92703425793735,434.07906798941076,218.70291057586817],\"yaxis\":\"y\",\"type\":\"bar\"},{\"alignmentgroup\":\"True\",\"hovertemplate\":\"channel=%{x}\\u003cbr\\u003eroi=%{y}\\u003cextra\\u003e\\u003c\\u002fextra\\u003e\",\"legendgroup\":\"paid advertising\",\"marker\":{\"color\":\"#EF553B\",\"pattern\":{\"shape\":\"\"}},\"name\":\"paid advertising\",\"offsetgroup\":\"paid advertising\",\"orientation\":\"v\",\"showlegend\":true,\"textposition\":\"auto\",\"x\":[\"paid advertising\",\"paid advertising\",\"paid advertising\",\"paid advertising\",\"paid advertising\",\"paid advertising\",\"paid advertising\",\"paid advertising\",\"paid advertising\",\"paid advertising\",\"paid advertising\",\"paid advertising\",\"paid advertising\",\"paid advertising\",\"paid advertising\",\"paid advertising\",\"paid advertising\",\"paid advertising\",\"paid advertising\",\"paid advertising\",\"paid advertising\",\"paid advertising\",\"paid advertising\",\"paid advertising\",\"paid advertising\",\"paid advertising\",\"paid advertising\",\"paid advertising\",\"paid advertising\",\"paid advertising\",\"paid advertising\",\"paid advertising\",\"paid advertising\",\"paid advertising\",\"paid advertising\",\"paid advertising\",\"paid advertising\",\"paid advertising\",\"paid advertising\",\"paid advertising\",\"paid advertising\",\"paid advertising\",\"paid advertising\",\"paid advertising\",\"paid advertising\",\"paid advertising\",\"paid advertising\",\"paid advertising\",\"paid advertising\",\"paid advertising\",\"paid advertising\",\"paid advertising\",\"paid advertising\",\"paid advertising\",\"paid advertising\",\"paid advertising\",\"paid advertising\",\"paid advertising\",\"paid advertising\",\"paid advertising\",\"paid advertising\",\"paid advertising\",\"paid advertising\",\"paid advertising\",\"paid advertising\",\"paid advertising\",\"paid advertising\",\"paid advertising\",\"paid advertising\",\"paid advertising\",\"paid advertising\",\"paid advertising\",\"paid advertising\",\"paid advertising\",\"paid advertising\",\"paid advertising\",\"paid advertising\",\"paid advertising\",\"paid advertising\",\"paid advertising\",\"paid advertising\",\"paid advertising\",\"paid advertising\",\"paid advertising\",\"paid advertising\",\"paid advertising\",\"paid advertising\",\"paid advertising\",\"paid advertising\",\"paid advertising\",\"paid advertising\",\"paid advertising\",\"paid advertising\",\"paid advertising\",\"paid advertising\",\"paid advertising\",\"paid advertising\",\"paid advertising\",\"paid advertising\",\"paid advertising\",\"paid advertising\",\"paid advertising\",\"paid advertising\",\"paid advertising\",\"paid advertising\",\"paid advertising\",\"paid advertising\",\"paid advertising\",\"paid advertising\",\"paid advertising\",\"paid advertising\",\"paid advertising\",\"paid advertising\",\"paid advertising\",\"paid advertising\",\"paid advertising\",\"paid advertising\",\"paid advertising\",\"paid advertising\",\"paid advertising\",\"paid advertising\",\"paid advertising\",\"paid advertising\",\"paid advertising\",\"paid advertising\",\"paid advertising\",\"paid advertising\",\"paid advertising\",\"paid advertising\",\"paid advertising\",\"paid advertising\",\"paid advertising\",\"paid advertising\",\"paid advertising\",\"paid advertising\",\"paid advertising\",\"paid advertising\",\"paid advertising\",\"paid advertising\",\"paid advertising\",\"paid advertising\",\"paid advertising\",\"paid advertising\",\"paid advertising\",\"paid advertising\",\"paid advertising\",\"paid advertising\",\"paid advertising\",\"paid advertising\",\"paid advertising\",\"paid advertising\",\"paid advertising\",\"paid advertising\",\"paid advertising\",\"paid advertising\",\"paid advertising\",\"paid advertising\",\"paid advertising\",\"paid advertising\",\"paid advertising\",\"paid advertising\",\"paid advertising\",\"paid advertising\",\"paid advertising\",\"paid advertising\",\"paid advertising\",\"paid advertising\",\"paid advertising\",\"paid advertising\",\"paid advertising\",\"paid advertising\",\"paid advertising\",\"paid advertising\",\"paid advertising\",\"paid advertising\",\"paid advertising\",\"paid advertising\",\"paid advertising\",\"paid advertising\",\"paid advertising\",\"paid advertising\",\"paid advertising\",\"paid advertising\",\"paid advertising\",\"paid advertising\",\"paid advertising\",\"paid advertising\",\"paid advertising\",\"paid advertising\",\"paid advertising\",\"paid advertising\",\"paid advertising\",\"paid advertising\",\"paid advertising\"],\"xaxis\":\"x\",\"y\":[110.98566032111243,125.63246516076526,41.79100158311129,148.39084129053973,63.892570320973064,145.30384654855013,44.48391188995329,65.53458880075478,158.14443106044308,108.22706927507916,31.971731074016684,117.09396906590038,83.49827096956665,95.84624993752509,22.612225739260953,21.134409107457415,58.309707489715265,137.25795599761977,82.05329470735875,72.46390678543358,91.18291745494504,85.04176834056146,101.19923018161346,148.09527796417902,107.63594262235775,140.60767369637443,57.16029455386807,43.79426412844497,124.08896778977045,54.204661290260994,148.7520853560917,87.50479606023401,134.76208790835156,128.7523002723505,90.9530348677756,77.45564296396996,28.950417071218343,158.40715401720814,55.551116443682,76.40475113690968,116.56852315237023,126.61767624863428,154.40062892654078,40.64158864726409,125.17269998642638,161.46130838960212,40.01762162494705,19.42670988848444,41.49543825675058,84.87756649258328,19.36102914929317,87.40627495144712,98.73620246194089,43.56438154127553,44.221188933188216,159.4908862138641,116.99544795711348,43.69574301965807,66.58548062781507,38.99957016748239,47.176822196795285,41.79100158311129,88.85125121365502,122.28274746201058,102.08592016069558,145.763611722889,72.23402419826414,139.8851855652705,50.493699525954334,125.33690183440456,103.2681734661384,48.32623513264248,55.38691459570382,98.8347235707278,31.314923682104,148.71924498649608,28.7205344840489,103.10397161816023,129.54046914264572,123.13659707149706,112.4963173225116,58.24402675052399,103.95782122764672,127.17596253176006,72.62810863341176,126.25643218308231,95.84624993752509,124.5158925945137,128.62093879396798,54.63158609500424,82.11897544655002,155.94412629753558,32.36581550916429,145.4680483965283,16.536757364068635,129.37626729466754,163.13616723897945,32.10309255239922,105.79688192500224,144.94260248299815,31.80752922603851,69.67247536980467,112.102232887364,135.97718158339003,150.00001940072582,106.48652968651055,66.91388432377141,49.0158828941508,16.503916994473,123.89192557219666,15.748588493773413,85.96129868923921,63.892570320973064,85.3701720365178,53.48217315915704,72.69378937260302,87.04503088589514,117.94781867538687,147.14290724590563,68.35886058597931,30.395393333426245,47.40670478396473,38.60548573233478,118.63746643689518,69.015667977892,26.88147378669339,44.877996325100895,94.9924003280386,75.45238041863628,80.77252029312902,100.54242278970078,108.03002705750536,147.86539537700958,98.57200061396273,51.28186839624956,154.46630966573204,132.16769871029646,56.733369749124826,78.5393751606259,163.13616723897945,126.48631477025175,91.80688447726209,129.96739394738896,24.12288274066012,110.16465108122158,48.85168104617263,82.02045433776311,91.64268262928393,50.75642248271941,160.0820128665855,122.80819337554072,82.90714431684523,113.9412935847195,150.06570013991708,53.547853898348315,78.96629996536915,47.96499106709051,152.0032819460595,153.11985451231106,74.401488591576,133.15290979816547,40.148983103329584,151.67487825010315,160.24621471456365,111.83950993059892,127.14312216216443,21.200089846648684,135.97718158339003,90.19770636707602,84.61484353581821,152.10180305484639,29.640064832726658,125.82950737833906,92.56221297796168,98.70336209234526,71.18313237120385,21.462812803413758,139.85234519567487,75.61658226661446,129.01502322911557,141.98696921939109,77.2914411159918,148.42368166013537,31.906050334825416,111.83950993059892,25.53501863327239,43.26881821491482,147.86539537700958,64.91062177843773,98.40779876598455,159.9834917577986,137.4878385847892,161.46130838960212,25.69922048125056],\"yaxis\":\"y\",\"type\":\"bar\"},{\"alignmentgroup\":\"True\",\"hovertemplate\":\"channel=%{x}\\u003cbr\\u003eroi=%{y}\\u003cextra\\u003e\\u003c\\u002fextra\\u003e\",\"legendgroup\":\"email marketing\",\"marker\":{\"color\":\"#00cc96\",\"pattern\":{\"shape\":\"\"}},\"name\":\"email marketing\",\"offsetgroup\":\"email marketing\",\"orientation\":\"v\",\"showlegend\":true,\"textposition\":\"auto\",\"x\":[\"email marketing\",\"email marketing\",\"email marketing\",\"email marketing\",\"email marketing\",\"email marketing\",\"email marketing\",\"email marketing\",\"email marketing\",\"email marketing\",\"email marketing\",\"email marketing\",\"email marketing\",\"email marketing\",\"email marketing\",\"email marketing\",\"email marketing\",\"email marketing\",\"email marketing\",\"email marketing\",\"email marketing\",\"email marketing\",\"email marketing\",\"email marketing\",\"email marketing\",\"email marketing\",\"email marketing\",\"email marketing\",\"email marketing\",\"email marketing\",\"email marketing\",\"email marketing\",\"email marketing\",\"email marketing\",\"email marketing\",\"email marketing\",\"email marketing\",\"email marketing\",\"email marketing\",\"email marketing\",\"email marketing\",\"email marketing\",\"email marketing\",\"email marketing\",\"email marketing\",\"email marketing\",\"email marketing\",\"email marketing\",\"email marketing\",\"email marketing\",\"email marketing\",\"email marketing\",\"email marketing\",\"email marketing\",\"email marketing\",\"email marketing\",\"email marketing\",\"email marketing\",\"email marketing\",\"email marketing\",\"email marketing\",\"email marketing\",\"email marketing\",\"email marketing\",\"email marketing\",\"email marketing\",\"email marketing\",\"email marketing\",\"email marketing\",\"email marketing\",\"email marketing\",\"email marketing\",\"email marketing\",\"email marketing\",\"email marketing\",\"email marketing\",\"email marketing\",\"email marketing\",\"email marketing\",\"email marketing\",\"email marketing\",\"email marketing\",\"email marketing\",\"email marketing\",\"email marketing\",\"email marketing\",\"email marketing\",\"email marketing\",\"email marketing\",\"email marketing\",\"email marketing\",\"email marketing\",\"email marketing\",\"email marketing\",\"email marketing\",\"email marketing\",\"email marketing\",\"email marketing\",\"email marketing\",\"email marketing\",\"email marketing\",\"email marketing\",\"email marketing\",\"email marketing\",\"email marketing\",\"email marketing\",\"email marketing\",\"email marketing\",\"email marketing\",\"email marketing\",\"email marketing\",\"email marketing\",\"email marketing\",\"email marketing\",\"email marketing\",\"email marketing\",\"email marketing\",\"email marketing\",\"email marketing\",\"email marketing\",\"email marketing\",\"email marketing\",\"email marketing\",\"email marketing\",\"email marketing\",\"email marketing\",\"email marketing\",\"email marketing\",\"email marketing\",\"email marketing\",\"email marketing\",\"email marketing\",\"email marketing\",\"email marketing\",\"email marketing\",\"email marketing\",\"email marketing\",\"email marketing\",\"email marketing\",\"email marketing\",\"email marketing\",\"email marketing\",\"email marketing\",\"email marketing\",\"email marketing\",\"email marketing\",\"email marketing\",\"email marketing\",\"email marketing\",\"email marketing\",\"email marketing\",\"email marketing\",\"email marketing\",\"email marketing\",\"email marketing\",\"email marketing\",\"email marketing\",\"email marketing\",\"email marketing\",\"email marketing\",\"email marketing\",\"email marketing\",\"email marketing\",\"email marketing\",\"email marketing\",\"email marketing\",\"email marketing\",\"email marketing\",\"email marketing\",\"email marketing\",\"email marketing\",\"email marketing\",\"email marketing\",\"email marketing\",\"email marketing\",\"email marketing\",\"email marketing\",\"email marketing\",\"email marketing\",\"email marketing\",\"email marketing\",\"email marketing\",\"email marketing\",\"email marketing\",\"email marketing\",\"email marketing\",\"email marketing\",\"email marketing\",\"email marketing\",\"email marketing\",\"email marketing\",\"email marketing\",\"email marketing\",\"email marketing\",\"email marketing\",\"email marketing\",\"email marketing\",\"email marketing\",\"email marketing\",\"email marketing\",\"email marketing\",\"email marketing\",\"email marketing\",\"email marketing\",\"email marketing\",\"email marketing\",\"email marketing\",\"email marketing\",\"email marketing\",\"email marketing\",\"email marketing\",\"email marketing\",\"email marketing\",\"email marketing\"],\"xaxis\":\"x\",\"y\":[602.0959249304101,132.42830197575444,571.4074154759866,677.9594451966248,762.2098873013153,748.4858333838092,358.30335603471013,891.2541164978664,826.6366959696082,659.6607066399498,372.9804692520431,523.9450623446111,660.804377799742,740.4801352652639,561.686210617753,329.90218889987096,873.1459898011569,521.4671081650613,134.52503243537342,624.2069006863921,819.0122215709937,356.2066255750911,558.0645852784111,941.9568712486531,864.1872323827848,489.6349275508456,635.2623885643833,632.9750462447989,321.8964907813257,655.0860220007811,661.1856015196727,138.14665777471532,202.3828545830428,518.0360946856847,241.45828587594232,377.9363776111426,499.16552054911375,290.25492202707534,472.8610838738936,142.91195427384943,670.3349707980102,476.6733210732009,193.99593274456683,900.0222620562731,563.782941077372,723.8969034482773,550.630722739762,173.98168744820367,629.7346446253878,699.8798090926415,697.9736904929879,552.9180650593463,231.54646915774342,598.6649114510335,900.2128739162386,605.1457146898558,477.4357685130623,418.536703783765,151.4894879722908,685.5839195952392,334.4768735390397,675.6721028770403,312.17528592309213,857.5158172839971,312.3658977830575,395.28205686799066,940.6225882288956,473.62353131375505,249.4639839944876,902.8814399557536,221.06281685964842,413.7714072846309,234.7868707771546,722.5626204285197,884.3920895391134,646.5084883023397,698.9267497928147,174.93474674803048,522.9920030447842,613.9138602482626,653.9423508409889,781.4616851578171,411.48406496504657,482.58228873212715,737.0491217858873,625.7317955661151,943.6723779883414,153.96744215184052,900.7847094961346,189.42124810539812,611.2452942087475,612.3889653685396,436.8354423404399,752.6792943030472,680.0561756562437,689.9679923744426,659.0888710600537,317.32180614215696,508.6961135473819,550.0588871598658,353.3474476756107,392.42287896851025,810.4346878725523,941.385035668757,385.56085200975707,655.4672457207118,253.4668330537602,273.0998546301926,176.4596416277534,212.48528316120706,459.3276418163528,271.95618347040045,163.49803515010868,778.793119118302,712.2695799903901,922.3238496722207,336.38299213869334,525.4699572243339,710.3634613907365,499.16552054911375,408.05305148567004,432.0701458413058,747.913997803913,464.0929383154869,496.30634264963334,566.0702833969564,587.9906472929731,674.3378198572827,602.2865367903754,842.8387040666641,876.3863914205681,551.7743938995541,855.9909224042742,915.0805989935369,578.460054294705,517.6548709657541,230.0215742780205,780.1274021380596,907.6467364548877,701.0234802524337,661.5668252396034,102.88346368112309,888.5855504583513,390.5167603688566,535.7629976624636,824.3493536500239,387.8481943293415,524.5168979245071,458.374582516526,435.6917711806477,240.69583843608086,102.88346368112309,240.5052265761155,816.3436555314786,265.47538023157813,141.76828311405725,352.5850002357492,235.54931821701604,880.3892404798407,589.3249303127307,194.7583801844283,646.127264582409,398.90368220733257,495.3532833498065,650.7019492215777,335.62054469883185,739.5270759654371,591.9934963522458,589.8967658926268,432.8325932811673,94.30592998268173,901.5471569359961,229.25912683815906,587.8000354330078,129.37851221630862,442.55379813940084,470.1925178343785,261.09130745237474,323.80260938097933,351.441329075957,773.2653751793065,640.0276850635174,636.2154478642101,255.18233979344848,828.1615908493311,551.3931701796233,696.0675718933343,766.5939600805187,417.39303262397283,96.78388416223146,311.2222266232653,669.763135218114,904.4063348354765,340.95767677786205,330.6646363397324,385.1796282898264,461.80559599590254,778.6025072583366,887.0606555786284,570.073132456229,884.773313259044,385.37024014979175,882.2953590794943,114.70139899897563,703.1202107120527,642.5056392430671,819.7746690108552,594.0902268118648,491.3504342905339,837.8827957075647,444.2693048790891,283.3928950683223,654.514186420885,917.7491650330519],\"yaxis\":\"y\",\"type\":\"bar\"},{\"alignmentgroup\":\"True\",\"hovertemplate\":\"channel=%{x}\\u003cbr\\u003eroi=%{y}\\u003cextra\\u003e\\u003c\\u002fextra\\u003e\",\"legendgroup\":\"social media\",\"marker\":{\"color\":\"#ab63fa\",\"pattern\":{\"shape\":\"\"}},\"name\":\"social media\",\"offsetgroup\":\"social media\",\"orientation\":\"v\",\"showlegend\":true,\"textposition\":\"auto\",\"x\":[\"social media\",\"social media\",\"social media\",\"social media\",\"social media\",\"social media\",\"social media\",\"social media\",\"social media\",\"social media\",\"social media\",\"social media\",\"social media\",\"social media\",\"social media\",\"social media\",\"social media\",\"social media\",\"social media\",\"social media\",\"social media\",\"social media\",\"social media\",\"social media\",\"social media\",\"social media\",\"social media\",\"social media\",\"social media\",\"social media\",\"social media\",\"social media\",\"social media\",\"social media\",\"social media\",\"social media\",\"social media\",\"social media\",\"social media\",\"social media\",\"social media\",\"social media\",\"social media\",\"social media\",\"social media\",\"social media\",\"social media\",\"social media\",\"social media\",\"social media\",\"social media\",\"social media\",\"social media\",\"social media\",\"social media\",\"social media\",\"social media\",\"social media\",\"social media\",\"social media\",\"social media\",\"social media\",\"social media\",\"social media\",\"social media\",\"social media\",\"social media\",\"social media\",\"social media\",\"social media\",\"social media\",\"social media\",\"social media\",\"social media\",\"social media\",\"social media\",\"social media\",\"social media\",\"social media\",\"social media\",\"social media\",\"social media\",\"social media\",\"social media\",\"social media\",\"social media\",\"social media\",\"social media\",\"social media\",\"social media\",\"social media\",\"social media\",\"social media\",\"social media\",\"social media\",\"social media\",\"social media\",\"social media\",\"social media\",\"social media\",\"social media\",\"social media\",\"social media\",\"social media\",\"social media\",\"social media\",\"social media\",\"social media\",\"social media\",\"social media\",\"social media\",\"social media\",\"social media\",\"social media\",\"social media\",\"social media\",\"social media\",\"social media\",\"social media\",\"social media\",\"social media\",\"social media\",\"social media\",\"social media\",\"social media\",\"social media\",\"social media\",\"social media\",\"social media\",\"social media\",\"social media\",\"social media\",\"social media\",\"social media\",\"social media\",\"social media\",\"social media\",\"social media\",\"social media\",\"social media\",\"social media\",\"social media\",\"social media\",\"social media\",\"social media\",\"social media\",\"social media\",\"social media\",\"social media\",\"social media\",\"social media\",\"social media\",\"social media\",\"social media\",\"social media\",\"social media\",\"social media\",\"social media\",\"social media\",\"social media\",\"social media\",\"social media\",\"social media\",\"social media\",\"social media\",\"social media\",\"social media\",\"social media\",\"social media\",\"social media\",\"social media\",\"social media\",\"social media\",\"social media\",\"social media\",\"social media\",\"social media\",\"social media\",\"social media\",\"social media\",\"social media\",\"social media\",\"social media\",\"social media\",\"social media\"],\"xaxis\":\"x\",\"y\":[158.22356442860632,121.76974836205699,222.85576130521824,101.8668028084812,353.900944923762,214.16131666865618,209.5522134878281,194.57262815013684,151.8336713824583,202.95281575164245,400.82999549219335,331.2744383996969,412.4575057892824,116.1131217310407,109.19946695979858,163.98494340464143,81.9638572549054,431.73193727274526,163.2516769895097,505.2680834759568,188.81124917410176,82.80187601505597,362.3858848702864,154.76673704298526,311.8952545712152,87.51573154090286,201.06727354130368,121.97925305209462,156.0237651832111,462.0053649831842,146.80555882155494,453.6251773816786,328.86513446426403,188.4969921390453,320.17068982770195,449.5398359259446,185.14491709844305,422.51373091108906,414.4478003446399,485.78414730245635,241.18742168351173,138.94913294514345,280.574303410588,235.42604270747663,442.6261811547025,294.7158699881287,407.7436502634355,283.4026167260962,412.1432487542259,341.2259111764848,284.24063548624673,170.5843411408271,350.96787926323503,445.87350385028594,81.85910490988658,268.63253607844257,311.05723581106463,231.9692153218556,256.3765117112406,309.2764459457447,324.25603128343596,81.75435256486777,389.6214945751796,389.72624692019843,119.46519677164294,151.2051573123454,493.4310684888302,232.5977293919685,77.87851579917142,113.07530372549492,260.56660551199343,78.08802048920907,411.82899171916944,310.53347408597057,470.9093143097839,478.24197846110127,486.41266137256923,263.9186805525957,286.8594441117172,361.2336090750794,421.36145511588205,248.31058114479148,224.741303515557,310.42872174095174,342.37818697169183,113.18005607051374,270.62283063380016,431.31292789266996,134.4447821093342,112.65629434541964,131.72122113884487,202.1147969914919,179.0692810873515,228.4076355912157,56.50903741533216,85.83969402060174,97.57195666270958,109.61847633987387,115.37985531590897,203.05756809666127,98.40997542286014,337.24532206576964,62.68942577144254,88.98226437116635,200.43875947119076,191.22055310953462,209.76171817786573,230.6074348366109,208.81894707269637,422.6184832561079,446.60677026541765,163.56593402456613,430.37015678750055,496.1546294593195,146.91031116657376,331.4839430897345,515.5338132878012,90.23929251139218,112.02778027530672,394.8591118261206,393.70683603091356,453.83468207171626,480.65128239653416,515.63856563282,483.4795957120423,288.744986322056,125.43608043771567,362.59538956032407,508.7249108615779,187.13521165380064,491.1265168984161,358.6148004496089,246.42503893445272,227.25535979600866,266.642241523085,375.7941850326954,105.21887784908344,113.4943131055702,431.4176802376888,269.26105014855546,407.9531549534731,351.7011456783668,417.06660897011045,293.0398324678276,142.51071267578334,460.11982277284545,423.8755113963337,121.8745007070758,53.366467064767555,76.09772593385149,409.21018309369896,265.0709563478027,398.10643452170405,279.7362846504375,366.89023570609567,381.55556400873047,214.58032604873145,441.89291473957076,505.163331130938,72.53614620321162,193.315600009911,287.592710526849,58.18507493563328,431.1034232026323,459.4913087027325,337.66433144584494,70.33634695781639,371.2898341968861,235.42604270747663,446.0830085403236,461.9006126381654,445.6639991602483,228.72189262627217,467.03347754408753,95.68641445237083,213.11379321846798,308.3336748405753,436.65529748862974,398.9444532818546,315.0378249217798,318.38989996238206,151.30990965736422,471.3283236898592,293.6683465379405,219.08467688454073],\"yaxis\":\"y\",\"type\":\"bar\"}],                        {\"template\":{\"data\":{\"histogram2dcontour\":[{\"type\":\"histogram2dcontour\",\"colorbar\":{\"outlinewidth\":0,\"ticks\":\"\"},\"colorscale\":[[0.0,\"#0d0887\"],[0.1111111111111111,\"#46039f\"],[0.2222222222222222,\"#7201a8\"],[0.3333333333333333,\"#9c179e\"],[0.4444444444444444,\"#bd3786\"],[0.5555555555555556,\"#d8576b\"],[0.6666666666666666,\"#ed7953\"],[0.7777777777777778,\"#fb9f3a\"],[0.8888888888888888,\"#fdca26\"],[1.0,\"#f0f921\"]]}],\"choropleth\":[{\"type\":\"choropleth\",\"colorbar\":{\"outlinewidth\":0,\"ticks\":\"\"}}],\"histogram2d\":[{\"type\":\"histogram2d\",\"colorbar\":{\"outlinewidth\":0,\"ticks\":\"\"},\"colorscale\":[[0.0,\"#0d0887\"],[0.1111111111111111,\"#46039f\"],[0.2222222222222222,\"#7201a8\"],[0.3333333333333333,\"#9c179e\"],[0.4444444444444444,\"#bd3786\"],[0.5555555555555556,\"#d8576b\"],[0.6666666666666666,\"#ed7953\"],[0.7777777777777778,\"#fb9f3a\"],[0.8888888888888888,\"#fdca26\"],[1.0,\"#f0f921\"]]}],\"heatmap\":[{\"type\":\"heatmap\",\"colorbar\":{\"outlinewidth\":0,\"ticks\":\"\"},\"colorscale\":[[0.0,\"#0d0887\"],[0.1111111111111111,\"#46039f\"],[0.2222222222222222,\"#7201a8\"],[0.3333333333333333,\"#9c179e\"],[0.4444444444444444,\"#bd3786\"],[0.5555555555555556,\"#d8576b\"],[0.6666666666666666,\"#ed7953\"],[0.7777777777777778,\"#fb9f3a\"],[0.8888888888888888,\"#fdca26\"],[1.0,\"#f0f921\"]]}],\"heatmapgl\":[{\"type\":\"heatmapgl\",\"colorbar\":{\"outlinewidth\":0,\"ticks\":\"\"},\"colorscale\":[[0.0,\"#0d0887\"],[0.1111111111111111,\"#46039f\"],[0.2222222222222222,\"#7201a8\"],[0.3333333333333333,\"#9c179e\"],[0.4444444444444444,\"#bd3786\"],[0.5555555555555556,\"#d8576b\"],[0.6666666666666666,\"#ed7953\"],[0.7777777777777778,\"#fb9f3a\"],[0.8888888888888888,\"#fdca26\"],[1.0,\"#f0f921\"]]}],\"contourcarpet\":[{\"type\":\"contourcarpet\",\"colorbar\":{\"outlinewidth\":0,\"ticks\":\"\"}}],\"contour\":[{\"type\":\"contour\",\"colorbar\":{\"outlinewidth\":0,\"ticks\":\"\"},\"colorscale\":[[0.0,\"#0d0887\"],[0.1111111111111111,\"#46039f\"],[0.2222222222222222,\"#7201a8\"],[0.3333333333333333,\"#9c179e\"],[0.4444444444444444,\"#bd3786\"],[0.5555555555555556,\"#d8576b\"],[0.6666666666666666,\"#ed7953\"],[0.7777777777777778,\"#fb9f3a\"],[0.8888888888888888,\"#fdca26\"],[1.0,\"#f0f921\"]]}],\"surface\":[{\"type\":\"surface\",\"colorbar\":{\"outlinewidth\":0,\"ticks\":\"\"},\"colorscale\":[[0.0,\"#0d0887\"],[0.1111111111111111,\"#46039f\"],[0.2222222222222222,\"#7201a8\"],[0.3333333333333333,\"#9c179e\"],[0.4444444444444444,\"#bd3786\"],[0.5555555555555556,\"#d8576b\"],[0.6666666666666666,\"#ed7953\"],[0.7777777777777778,\"#fb9f3a\"],[0.8888888888888888,\"#fdca26\"],[1.0,\"#f0f921\"]]}],\"mesh3d\":[{\"type\":\"mesh3d\",\"colorbar\":{\"outlinewidth\":0,\"ticks\":\"\"}}],\"scatter\":[{\"fillpattern\":{\"fillmode\":\"overlay\",\"size\":10,\"solidity\":0.2},\"type\":\"scatter\"}],\"parcoords\":[{\"type\":\"parcoords\",\"line\":{\"colorbar\":{\"outlinewidth\":0,\"ticks\":\"\"}}}],\"scatterpolargl\":[{\"type\":\"scatterpolargl\",\"marker\":{\"colorbar\":{\"outlinewidth\":0,\"ticks\":\"\"}}}],\"bar\":[{\"error_x\":{\"color\":\"#2a3f5f\"},\"error_y\":{\"color\":\"#2a3f5f\"},\"marker\":{\"line\":{\"color\":\"white\",\"width\":0.5},\"pattern\":{\"fillmode\":\"overlay\",\"size\":10,\"solidity\":0.2}},\"type\":\"bar\"}],\"scattergeo\":[{\"type\":\"scattergeo\",\"marker\":{\"colorbar\":{\"outlinewidth\":0,\"ticks\":\"\"}}}],\"scatterpolar\":[{\"type\":\"scatterpolar\",\"marker\":{\"colorbar\":{\"outlinewidth\":0,\"ticks\":\"\"}}}],\"histogram\":[{\"marker\":{\"pattern\":{\"fillmode\":\"overlay\",\"size\":10,\"solidity\":0.2}},\"type\":\"histogram\"}],\"scattergl\":[{\"type\":\"scattergl\",\"marker\":{\"colorbar\":{\"outlinewidth\":0,\"ticks\":\"\"}}}],\"scatter3d\":[{\"type\":\"scatter3d\",\"line\":{\"colorbar\":{\"outlinewidth\":0,\"ticks\":\"\"}},\"marker\":{\"colorbar\":{\"outlinewidth\":0,\"ticks\":\"\"}}}],\"scattermapbox\":[{\"type\":\"scattermapbox\",\"marker\":{\"colorbar\":{\"outlinewidth\":0,\"ticks\":\"\"}}}],\"scatterternary\":[{\"type\":\"scatterternary\",\"marker\":{\"colorbar\":{\"outlinewidth\":0,\"ticks\":\"\"}}}],\"scattercarpet\":[{\"type\":\"scattercarpet\",\"marker\":{\"colorbar\":{\"outlinewidth\":0,\"ticks\":\"\"}}}],\"carpet\":[{\"aaxis\":{\"endlinecolor\":\"#2a3f5f\",\"gridcolor\":\"#C8D4E3\",\"linecolor\":\"#C8D4E3\",\"minorgridcolor\":\"#C8D4E3\",\"startlinecolor\":\"#2a3f5f\"},\"baxis\":{\"endlinecolor\":\"#2a3f5f\",\"gridcolor\":\"#C8D4E3\",\"linecolor\":\"#C8D4E3\",\"minorgridcolor\":\"#C8D4E3\",\"startlinecolor\":\"#2a3f5f\"},\"type\":\"carpet\"}],\"table\":[{\"cells\":{\"fill\":{\"color\":\"#EBF0F8\"},\"line\":{\"color\":\"white\"}},\"header\":{\"fill\":{\"color\":\"#C8D4E3\"},\"line\":{\"color\":\"white\"}},\"type\":\"table\"}],\"barpolar\":[{\"marker\":{\"line\":{\"color\":\"white\",\"width\":0.5},\"pattern\":{\"fillmode\":\"overlay\",\"size\":10,\"solidity\":0.2}},\"type\":\"barpolar\"}],\"pie\":[{\"automargin\":true,\"type\":\"pie\"}]},\"layout\":{\"autotypenumbers\":\"strict\",\"colorway\":[\"#636efa\",\"#EF553B\",\"#00cc96\",\"#ab63fa\",\"#FFA15A\",\"#19d3f3\",\"#FF6692\",\"#B6E880\",\"#FF97FF\",\"#FECB52\"],\"font\":{\"color\":\"#2a3f5f\"},\"hovermode\":\"closest\",\"hoverlabel\":{\"align\":\"left\"},\"paper_bgcolor\":\"white\",\"plot_bgcolor\":\"white\",\"polar\":{\"bgcolor\":\"white\",\"angularaxis\":{\"gridcolor\":\"#EBF0F8\",\"linecolor\":\"#EBF0F8\",\"ticks\":\"\"},\"radialaxis\":{\"gridcolor\":\"#EBF0F8\",\"linecolor\":\"#EBF0F8\",\"ticks\":\"\"}},\"ternary\":{\"bgcolor\":\"white\",\"aaxis\":{\"gridcolor\":\"#DFE8F3\",\"linecolor\":\"#A2B1C6\",\"ticks\":\"\"},\"baxis\":{\"gridcolor\":\"#DFE8F3\",\"linecolor\":\"#A2B1C6\",\"ticks\":\"\"},\"caxis\":{\"gridcolor\":\"#DFE8F3\",\"linecolor\":\"#A2B1C6\",\"ticks\":\"\"}},\"coloraxis\":{\"colorbar\":{\"outlinewidth\":0,\"ticks\":\"\"}},\"colorscale\":{\"sequential\":[[0.0,\"#0d0887\"],[0.1111111111111111,\"#46039f\"],[0.2222222222222222,\"#7201a8\"],[0.3333333333333333,\"#9c179e\"],[0.4444444444444444,\"#bd3786\"],[0.5555555555555556,\"#d8576b\"],[0.6666666666666666,\"#ed7953\"],[0.7777777777777778,\"#fb9f3a\"],[0.8888888888888888,\"#fdca26\"],[1.0,\"#f0f921\"]],\"sequentialminus\":[[0.0,\"#0d0887\"],[0.1111111111111111,\"#46039f\"],[0.2222222222222222,\"#7201a8\"],[0.3333333333333333,\"#9c179e\"],[0.4444444444444444,\"#bd3786\"],[0.5555555555555556,\"#d8576b\"],[0.6666666666666666,\"#ed7953\"],[0.7777777777777778,\"#fb9f3a\"],[0.8888888888888888,\"#fdca26\"],[1.0,\"#f0f921\"]],\"diverging\":[[0,\"#8e0152\"],[0.1,\"#c51b7d\"],[0.2,\"#de77ae\"],[0.3,\"#f1b6da\"],[0.4,\"#fde0ef\"],[0.5,\"#f7f7f7\"],[0.6,\"#e6f5d0\"],[0.7,\"#b8e186\"],[0.8,\"#7fbc41\"],[0.9,\"#4d9221\"],[1,\"#276419\"]]},\"xaxis\":{\"gridcolor\":\"#EBF0F8\",\"linecolor\":\"#EBF0F8\",\"ticks\":\"\",\"title\":{\"standoff\":15},\"zerolinecolor\":\"#EBF0F8\",\"automargin\":true,\"zerolinewidth\":2},\"yaxis\":{\"gridcolor\":\"#EBF0F8\",\"linecolor\":\"#EBF0F8\",\"ticks\":\"\",\"title\":{\"standoff\":15},\"zerolinecolor\":\"#EBF0F8\",\"automargin\":true,\"zerolinewidth\":2},\"scene\":{\"xaxis\":{\"backgroundcolor\":\"white\",\"gridcolor\":\"#DFE8F3\",\"linecolor\":\"#EBF0F8\",\"showbackground\":true,\"ticks\":\"\",\"zerolinecolor\":\"#EBF0F8\",\"gridwidth\":2},\"yaxis\":{\"backgroundcolor\":\"white\",\"gridcolor\":\"#DFE8F3\",\"linecolor\":\"#EBF0F8\",\"showbackground\":true,\"ticks\":\"\",\"zerolinecolor\":\"#EBF0F8\",\"gridwidth\":2},\"zaxis\":{\"backgroundcolor\":\"white\",\"gridcolor\":\"#DFE8F3\",\"linecolor\":\"#EBF0F8\",\"showbackground\":true,\"ticks\":\"\",\"zerolinecolor\":\"#EBF0F8\",\"gridwidth\":2}},\"shapedefaults\":{\"line\":{\"color\":\"#2a3f5f\"}},\"annotationdefaults\":{\"arrowcolor\":\"#2a3f5f\",\"arrowhead\":0,\"arrowwidth\":1},\"geo\":{\"bgcolor\":\"white\",\"landcolor\":\"white\",\"subunitcolor\":\"#C8D4E3\",\"showland\":true,\"showlakes\":true,\"lakecolor\":\"white\"},\"title\":{\"x\":0.05},\"mapbox\":{\"style\":\"light\"}}},\"xaxis\":{\"anchor\":\"y\",\"domain\":[0.0,1.0],\"title\":{\"text\":\"Channel\"},\"categoryorder\":\"array\",\"categoryarray\":[\"referral\",\"paid advertising\",\"email marketing\",\"social media\"]},\"yaxis\":{\"anchor\":\"x\",\"domain\":[0.0,1.0],\"title\":{\"text\":\"ROI\"}},\"legend\":{\"title\":{\"text\":\"channel\"},\"tracegroupgap\":0},\"title\":{\"text\":\"Return on Investment(ROI) by Channel\"},\"barmode\":\"relative\"},                        {\"responsive\": true}                    ).then(function(){\n",
       "                            \n",
       "var gd = document.getElementById('71b42a67-cbb4-4f36-9d04-03dda1f8aad9');\n",
       "var x = new MutationObserver(function (mutations, observer) {{\n",
       "        var display = window.getComputedStyle(gd).display;\n",
       "        if (!display || display === 'none') {{\n",
       "            console.log([gd, 'removed!']);\n",
       "            Plotly.purge(gd);\n",
       "            observer.disconnect();\n",
       "        }}\n",
       "}});\n",
       "\n",
       "// Listen for the removal of the full notebook cells\n",
       "var notebookContainer = gd.closest('#notebook-container');\n",
       "if (notebookContainer) {{\n",
       "    x.observe(notebookContainer, {childList: true});\n",
       "}}\n",
       "\n",
       "// Listen for the clearing of the current output cell\n",
       "var outputEl = gd.closest('.output');\n",
       "if (outputEl) {{\n",
       "    x.observe(outputEl, {childList: true});\n",
       "}}\n",
       "\n",
       "                        })                };                });            </script>        </div>"
      ]
     },
     "metadata": {},
     "output_type": "display_data"
    }
   ],
   "source": [
    "fig = px.bar(data, x='channel', y='roi', color='channel', title='Return on Investment(ROI) by Channel')\n",
    "fig.update_layout(xaxis_title='Channel', yaxis_title='ROI')\n",
    "fig.show()"
   ]
  },
  {
   "cell_type": "markdown",
   "id": "6fc8d41a-a6fb-4c3f-b64e-acb1b354929f",
   "metadata": {},
   "source": [
    "Conclusion:\n",
    "\n",
    "1. Social Media Marketing has the highest customer conversion rate followed by referral, email marketing and paid marketing respectively.\n",
    "\n",
    "2. Customer Acquisition Cost is low for email marketing and also the revenue generated by email marketing is the highest which implies that email marketing is the most effective and profitable marketing channel followed by refferal, paid advertising and social media respectively.\n",
    "   \n",
    "3. ROI is high for email marketing, followed by referral, social meadia and paid advertising respectively."
   ]
  },
  {
   "cell_type": "code",
   "execution_count": null,
   "id": "ce509203-3683-45f3-a7c9-e39649b410f0",
   "metadata": {},
   "outputs": [],
   "source": []
  }
 ],
 "metadata": {
  "kernelspec": {
   "display_name": "Python 3 (ipykernel)",
   "language": "python",
   "name": "python3"
  },
  "language_info": {
   "codemirror_mode": {
    "name": "ipython",
    "version": 3
   },
   "file_extension": ".py",
   "mimetype": "text/x-python",
   "name": "python",
   "nbconvert_exporter": "python",
   "pygments_lexer": "ipython3",
   "version": "3.12.2"
  }
 },
 "nbformat": 4,
 "nbformat_minor": 5
}
